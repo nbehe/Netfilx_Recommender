{
 "cells": [
  {
   "cell_type": "markdown",
   "metadata": {},
   "source": [
    "## DS 5110: Big Data Systems\n",
    "# Final Project: Netflix Recommender System & Ratings Predictions\n",
    "### Primary (Consolidated) Code File\n",
    "#### Lauren Neal (ln9bv) | Melanie Sattler (ms9py) | Nick Thompson (nat3fa) | Nima Beheshti (nb9pp)"
   ]
  },
  {
   "cell_type": "code",
   "execution_count": 9,
   "metadata": {},
   "outputs": [],
   "source": [
    "# import necessary modules\n",
    "import pandas as pd\n",
    "import numpy as np\n",
    "import matplotlib.pyplot as plt\n",
    "import seaborn as sns\n",
    "\n",
    "## to assess time taken to train models\n",
    "from datetime import datetime\n",
    "%matplotlib inline"
   ]
  },
  {
   "cell_type": "markdown",
   "metadata": {},
   "source": [
    "# Exploratory Data Analysis"
   ]
  },
  {
   "cell_type": "code",
   "execution_count": 11,
   "metadata": {},
   "outputs": [
    {
     "data": {
      "text/html": [
       "<div>\n",
       "<style scoped>\n",
       "    .dataframe tbody tr th:only-of-type {\n",
       "        vertical-align: middle;\n",
       "    }\n",
       "\n",
       "    .dataframe tbody tr th {\n",
       "        vertical-align: top;\n",
       "    }\n",
       "\n",
       "    .dataframe thead th {\n",
       "        text-align: right;\n",
       "    }\n",
       "</style>\n",
       "<table border=\"1\" class=\"dataframe\">\n",
       "  <thead>\n",
       "    <tr style=\"text-align: right;\">\n",
       "      <th></th>\n",
       "      <th>id</th>\n",
       "      <th>year</th>\n",
       "      <th>Runtime</th>\n",
       "      <th>Rating</th>\n",
       "    </tr>\n",
       "  </thead>\n",
       "  <tbody>\n",
       "    <tr>\n",
       "      <th>count</th>\n",
       "      <td>17769.000000</td>\n",
       "      <td>17762.000000</td>\n",
       "      <td>11742.000000</td>\n",
       "      <td>11964.000000</td>\n",
       "    </tr>\n",
       "    <tr>\n",
       "      <th>mean</th>\n",
       "      <td>8885.635151</td>\n",
       "      <td>1990.263484</td>\n",
       "      <td>103.903083</td>\n",
       "      <td>6.521481</td>\n",
       "    </tr>\n",
       "    <tr>\n",
       "      <th>std</th>\n",
       "      <td>5130.014196</td>\n",
       "      <td>16.508332</td>\n",
       "      <td>49.381879</td>\n",
       "      <td>1.224427</td>\n",
       "    </tr>\n",
       "    <tr>\n",
       "      <th>min</th>\n",
       "      <td>1.000000</td>\n",
       "      <td>1896.000000</td>\n",
       "      <td>3.000000</td>\n",
       "      <td>1.400000</td>\n",
       "    </tr>\n",
       "    <tr>\n",
       "      <th>25%</th>\n",
       "      <td>4443.000000</td>\n",
       "      <td>1985.000000</td>\n",
       "      <td>89.000000</td>\n",
       "      <td>5.800000</td>\n",
       "    </tr>\n",
       "    <tr>\n",
       "      <th>50%</th>\n",
       "      <td>8886.000000</td>\n",
       "      <td>1997.000000</td>\n",
       "      <td>98.000000</td>\n",
       "      <td>6.700000</td>\n",
       "    </tr>\n",
       "    <tr>\n",
       "      <th>75%</th>\n",
       "      <td>13328.000000</td>\n",
       "      <td>2002.000000</td>\n",
       "      <td>113.000000</td>\n",
       "      <td>7.400000</td>\n",
       "    </tr>\n",
       "    <tr>\n",
       "      <th>max</th>\n",
       "      <td>17770.000000</td>\n",
       "      <td>2005.000000</td>\n",
       "      <td>1620.000000</td>\n",
       "      <td>9.500000</td>\n",
       "    </tr>\n",
       "  </tbody>\n",
       "</table>\n",
       "</div>"
      ],
      "text/plain": [
       "                 id          year       Runtime        Rating\n",
       "count  17769.000000  17762.000000  11742.000000  11964.000000\n",
       "mean    8885.635151   1990.263484    103.903083      6.521481\n",
       "std     5130.014196     16.508332     49.381879      1.224427\n",
       "min        1.000000   1896.000000      3.000000      1.400000\n",
       "25%     4443.000000   1985.000000     89.000000      5.800000\n",
       "50%     8886.000000   1997.000000     98.000000      6.700000\n",
       "75%    13328.000000   2002.000000    113.000000      7.400000\n",
       "max    17770.000000   2005.000000   1620.000000      9.500000"
      ]
     },
     "execution_count": 11,
     "metadata": {},
     "output_type": "execute_result"
    }
   ],
   "source": [
    "df_eda = pd.read_csv(\"movies_addtl_features.csv\")\n",
    "df_eda.describe()"
   ]
  },
  {
   "cell_type": "code",
   "execution_count": 12,
   "metadata": {},
   "outputs": [
    {
     "data": {
      "text/html": [
       "<div>\n",
       "<style scoped>\n",
       "    .dataframe tbody tr th:only-of-type {\n",
       "        vertical-align: middle;\n",
       "    }\n",
       "\n",
       "    .dataframe tbody tr th {\n",
       "        vertical-align: top;\n",
       "    }\n",
       "\n",
       "    .dataframe thead th {\n",
       "        text-align: right;\n",
       "    }\n",
       "</style>\n",
       "<table border=\"1\" class=\"dataframe\">\n",
       "  <thead>\n",
       "    <tr style=\"text-align: right;\">\n",
       "      <th></th>\n",
       "      <th>id</th>\n",
       "      <th>year</th>\n",
       "      <th>title</th>\n",
       "      <th>Runtime</th>\n",
       "      <th>Rating</th>\n",
       "      <th>Directors</th>\n",
       "      <th>Writers</th>\n",
       "      <th>Production companies</th>\n",
       "      <th>Genres</th>\n",
       "    </tr>\n",
       "  </thead>\n",
       "  <tbody>\n",
       "    <tr>\n",
       "      <th>9567</th>\n",
       "      <td>9569</td>\n",
       "      <td>1988.0</td>\n",
       "      <td>War and Remembrance: Vol. 2</td>\n",
       "      <td>1620.0</td>\n",
       "      <td>8.3</td>\n",
       "      <td>Dan Curtis</td>\n",
       "      <td>Dan Curtis-Earl W. Wallace-Herman Wouk</td>\n",
       "      <td>Dan Curtis Productions-ABC Circle Films-Jadran...</td>\n",
       "      <td>Drama-War</td>\n",
       "    </tr>\n",
       "    <tr>\n",
       "      <th>15909</th>\n",
       "      <td>15911</td>\n",
       "      <td>1988.0</td>\n",
       "      <td>War and Remembrance: Vol. 1</td>\n",
       "      <td>1620.0</td>\n",
       "      <td>8.3</td>\n",
       "      <td>Dan Curtis</td>\n",
       "      <td>Dan Curtis-Earl W. Wallace-Herman Wouk</td>\n",
       "      <td>Dan Curtis Productions-ABC Circle Films-Jadran...</td>\n",
       "      <td>Drama-War</td>\n",
       "    </tr>\n",
       "  </tbody>\n",
       "</table>\n",
       "</div>"
      ],
      "text/plain": [
       "          id    year                        title  Runtime  Rating  \\\n",
       "9567    9569  1988.0  War and Remembrance: Vol. 2   1620.0     8.3   \n",
       "15909  15911  1988.0  War and Remembrance: Vol. 1   1620.0     8.3   \n",
       "\n",
       "        Directors                                 Writers  \\\n",
       "9567   Dan Curtis  Dan Curtis-Earl W. Wallace-Herman Wouk   \n",
       "15909  Dan Curtis  Dan Curtis-Earl W. Wallace-Herman Wouk   \n",
       "\n",
       "                                    Production companies     Genres  \n",
       "9567   Dan Curtis Productions-ABC Circle Films-Jadran...  Drama-War  \n",
       "15909  Dan Curtis Productions-ABC Circle Films-Jadran...  Drama-War  "
      ]
     },
     "execution_count": 12,
     "metadata": {},
     "output_type": "execute_result"
    }
   ],
   "source": [
    "df_eda[df_eda['Runtime'] == 1620.000000]"
   ]
  },
  {
   "cell_type": "code",
   "execution_count": 13,
   "metadata": {},
   "outputs": [
    {
     "data": {
      "text/html": [
       "<div>\n",
       "<style scoped>\n",
       "    .dataframe tbody tr th:only-of-type {\n",
       "        vertical-align: middle;\n",
       "    }\n",
       "\n",
       "    .dataframe tbody tr th {\n",
       "        vertical-align: top;\n",
       "    }\n",
       "\n",
       "    .dataframe thead th {\n",
       "        text-align: right;\n",
       "    }\n",
       "</style>\n",
       "<table border=\"1\" class=\"dataframe\">\n",
       "  <thead>\n",
       "    <tr style=\"text-align: right;\">\n",
       "      <th></th>\n",
       "      <th>id</th>\n",
       "      <th>year</th>\n",
       "      <th>title</th>\n",
       "      <th>Runtime</th>\n",
       "      <th>Rating</th>\n",
       "      <th>Directors</th>\n",
       "      <th>Writers</th>\n",
       "      <th>Production companies</th>\n",
       "      <th>Genres</th>\n",
       "    </tr>\n",
       "  </thead>\n",
       "  <tbody>\n",
       "    <tr>\n",
       "      <th>15294</th>\n",
       "      <td>15296</td>\n",
       "      <td>2001.0</td>\n",
       "      <td>Band of Brothers</td>\n",
       "      <td>594.0</td>\n",
       "      <td>9.5</td>\n",
       "      <td>David Frankel-Mikael Salomon-Tom Hanks</td>\n",
       "      <td>Stephen Ambrose-Erik Bork-E. Max Frye</td>\n",
       "      <td>DreamWorks-DreamWorks Television-HBO Films-Pla...</td>\n",
       "      <td>Action-Drama-History-War</td>\n",
       "    </tr>\n",
       "  </tbody>\n",
       "</table>\n",
       "</div>"
      ],
      "text/plain": [
       "          id    year             title  Runtime  Rating  \\\n",
       "15294  15296  2001.0  Band of Brothers    594.0     9.5   \n",
       "\n",
       "                                    Directors  \\\n",
       "15294  David Frankel-Mikael Salomon-Tom Hanks   \n",
       "\n",
       "                                     Writers  \\\n",
       "15294  Stephen Ambrose-Erik Bork-E. Max Frye   \n",
       "\n",
       "                                    Production companies  \\\n",
       "15294  DreamWorks-DreamWorks Television-HBO Films-Pla...   \n",
       "\n",
       "                         Genres  \n",
       "15294  Action-Drama-History-War  "
      ]
     },
     "execution_count": 13,
     "metadata": {},
     "output_type": "execute_result"
    }
   ],
   "source": [
    "df_eda[df_eda['Rating'] == 9.500000]"
   ]
  },
  {
   "cell_type": "code",
   "execution_count": 17,
   "metadata": {},
   "outputs": [
    {
     "data": {
      "text/plain": [
       "<AxesSubplot:xlabel='year'>"
      ]
     },
     "execution_count": 17,
     "metadata": {},
     "output_type": "execute_result"
    },
    {
     "data": {
      "image/png": "[encoded data removed]",
      "text/plain": [
       "<Figure size 432x288 with 1 Axes>"
      ]
     },
     "metadata": {
      "needs_background": "light"
     },
     "output_type": "display_data"
    }
   ],
   "source": [
    "gbyear = df_eda.groupby(\"year\").mean()\n",
    "gbyear.plot.line(y='Rating')"
   ]
  },
  {
   "cell_type": "code",
   "execution_count": 18,
   "metadata": {},
   "outputs": [
    {
     "data": {
      "text/plain": [
       "<AxesSubplot:xlabel='Runtime'>"
      ]
     },
     "execution_count": 18,
     "metadata": {},
     "output_type": "execute_result"
    },
    {
     "data": {
      "image/png": "[encoded data removed]",
      "text/plain": [
       "<Figure size 432x288 with 1 Axes>"
      ]
     },
     "metadata": {
      "needs_background": "light"
     },
     "output_type": "display_data"
    }
   ],
   "source": [
    "gbrt = df_eda.groupby(\"Runtime\").mean()\n",
    "gbrt.plot.line(y='Rating')"
   ]
  },
  {
   "cell_type": "code",
   "execution_count": 19,
   "metadata": {},
   "outputs": [
    {
     "data": {
      "text/plain": [
       "<AxesSubplot:xlabel='Runtime'>"
      ]
     },
     "execution_count": 19,
     "metadata": {},
     "output_type": "execute_result"
    },
    {
     "data": {
      "text/plain": [
       "<Figure size 432x288 with 0 Axes>"
      ]
     },
     "metadata": {},
     "output_type": "display_data"
    },
    {
     "data": {
      "image/png": "[encoded data removed]",
      "text/plain": [
       "<Figure size 432x288 with 1 Axes>"
      ]
     },
     "metadata": {
      "needs_background": "light"
     },
     "output_type": "display_data"
    }
   ],
   "source": [
    "gbrt = df_eda[df_eda[\"Runtime\"] < 500].groupby(\"Runtime\").mean()\n",
    "plt.figure()\n",
    "gbrt.plot.line(y='Rating')"
   ]
  },
  {
   "cell_type": "code",
   "execution_count": 20,
   "metadata": {},
   "outputs": [
    {
     "data": {
      "text/plain": [
       "<AxesSubplot:xlabel='Genres'>"
      ]
     },
     "execution_count": 20,
     "metadata": {},
     "output_type": "execute_result"
    },
    {
     "data": {
      "image/png": "[encoded data removed]",
      "text/plain": [
       "<Figure size 432x288 with 1 Axes>"
      ]
     },
     "metadata": {
      "needs_background": "light"
     },
     "output_type": "display_data"
    }
   ],
   "source": [
    "# This was a horrible mess of a diagram, so we take a different approach to visualize this\n",
    "gbyear = df_eda.groupby(\"Genres\").mean()\n",
    "gbyear.plot.bar(y='Rating')"
   ]
  },
  {
   "cell_type": "code",
   "execution_count": 21,
   "metadata": {},
   "outputs": [
    {
     "data": {
      "text/plain": [
       "<AxesSubplot:xlabel='numGenres'>"
      ]
     },
     "execution_count": 21,
     "metadata": {},
     "output_type": "execute_result"
    },
    {
     "data": {
      "image/png": "[encoded data removed]",
      "text/plain": [
       "<Figure size 432x288 with 1 Axes>"
      ]
     },
     "metadata": {
      "needs_background": "light"
     },
     "output_type": "display_data"
    },
    {
     "data": {
      "image/png": "[encoded data removed]",
      "text/plain": [
       "<Figure size 432x288 with 1 Axes>"
      ]
     },
     "metadata": {
      "needs_background": "light"
     },
     "output_type": "display_data"
    }
   ],
   "source": [
    "dfdrop = df_eda.dropna(subset=['Genres'], inplace=False)\n",
    "dfdrop = dfdrop.dropna(subset=['Rating'], inplace=False)\n",
    "\n",
    "## since genres all appear in the same column, separated by a dash, we need to parse them\n",
    "\n",
    "dfdrop[\"numGenres\"] = dfdrop.apply(lambda row: len(row['Genres'].split(\"-\")), axis=1)\n",
    "gbnumGen = dfdrop.groupby(\"numGenres\").count()\n",
    "gbnumGen.plot.bar(y='Rating')\n",
    "gbnumGen = dfdrop.groupby(\"numGenres\").mean()\n",
    "gbnumGen.plot.bar(y='Rating')"
   ]
  },
  {
   "cell_type": "markdown",
   "metadata": {},
   "source": [
    "### Creating a Dictionary of Average Rating by Genre"
   ]
  },
  {
   "cell_type": "code",
   "execution_count": 22,
   "metadata": {},
   "outputs": [],
   "source": [
    "genreDict = {}\n",
    "for index, row in dfdrop.iterrows():\n",
    "    rating = row['Rating']\n",
    "    allGenres = row['Genres'].split(\"-\")\n",
    "    for genre in allGenres:\n",
    "        if genre in genreDict:\n",
    "            genreDict[genre].append(rating)\n",
    "        else:\n",
    "            genreDict[genre] = [rating]"
   ]
  },
  {
   "cell_type": "code",
   "execution_count": 23,
   "metadata": {},
   "outputs": [
    {
     "name": "stdout",
     "output_type": "stream",
     "text": [
      "Horror: \t\t5.470573139435416\n",
      "Sci: \t\t6.040660295395313\n",
      "Fi: \t\t6.040660295395313\n",
      "Action: \t\t6.1044922788956315\n",
      "Thriller: \t\t6.135338645418321\n",
      "Reality: \t\t6.253571428571428\n",
      "TV: \t\t6.253571428571428\n",
      "Fantasy: \t\t6.315254237288134\n",
      "Comedy: \t\t6.324409448818888\n",
      "Family: \t\t6.400380952380956\n",
      "Adventure: \t\t6.405750165234629\n",
      "Game: \t\t6.44\n",
      "Crime: \t\t6.5184909670563185\n",
      "Romance: \t\t6.568319045844208\n",
      "Sport: \t\t6.622128851540621\n",
      "Mystery: \t\t6.630985915492959\n",
      "Musical: \t\t6.648915187376726\n",
      "Western: \t\t6.679503105590067\n",
      "Drama: \t\t6.701140619679947\n",
      "Animation: \t\t6.904029850746272\n",
      "War: \t\t7.0721541155866925\n",
      "Short: \t\t7.1222222222222245\n",
      "Biography: \t\t7.1606779661016935\n",
      "Show: \t\t7.190909090909091\n",
      "History: \t\t7.2683467741935415\n",
      "Music: \t\t7.328996282527873\n",
      "Film: \t\t7.3979797979798\n",
      "Noir: \t\t7.3979797979798\n",
      "Documentary: \t\t7.411469534050167\n",
      "Talk: \t\t7.816666666666666\n"
     ]
    }
   ],
   "source": [
    "for key in genreDict:\n",
    "    genreDict[key] = sum(genreDict[key])/len(genreDict[key])\n",
    "\n",
    "genreDict = dict(sorted(genreDict.items(), key=lambda item: item[1]))\n",
    "\n",
    "for key in genreDict:\n",
    "    print(key + \": \\t\\t\" + str(genreDict[key]))"
   ]
  },
  {
   "cell_type": "code",
   "execution_count": 24,
   "metadata": {},
   "outputs": [
    {
     "data": {
      "image/png": "[encoded data removed]",
      "text/plain": [
       "<Figure size 432x288 with 1 Axes>"
      ]
     },
     "metadata": {
      "needs_background": "light"
     },
     "output_type": "display_data"
    }
   ],
   "source": [
    "keys = genreDict.keys()\n",
    "vals = genreDict.values()\n",
    "plt.bar(keys, vals)\n",
    "plt.xticks(rotation='vertical')\n",
    "plt.show()"
   ]
  },
  {
   "cell_type": "code",
   "execution_count": 9,
   "metadata": {},
   "outputs": [],
   "source": [
    "from pyspark.sql import SparkSession\n",
    "from pyspark.sql.functions import split\n",
    "import pyspark.sql.functions as f\n",
    "from pyspark.sql.types import StructType,StructField, StringType, IntegerType, FloatType"
   ]
  },
  {
   "cell_type": "code",
   "execution_count": 26,
   "metadata": {},
   "outputs": [],
   "source": [
    "spark = SparkSession.builder.getOrCreate()\n",
    "file_1 = 'combined_data_1.txt'\n",
    "file_2 = 'combined_data_2.txt'\n",
    "file_3 = 'combined_data_3.txt'\n",
    "file_4 = 'combined_data_4.txt'\n",
    "\n",
    "movie_title_file = 'movie_titles.csv'\n",
    "movie_add_feat = 'movies_addtl_features.csv'"
   ]
  },
  {
   "cell_type": "code",
   "execution_count": 27,
   "metadata": {},
   "outputs": [],
   "source": [
    "df_file_1 = spark.read.text(file_1)\n",
    "df_file_2 = spark.read.text(file_2)\n",
    "df_file_3 = spark.read.text(file_3)\n",
    "df_file_4 = spark.read.text(file_4)"
   ]
  },
  {
   "cell_type": "code",
   "execution_count": 28,
   "metadata": {},
   "outputs": [],
   "source": [
    "df_file_1 = df_file_1.withColumn(\"viewer_id\", split(df_file_1[\"value\"], \",\").getItem(0)).withColumn(\"rating\", split(df_file_1[\"value\"], \",\").getItem(1)).withColumn(\"date_viewed\", split(df_file_1[\"value\"], \",\").getItem(2))\n",
    "df_file_1 = df_file_1.drop(df_file_1['value'])\n",
    "df_file_2 = df_file_2.withColumn(\"viewer_id\", split(df_file_2[\"value\"], \",\").getItem(0)).withColumn(\"rating\", split(df_file_2[\"value\"], \",\").getItem(1)).withColumn(\"date_viewed\", split(df_file_2[\"value\"], \",\").getItem(2))\n",
    "df_file_2 = df_file_2.drop(df_file_2['value'])\n",
    "df_file_3 = df_file_3.withColumn(\"viewer_id\", split(df_file_3[\"value\"], \",\").getItem(0)).withColumn(\"rating\", split(df_file_3[\"value\"], \",\").getItem(1)).withColumn(\"date_viewed\", split(df_file_3[\"value\"], \",\").getItem(2))\n",
    "df_file_3 = df_file_3.drop(df_file_3['value'])\n",
    "df_file_4 = df_file_4.withColumn(\"viewer_id\", split(df_file_4[\"value\"], \",\").getItem(0)).withColumn(\"rating\", split(df_file_4[\"value\"], \",\").getItem(1)).withColumn(\"date_viewed\", split(df_file_4[\"value\"], \",\").getItem(2))\n",
    "df_file_4 = df_file_4.drop(df_file_4['value'])"
   ]
  },
  {
   "cell_type": "markdown",
   "metadata": {},
   "source": [
    "The table produced via te following code cell demonstrates the particular challenges of working with these data files -- the `Movie_ID` was included as a row in the `viewer_id` column, followed by a colon."
   ]
  },
  {
   "cell_type": "code",
   "execution_count": 30,
   "metadata": {},
   "outputs": [
    {
     "name": "stdout",
     "output_type": "stream",
     "text": [
      "+---------+------+-----------+\n",
      "|viewer_id|rating|date_viewed|\n",
      "+---------+------+-----------+\n",
      "|       1:|  null|       null|\n",
      "|  1488844|     3| 2005-09-06|\n",
      "|   822109|     5| 2005-05-13|\n",
      "|   885013|     4| 2005-10-19|\n",
      "|    30878|     4| 2005-12-26|\n",
      "|   823519|     3| 2004-05-03|\n",
      "|   893988|     3| 2005-11-17|\n",
      "|   124105|     4| 2004-08-05|\n",
      "|  1248029|     3| 2004-04-22|\n",
      "|  1842128|     4| 2004-05-09|\n",
      "|  2238063|     3| 2005-05-11|\n",
      "|  1503895|     4| 2005-05-19|\n",
      "|  2207774|     5| 2005-06-06|\n",
      "|  2590061|     3| 2004-08-12|\n",
      "|     2442|     3| 2004-04-14|\n",
      "|   543865|     4| 2004-05-28|\n",
      "|  1209119|     4| 2004-03-23|\n",
      "|   804919|     4| 2004-06-10|\n",
      "|  1086807|     3| 2004-12-28|\n",
      "|  1711859|     4| 2005-05-08|\n",
      "+---------+------+-----------+\n",
      "only showing top 20 rows\n",
      "\n"
     ]
    }
   ],
   "source": [
    "df_concat = df_file_1.union(df_file_2)\n",
    "df_concat = df_concat.union(df_file_3)\n",
    "df_concat = df_concat.union(df_file_4)\n",
    "df_concat.show()"
   ]
  },
  {
   "cell_type": "code",
   "execution_count": 31,
   "metadata": {},
   "outputs": [
    {
     "data": {
      "text/plain": [
       "100498277"
      ]
     },
     "execution_count": 31,
     "metadata": {},
     "output_type": "execute_result"
    }
   ],
   "source": [
    "df_concat.count()"
   ]
  },
  {
   "cell_type": "code",
   "execution_count": 32,
   "metadata": {},
   "outputs": [
    {
     "name": "stdout",
     "output_type": "stream",
     "text": [
      "+---------+----------------+\n",
      "|viewer_id|count(viewer_id)|\n",
      "+---------+----------------+\n",
      "|  1774623|            1477|\n",
      "|  2151149|              91|\n",
      "|  2446687|              50|\n",
      "|  2427438|             318|\n",
      "|  2496050|             887|\n",
      "|  1377693|            1148|\n",
      "|  2190625|            1340|\n",
      "|  1560852|             281|\n",
      "|  1608536|             315|\n",
      "|  1081461|             454|\n",
      "|   624145|            1176|\n",
      "|   415982|             234|\n",
      "|   340002|             101|\n",
      "|  2591081|             490|\n",
      "|  2038778|            1181|\n",
      "|   755939|            1230|\n",
      "|    75120|             484|\n",
      "|   358664|              35|\n",
      "|    64423|             168|\n",
      "|   811782|             305|\n",
      "+---------+----------------+\n",
      "only showing top 20 rows\n",
      "\n"
     ]
    }
   ],
   "source": [
    "df_concat = df_concat.withColumn(\"viewer_id\",df_concat[\"viewer_id\"].cast(IntegerType()))\n",
    "df_concat = df_concat.withColumn(\"rating\",df_concat[\"rating\"].cast(IntegerType()))\n",
    "agg_df = df_concat.groupBy('viewer_id').agg(f.count(\"viewer_id\"))\n",
    "agg_df.show()"
   ]
  },
  {
   "cell_type": "code",
   "execution_count": 33,
   "metadata": {},
   "outputs": [
    {
     "name": "stdout",
     "output_type": "stream",
     "text": [
      "+-------+------------------+\n",
      "|summary|  count(viewer_id)|\n",
      "+-------+------------------+\n",
      "|  count|            480190|\n",
      "|   mean|209.25156084050064|\n",
      "| stddev|  302.338991474441|\n",
      "|    min|                 0|\n",
      "|    max|             17653|\n",
      "+-------+------------------+\n",
      "\n"
     ]
    }
   ],
   "source": [
    "agg_df.describe('count(viewer_id)').show()"
   ]
  },
  {
   "cell_type": "code",
   "execution_count": 34,
   "metadata": {},
   "outputs": [],
   "source": [
    "df_additional = pd.read_csv(\"movies_addtl_features.csv\")\n"
   ]
  },
  {
   "cell_type": "code",
   "execution_count": 35,
   "metadata": {},
   "outputs": [
    {
     "data": {
      "text/plain": [
       "<AxesSubplot:>"
      ]
     },
     "execution_count": 35,
     "metadata": {},
     "output_type": "execute_result"
    },
    {
     "data": {
      "image/png": "[encoded data removed]",
      "text/plain": [
       "<Figure size 432x288 with 1 Axes>"
      ]
     },
     "metadata": {
      "needs_background": "light"
     },
     "output_type": "display_data"
    }
   ],
   "source": [
    "boxplot_rating = df_additional.boxplot(column=['Rating'])\n",
    "boxplot_rating"
   ]
  },
  {
   "cell_type": "code",
   "execution_count": 36,
   "metadata": {},
   "outputs": [
    {
     "data": {
      "image/png": "[encoded data removed]",
      "text/plain": [
       "<Figure size 432x288 with 1 Axes>"
      ]
     },
     "metadata": {
      "needs_background": "light"
     },
     "output_type": "display_data"
    }
   ],
   "source": [
    "boxplot_Runtime = df_additional.boxplot(column=['Runtime'])\n"
   ]
  },
  {
   "cell_type": "code",
   "execution_count": 37,
   "metadata": {},
   "outputs": [
    {
     "data": {
      "text/plain": [
       "<AxesSubplot:>"
      ]
     },
     "execution_count": 37,
     "metadata": {},
     "output_type": "execute_result"
    },
    {
     "data": {
      "image/png": "[encoded data removed]",
      "text/plain": [
       "<Figure size 432x288 with 1 Axes>"
      ]
     },
     "metadata": {
      "needs_background": "light"
     },
     "output_type": "display_data"
    }
   ],
   "source": [
    "boxplot_year = df_additional.boxplot(column=['year'])\n",
    "boxplot_year "
   ]
  },
  {
   "cell_type": "code",
   "execution_count": 38,
   "metadata": {},
   "outputs": [],
   "source": [
    "dfdrop_director = df_additional.dropna(subset=['Directors'], inplace=False)\n",
    "dfdrop_director = dfdrop_director.dropna(subset=['Rating'], inplace=False)"
   ]
  },
  {
   "cell_type": "markdown",
   "metadata": {},
   "source": [
    "### Creating a Dictionary of Average Rating by Director"
   ]
  },
  {
   "cell_type": "code",
   "execution_count": 39,
   "metadata": {},
   "outputs": [],
   "source": [
    "#looking at the different directors and their ratings for each of their movies in this list \n",
    "DirectorDict = {}\n",
    "for index, row in dfdrop_director.iterrows():\n",
    "    rating = row['Rating']\n",
    "    allDirectors = row['Directors'].split(\"-\")\n",
    "    for director in allDirectors:\n",
    "        if director in DirectorDict:\n",
    "            DirectorDict[director].append(rating)\n",
    "        else:\n",
    "            DirectorDict[director] = [rating]"
   ]
  },
  {
   "cell_type": "code",
   "execution_count": 40,
   "metadata": {},
   "outputs": [],
   "source": [
    "#getting the average score for each of the directors \n",
    "avgDirectorDict = {}\n",
    "for k,v in DirectorDict.items():\n",
    "    # v is the list of ratings for Director stored in k\n",
    "    avgDirectorDict[k] = sum(v)/ float(len(v))"
   ]
  },
  {
   "cell_type": "code",
   "execution_count": 42,
   "metadata": {},
   "outputs": [],
   "source": [
    "#sorting the average rating values for the Directors \n",
    "sorted_values_avgDirector = sorted(avgDirectorDict.values()) # Sort the values\n",
    "sorted_dict_avgDirector = {}\n",
    "\n",
    "for i in sorted_values_avgDirector:\n",
    "    for k in avgDirectorDict.keys():\n",
    "        if avgDirectorDict[k] == i:\n",
    "            sorted_dict_avgDirector[k] = avgDirectorDict[k]\n",
    "            break"
   ]
  },
  {
   "cell_type": "code",
   "execution_count": 43,
   "metadata": {},
   "outputs": [
    {
     "data": {
      "text/plain": [
       "{'Andrew Green': 2.3,\n",
       " 'Brett Ratner': 6.614285714285715,\n",
       " 'John Pasquin': 5.666666666666667,\n",
       " 'Robert Z. Leonard': 6.966666666666668,\n",
       " 'Mark Rydell': 6.622222222222221,\n",
       " 'Tyler Perry': 4.1000000000000005,\n",
       " 'Roger Young': 6.288888888888889,\n",
       " 'Ringo Lam': 6.2444444444444445,\n",
       " 'Edward Zwick': 7.033333333333332,\n",
       " 'Arthur Hiller': 6.6625,\n",
       " 'Lawrence Jordan': 7.945454545454546,\n",
       " 'Howard Deutch': 6.518181818181817,\n",
       " 'Claude Chabrol': 7.17,\n",
       " 'Mimi Leder': 6.433333333333334,\n",
       " 'Emile Ardolino': 6.428571428571428,\n",
       " 'Forest Whitaker': 6.133333333333333,\n",
       " 'Stanley Donen': 6.807692307692307,\n",
       " 'Steven Soderbergh': 6.781818181818181,\n",
       " 'Todd Phillips': 7.019999999999999,\n",
       " 'Orson Welles': 7.840000000000001}"
      ]
     },
     "execution_count": 43,
     "metadata": {},
     "output_type": "execute_result"
    }
   ],
   "source": [
    "import random    \n",
    "sample_n = 20\n",
    "output_avgdir_dict = dict(random.sample(sorted_dict_avgDirector.items(), sample_n))\n",
    "output_avgdir_dict"
   ]
  },
  {
   "cell_type": "code",
   "execution_count": 44,
   "metadata": {},
   "outputs": [],
   "source": [
    "dfdrop_writer = df_additional.dropna(subset=['Writers'], inplace=False)\n",
    "dfdrop_writer = dfdrop_writer.dropna(subset=['Rating'], inplace=False)"
   ]
  },
  {
   "cell_type": "markdown",
   "metadata": {},
   "source": [
    "### Creating a Dictionary of Average Rating by Screenwriter"
   ]
  },
  {
   "cell_type": "code",
   "execution_count": 45,
   "metadata": {},
   "outputs": [],
   "source": [
    "#looking at the writers directors and their ratings for each of their movies in this list \n",
    "WriterDict = {}\n",
    "for index, row in dfdrop_writer.iterrows():\n",
    "    rating = row['Rating']\n",
    "    allWriter = row['Writers'].split(\"-\")\n",
    "    for writer in allWriter:\n",
    "        if writer in WriterDict:\n",
    "            WriterDict[writer].append(rating)\n",
    "        else:\n",
    "            WriterDict[writer] = [rating]"
   ]
  },
  {
   "cell_type": "code",
   "execution_count": 46,
   "metadata": {},
   "outputs": [],
   "source": [
    "#getting the average score for each of the writers \n",
    "avgWriterDict = {}\n",
    "for k,v in WriterDict.items():\n",
    "    # v is the list of ratings for Director stored in k\n",
    "    avgWriterDict[k] = sum(v)/ float(len(v))"
   ]
  },
  {
   "cell_type": "code",
   "execution_count": 47,
   "metadata": {},
   "outputs": [],
   "source": [
    "#sorting the avergae ratings for each fo the writers \n",
    "sorted_values_avgWriter = sorted(avgWriterDict.values()) # Sort the values\n",
    "sorted_dict_avgWriter = {}\n",
    "\n",
    "for i in sorted_values_avgWriter:\n",
    "    for k in avgWriterDict.keys():\n",
    "        if avgWriterDict[k] == i:\n",
    "            sorted_dict_avgWriter[k] = avgWriterDict[k]\n",
    "            break"
   ]
  },
  {
   "cell_type": "code",
   "execution_count": 48,
   "metadata": {},
   "outputs": [
    {
     "data": {
      "text/plain": [
       "{'Tony Gilroy': 6.8625,\n",
       " 'Ernest K. Gann': 6.659999999999999,\n",
       " 'François Ozon': 6.985714285714287,\n",
       " 'Michael J. Nelson': 8.07272727272727,\n",
       " 'Ryo Mizuno': 7.033333333333334,\n",
       " 'Jerry Juhl': 7.12,\n",
       " 'Wendell Mayes': 7.2333333333333325,\n",
       " 'Stanley Shapiro': 6.9125,\n",
       " 'Jirô Kuwata': 5.0,\n",
       " 'Nat Mauldin': 5.550000000000001,\n",
       " 'Tullio Pinelli': 7.616666666666666,\n",
       " 'Roderick Taylor': 6.08,\n",
       " 'Andy Hurst': 4.175,\n",
       " 'H.E. Bates': 6.94,\n",
       " 'Matthew Gissing': 5.033333333333334,\n",
       " 'Bob Fosse': 7.233333333333333,\n",
       " 'Georges Chaperot': 7.9,\n",
       " 'Nora Ephron': 6.127272727272728,\n",
       " 'Georges Clouzot': 7.316666666666666,\n",
       " 'Michael Swerdlick': 5.340000000000001}"
      ]
     },
     "execution_count": 48,
     "metadata": {},
     "output_type": "execute_result"
    }
   ],
   "source": [
    "output_avgwrit_dict = dict(random.sample(sorted_dict_avgWriter.items(), sample_n))\n",
    "output_avgwrit_dict"
   ]
  },
  {
   "cell_type": "markdown",
   "metadata": {},
   "source": [
    "# Data Import & Preprocessing"
   ]
  },
  {
   "cell_type": "code",
   "execution_count": 95,
   "metadata": {},
   "outputs": [
    {
     "name": "stdout",
     "output_type": "stream",
     "text": [
      "combined_data_1.txt file details:\n",
      "(24058263, 2)\n",
      " \n",
      "First 5 rows\n",
      "   user_id  rating\n",
      "0       1:     NaN\n",
      "1  1488844     3.0\n",
      "2   822109     5.0\n",
      "3   885013     4.0\n",
      "4    30878     4.0\n",
      " \n",
      "combined_data_2.txt file details:\n",
      "(26982302, 2)\n",
      " \n",
      "First 5 rows\n",
      "   user_id  rating\n",
      "0    4500:     NaN\n",
      "1  2532865     4.0\n",
      "2   573364     3.0\n",
      "3  1696725     3.0\n",
      "4  1253431     3.0\n",
      " \n",
      "combined_data_3.txt file details:\n",
      "(22605786, 2)\n",
      " \n",
      "First 5 rows\n",
      "   user_id  rating\n",
      "0    9211:     NaN\n",
      "1  1277134     1.0\n",
      "2  2435457     2.0\n",
      "3  2338545     3.0\n",
      "4  2218269     1.0\n",
      " \n",
      "combined_data_4.txt file details:\n",
      "(26851926, 2)\n",
      " \n",
      "First 5 rows\n",
      "   user_id  rating\n",
      "0   13368:     NaN\n",
      "1  2385003     4.0\n",
      "2   659432     3.0\n",
      "3   751812     2.0\n",
      "4  2625420     2.0\n"
     ]
    }
   ],
   "source": [
    "df_file1 = pd.read_csv('combined_data_1.txt', \n",
    "                       header = None, \n",
    "                       names=['user_id','rating'], \n",
    "                       usecols=[0,1])\n",
    "\n",
    "print('combined_data_1.txt file details:')\n",
    "print(df_file1.shape)\n",
    "print(' ')\n",
    "print(\"First 5 rows\")\n",
    "print(df_file1.head(5))\n",
    "print(' ')\n",
    "\n",
    "\n",
    "df_file2 = pd.read_csv('combined_data_2.txt', \n",
    "                       header = None, \n",
    "                       names=['user_id','rating'], \n",
    "                       usecols=[0,1])\n",
    "\n",
    "print('combined_data_2.txt file details:')\n",
    "print(df_file2.shape)\n",
    "print(' ')\n",
    "print(\"First 5 rows\")\n",
    "print(df_file2.head(5))\n",
    "print(' ')\n",
    "\n",
    "df_file3 = pd.read_csv('combined_data_3.txt', \n",
    "                       header = None, \n",
    "                       names=['user_id','rating'], \n",
    "                       usecols=[0,1])\n",
    "\n",
    "print('combined_data_3.txt file details:')\n",
    "print(df_file3.shape)\n",
    "print(' ')\n",
    "print(\"First 5 rows\")\n",
    "print(df_file3.head(5))\n",
    "print(' ')\n",
    "\n",
    "df_file4 = pd.read_csv('combined_data_4.txt', \n",
    "                       header = None, \n",
    "                       names=['user_id','rating'], \n",
    "                       usecols=[0,1])\n",
    "\n",
    "print('combined_data_4.txt file details:')\n",
    "print(df_file4.shape)\n",
    "print(' ')\n",
    "print(\"First 5 rows\")\n",
    "print(df_file4.head(5))"
   ]
  },
  {
   "cell_type": "markdown",
   "metadata": {},
   "source": [
    "#### Processing the First File (Moving `movie_id` Out of `user_id` Column & Into its Own)"
   ]
  },
  {
   "cell_type": "code",
   "execution_count": 96,
   "metadata": {},
   "outputs": [
    {
     "name": "stdout",
     "output_type": "stream",
     "text": [
      "(4499, 1)\n",
      "24053764\n"
     ]
    }
   ],
   "source": [
    "## create dataframe including only observations with null values\n",
    "## this effectively isolates the rows containing only movie IDs (as they have no entries in the rating or date columns)\n",
    "df_nan_1 = pd.DataFrame(pd.isnull(df_file1.rating))\n",
    "df_nan_1 = df_nan_1[df_nan_1['rating']==True]\n",
    "\n",
    "## shape will print number of total movie IDs contained in this single file\n",
    "print(df_nan_1.shape)\n",
    "\n",
    "## create empty array to store movie IDs\n",
    "movie_np_1 = []\n",
    "\n",
    "## note first movie ID that appears in the file\n",
    "movie_id_1 = 1\n",
    "\n",
    "for i,j in zip(df_nan_1.index[1:], df_nan_1.index[:-1]):\n",
    "    temp_arr_1 = np.full((1,i-j-1), movie_id_1)\n",
    "    movie_np_1 = np.append(movie_np_1,temp_arr_1)\n",
    "    movie_id_1 += 1\n",
    "\n",
    "q1 = np.full((1,len(df_file1) - df_nan_1.index[-1] -1), movie_id_1)\n",
    "movie_np_1 = np.append(movie_np_1,q1)\n",
    "print(len(movie_np_1))"
   ]
  },
  {
   "cell_type": "code",
   "execution_count": 98,
   "metadata": {},
   "outputs": [
    {
     "name": "stdout",
     "output_type": "stream",
     "text": [
      "Index(['user_id', 'movie_id', 'rating'], dtype='object')\n",
      "          user_id  movie_id  rating\n",
      "1         1488844         1     3.0\n",
      "5000996    501954       996     2.0\n",
      "10001962   404654      1962     5.0\n",
      "15002876   886608      2876     2.0\n",
      "20003825  1193835      3825     2.0\n"
     ]
    }
   ],
   "source": [
    "## now handling remaining observations (numerous rating and by which user)\n",
    "df_file1 = df_file1[pd.notnull(df_file1['rating'])]\n",
    "\n",
    "## create movie_id column out of movie ID numpy array\n",
    "df_file1['movie_id'] = movie_np_1.astype(int)\n",
    "df_file1['user_id'] = df_file1['user_id'].astype(int)\n",
    "print(df_file1.columns)\n",
    "\n",
    "print(df_file1.iloc[::5000000,:])\n",
    "\n",
    "new_cols = df_file1.columns.tolist()\n",
    "new_cols = new_cols[:1]+new_cols[-1:]+new_cols[1:2]\n",
    "df_file1 = df_file1[new_cols]\n",
    "\n",
    "df_file1.to_csv(\"processed_pt1.txt\", encoding='utf-8', index=False)"
   ]
  },
  {
   "cell_type": "code",
   "execution_count": 99,
   "metadata": {},
   "outputs": [
    {
     "data": {
      "text/html": [
       "<div>\n",
       "<style scoped>\n",
       "    .dataframe tbody tr th:only-of-type {\n",
       "        vertical-align: middle;\n",
       "    }\n",
       "\n",
       "    .dataframe tbody tr th {\n",
       "        vertical-align: top;\n",
       "    }\n",
       "\n",
       "    .dataframe thead th {\n",
       "        text-align: right;\n",
       "    }\n",
       "</style>\n",
       "<table border=\"1\" class=\"dataframe\">\n",
       "  <thead>\n",
       "    <tr style=\"text-align: right;\">\n",
       "      <th></th>\n",
       "      <th>user_id</th>\n",
       "      <th>rating</th>\n",
       "      <th>movie_id</th>\n",
       "    </tr>\n",
       "  </thead>\n",
       "  <tbody>\n",
       "    <tr>\n",
       "      <th>1</th>\n",
       "      <td>1488844</td>\n",
       "      <td>3.0</td>\n",
       "      <td>1</td>\n",
       "    </tr>\n",
       "    <tr>\n",
       "      <th>2</th>\n",
       "      <td>822109</td>\n",
       "      <td>5.0</td>\n",
       "      <td>1</td>\n",
       "    </tr>\n",
       "    <tr>\n",
       "      <th>3</th>\n",
       "      <td>885013</td>\n",
       "      <td>4.0</td>\n",
       "      <td>1</td>\n",
       "    </tr>\n",
       "    <tr>\n",
       "      <th>4</th>\n",
       "      <td>30878</td>\n",
       "      <td>4.0</td>\n",
       "      <td>1</td>\n",
       "    </tr>\n",
       "    <tr>\n",
       "      <th>5</th>\n",
       "      <td>823519</td>\n",
       "      <td>3.0</td>\n",
       "      <td>1</td>\n",
       "    </tr>\n",
       "  </tbody>\n",
       "</table>\n",
       "</div>"
      ],
      "text/plain": [
       "   user_id  rating  movie_id\n",
       "1  1488844     3.0         1\n",
       "2   822109     5.0         1\n",
       "3   885013     4.0         1\n",
       "4    30878     4.0         1\n",
       "5   823519     3.0         1"
      ]
     },
     "execution_count": 99,
     "metadata": {},
     "output_type": "execute_result"
    }
   ],
   "source": [
    "df_file1.head()"
   ]
  },
  {
   "cell_type": "markdown",
   "metadata": {},
   "source": [
    "#### Processing the Second File (Moving `movie_id` Out of `user_id` Column & Into its Own)"
   ]
  },
  {
   "cell_type": "code",
   "execution_count": 100,
   "metadata": {},
   "outputs": [
    {
     "name": "stdout",
     "output_type": "stream",
     "text": [
      "(4711, 1)\n",
      "True\n",
      "26977591\n"
     ]
    }
   ],
   "source": [
    "## create dataframe including only observations with null values\n",
    "## this effectively isolates the rows containing only movie IDs (as they have no entries in the rating or date columns)\n",
    "df_nan_2 = pd.DataFrame(pd.isnull(df_file2.rating))\n",
    "df_nan_2 = df_nan_2[df_nan_2['rating']==True]\n",
    "\n",
    "## shape will print number of total movie IDs contained in this single file\n",
    "print(df_nan_2.shape)\n",
    "\n",
    "## create empty array to store movie IDs\n",
    "## note first movie ID that appears in the file\n",
    "movie_np_2 = []\n",
    "movie_id_2 = 4500\n",
    "\n",
    "for i,j in zip(df_nan_2.index[1:],df_nan_2.index[:-1]):\n",
    "    temp_arr_2 = np.full((1,i-j-1), movie_id_2)\n",
    "    movie_np_2 = np.append(movie_np_2,temp_arr_2)\n",
    "    movie_id_2 += 1\n",
    "\n",
    "print(df_nan_2.iloc[-1, 0])\n",
    "\n",
    "q2 = np.full((1,len(df_file2) - df_nan_2.index[-1] -1), movie_id_2)\n",
    "\n",
    "movie_np_2 = np.append(movie_np_2,q2)\n",
    "print(len(movie_np_2))"
   ]
  },
  {
   "cell_type": "code",
   "execution_count": 102,
   "metadata": {},
   "outputs": [
    {
     "name": "stdout",
     "output_type": "stream",
     "text": [
      "Index(['user_id', 'rating', 'movie_id'], dtype='object')\n",
      "          user_id  rating  movie_id\n",
      "1         2532865     4.0      4500\n",
      "5000819    775559     2.0      5318\n",
      "10001635  2366877     4.0      6134\n",
      "15002436  1579371     4.0      6935\n",
      "20003268  1427824     5.0      7767\n",
      "25004333   768518     4.0      8832\n"
     ]
    }
   ],
   "source": [
    "## now handling remaining observations (numerous rating and by which user)\n",
    "df_file2 = df_file2[pd.notnull(df_file2['rating'])]\n",
    "\n",
    "## create movie_id column out of movie ID numpy array\n",
    "df_file2['movie_id'] = movie_np_2.astype(int)\n",
    "df_file2['user_id'] = df_file2['user_id'].astype(int)\n",
    "print(df_file2.columns)\n",
    "\n",
    "print(df_file2.iloc[::5000000,:])\n",
    "\n",
    "new_cols_2 = df_file2.columns.tolist()\n",
    "new_cols_2 = new_cols_2[:1]+new_cols_2[-1:]+new_cols_2[1:2]\n",
    "df_file2 = df_file2[new_cols_2]\n",
    "\n",
    "df_file2.to_csv(\"processed_pt2.txt\", encoding='utf-8', index=False)"
   ]
  },
  {
   "cell_type": "code",
   "execution_count": 103,
   "metadata": {},
   "outputs": [
    {
     "data": {
      "text/html": [
       "<div>\n",
       "<style scoped>\n",
       "    .dataframe tbody tr th:only-of-type {\n",
       "        vertical-align: middle;\n",
       "    }\n",
       "\n",
       "    .dataframe tbody tr th {\n",
       "        vertical-align: top;\n",
       "    }\n",
       "\n",
       "    .dataframe thead th {\n",
       "        text-align: right;\n",
       "    }\n",
       "</style>\n",
       "<table border=\"1\" class=\"dataframe\">\n",
       "  <thead>\n",
       "    <tr style=\"text-align: right;\">\n",
       "      <th></th>\n",
       "      <th>user_id</th>\n",
       "      <th>movie_id</th>\n",
       "      <th>rating</th>\n",
       "    </tr>\n",
       "  </thead>\n",
       "  <tbody>\n",
       "    <tr>\n",
       "      <th>1</th>\n",
       "      <td>2532865</td>\n",
       "      <td>4500</td>\n",
       "      <td>4.0</td>\n",
       "    </tr>\n",
       "    <tr>\n",
       "      <th>2</th>\n",
       "      <td>573364</td>\n",
       "      <td>4500</td>\n",
       "      <td>3.0</td>\n",
       "    </tr>\n",
       "    <tr>\n",
       "      <th>3</th>\n",
       "      <td>1696725</td>\n",
       "      <td>4500</td>\n",
       "      <td>3.0</td>\n",
       "    </tr>\n",
       "    <tr>\n",
       "      <th>4</th>\n",
       "      <td>1253431</td>\n",
       "      <td>4500</td>\n",
       "      <td>3.0</td>\n",
       "    </tr>\n",
       "    <tr>\n",
       "      <th>5</th>\n",
       "      <td>1265574</td>\n",
       "      <td>4500</td>\n",
       "      <td>2.0</td>\n",
       "    </tr>\n",
       "  </tbody>\n",
       "</table>\n",
       "</div>"
      ],
      "text/plain": [
       "   user_id  movie_id  rating\n",
       "1  2532865      4500     4.0\n",
       "2   573364      4500     3.0\n",
       "3  1696725      4500     3.0\n",
       "4  1253431      4500     3.0\n",
       "5  1265574      4500     2.0"
      ]
     },
     "execution_count": 103,
     "metadata": {},
     "output_type": "execute_result"
    }
   ],
   "source": [
    "df_file2.head()"
   ]
  },
  {
   "cell_type": "markdown",
   "metadata": {},
   "source": [
    "#### Processing the Third File (Moving `movie_id` Out of `user_id` Column & Into its Own)"
   ]
  },
  {
   "cell_type": "code",
   "execution_count": 104,
   "metadata": {},
   "outputs": [
    {
     "name": "stdout",
     "output_type": "stream",
     "text": [
      "(4157, 1)\n",
      "True\n",
      "22601629\n"
     ]
    }
   ],
   "source": [
    "## create dataframe including only observations with null values\n",
    "## this effectively isolates the rows containing only movie IDs (as they have no entries in the rating or date columns)\n",
    "df_nan_3 = pd.DataFrame(pd.isnull(df_file3.rating))\n",
    "df_nan_3 = df_nan_3[df_nan_3['rating']==True]\n",
    "\n",
    "## shape will print number of total movie IDs contained in this single file\n",
    "print(df_nan_3.shape)\n",
    "\n",
    "## create empty array to store movie IDs\n",
    "## note first movie ID that appears in the file\n",
    "movie_np_3 = []\n",
    "movie_id_3 = 9211\n",
    "\n",
    "for i,j in zip(df_nan_3.index[1:],df_nan_3.index[:-1]):\n",
    "    temp_arr_3 = np.full((1,i-j-1), movie_id_3)\n",
    "    movie_np_3 = np.append(movie_np_3,temp_arr_3)\n",
    "    movie_id_3 += 1\n",
    "\n",
    "print(df_nan_3.iloc[-1, 0])\n",
    "\n",
    "q3 = np.full((1,len(df_file3) - df_nan_3.index[-1] -1), movie_id_3)\n",
    "movie_np_3 = np.append(movie_np_3,q3)\n",
    "print(len(movie_np_3))"
   ]
  },
  {
   "cell_type": "code",
   "execution_count": 105,
   "metadata": {},
   "outputs": [
    {
     "name": "stdout",
     "output_type": "stream",
     "text": [
      "Index(['user_id', 'rating', 'movie_id'], dtype='object')\n",
      "          user_id  rating  movie_id\n",
      "1         1277134     1.0      9211\n",
      "5001019    361439     4.0     10229\n",
      "10001942   488142     5.0     11152\n",
      "15002874  1572917     4.0     12084\n",
      "20003671   550725     3.0     12881\n"
     ]
    }
   ],
   "source": [
    "## now handling remaining observations (numerous rating and by which user)\n",
    "df_file3 = df_file3[pd.notnull(df_file3['rating'])]\n",
    "\n",
    "## create movie_id column out of movie ID numpy array\n",
    "df_file3['movie_id'] = movie_np_3.astype(int)\n",
    "df_file3['user_id'] = df_file3['user_id'].astype(int)\n",
    "print(df_file3.columns)\n",
    "\n",
    "print(df_file3.iloc[::5000000,:])\n",
    "\n",
    "new_cols_3 = df_file3.columns.tolist()\n",
    "new_cols_3 = new_cols_3[:1]+new_cols_3[-1:]+new_cols_3[1:2]\n",
    "df_file3 = df_file3[new_cols_3]\n",
    "\n",
    "df_file3.to_csv(\"processed_pt3.txt\", encoding='utf-8', index=False)"
   ]
  },
  {
   "cell_type": "code",
   "execution_count": 106,
   "metadata": {},
   "outputs": [
    {
     "data": {
      "text/html": [
       "<div>\n",
       "<style scoped>\n",
       "    .dataframe tbody tr th:only-of-type {\n",
       "        vertical-align: middle;\n",
       "    }\n",
       "\n",
       "    .dataframe tbody tr th {\n",
       "        vertical-align: top;\n",
       "    }\n",
       "\n",
       "    .dataframe thead th {\n",
       "        text-align: right;\n",
       "    }\n",
       "</style>\n",
       "<table border=\"1\" class=\"dataframe\">\n",
       "  <thead>\n",
       "    <tr style=\"text-align: right;\">\n",
       "      <th></th>\n",
       "      <th>user_id</th>\n",
       "      <th>movie_id</th>\n",
       "      <th>rating</th>\n",
       "    </tr>\n",
       "  </thead>\n",
       "  <tbody>\n",
       "    <tr>\n",
       "      <th>1</th>\n",
       "      <td>1277134</td>\n",
       "      <td>9211</td>\n",
       "      <td>1.0</td>\n",
       "    </tr>\n",
       "    <tr>\n",
       "      <th>2</th>\n",
       "      <td>2435457</td>\n",
       "      <td>9211</td>\n",
       "      <td>2.0</td>\n",
       "    </tr>\n",
       "    <tr>\n",
       "      <th>3</th>\n",
       "      <td>2338545</td>\n",
       "      <td>9211</td>\n",
       "      <td>3.0</td>\n",
       "    </tr>\n",
       "    <tr>\n",
       "      <th>4</th>\n",
       "      <td>2218269</td>\n",
       "      <td>9211</td>\n",
       "      <td>1.0</td>\n",
       "    </tr>\n",
       "    <tr>\n",
       "      <th>5</th>\n",
       "      <td>441153</td>\n",
       "      <td>9211</td>\n",
       "      <td>4.0</td>\n",
       "    </tr>\n",
       "  </tbody>\n",
       "</table>\n",
       "</div>"
      ],
      "text/plain": [
       "   user_id  movie_id  rating\n",
       "1  1277134      9211     1.0\n",
       "2  2435457      9211     2.0\n",
       "3  2338545      9211     3.0\n",
       "4  2218269      9211     1.0\n",
       "5   441153      9211     4.0"
      ]
     },
     "execution_count": 106,
     "metadata": {},
     "output_type": "execute_result"
    }
   ],
   "source": [
    "df_file3.head()"
   ]
  },
  {
   "cell_type": "markdown",
   "metadata": {},
   "source": [
    "#### Processing the Fourth File (Moving `movie_id` Out of `user_id` Column & Into its Own)"
   ]
  },
  {
   "cell_type": "code",
   "execution_count": 107,
   "metadata": {},
   "outputs": [
    {
     "name": "stdout",
     "output_type": "stream",
     "text": [
      "(4403, 1)\n",
      "True\n",
      "26847523\n"
     ]
    }
   ],
   "source": [
    "## create dataframe including only observations with null values\n",
    "## this effectively isolates the rows containing only movie IDs (as they have no entries in the rating or date columns)\n",
    "df_nan_4 = pd.DataFrame(pd.isnull(df_file4.rating))\n",
    "df_nan_4 = df_nan_4[df_nan_4['rating']==True]\n",
    "\n",
    "## shape will print number of total movie IDs contained in this single file\n",
    "print(df_nan_4.shape)\n",
    "\n",
    "## create empty array to store movie IDs\n",
    "## note first movie ID that appears in the file\n",
    "movie_np_4 = []\n",
    "movie_id_4 = 13368\n",
    "\n",
    "for i,j in zip(df_nan_4.index[1:],df_nan_4.index[:-1]):\n",
    "    temp_arr_4 = np.full((1,i-j-1), movie_id_4)\n",
    "    movie_np_4 = np.append(movie_np_4,temp_arr_4)\n",
    "    movie_id_4 += 1\n",
    "\n",
    "# last movie id\n",
    "\n",
    "print(df_nan_4.iloc[-1, 0])\n",
    "\n",
    "q4 = np.full((1,len(df_file4) - df_nan_4.index[-1] -1), movie_id_4)\n",
    "movie_np_4 = np.append(movie_np_4,q4)\n",
    "print(len(movie_np_4))"
   ]
  },
  {
   "cell_type": "code",
   "execution_count": 108,
   "metadata": {},
   "outputs": [
    {
     "name": "stdout",
     "output_type": "stream",
     "text": [
      "Index(['user_id', 'rating', 'movie_id'], dtype='object')\n",
      "          user_id  rating  movie_id\n",
      "1         2385003     4.0     13368\n",
      "5000907    495207     1.0     14274\n",
      "10001561  2243515     4.0     14928\n",
      "15002391  2210687     5.0     15758\n",
      "20003238  2088300     5.0     16605\n",
      "25004038   717559     3.0     17405\n"
     ]
    }
   ],
   "source": [
    "## now handling remaining observations (numerous rating and by which user)\n",
    "df_file4 = df_file4[pd.notnull(df_file4['rating'])]\n",
    "\n",
    "## create movie_id column out of movie ID numpy array\n",
    "df_file4['movie_id'] = movie_np_4.astype(int)\n",
    "df_file4['user_id'] = df_file4['user_id'].astype(int)\n",
    "print(df_file4.columns)\n",
    "\n",
    "print(df_file4.iloc[::5000000,:])\n",
    "\n",
    "new_cols_4 = df_file4.columns.tolist()\n",
    "new_cols_4 = new_cols_4[:1]+new_cols_4[-1:]+new_cols_4[1:2]\n",
    "df_file4 = df_file4[new_cols_4]\n",
    "\n",
    "df_file4.to_csv(\"processed_pt4.txt\", encoding='utf-8', index=False)"
   ]
  },
  {
   "cell_type": "code",
   "execution_count": 109,
   "metadata": {},
   "outputs": [
    {
     "data": {
      "text/html": [
       "<div>\n",
       "<style scoped>\n",
       "    .dataframe tbody tr th:only-of-type {\n",
       "        vertical-align: middle;\n",
       "    }\n",
       "\n",
       "    .dataframe tbody tr th {\n",
       "        vertical-align: top;\n",
       "    }\n",
       "\n",
       "    .dataframe thead th {\n",
       "        text-align: right;\n",
       "    }\n",
       "</style>\n",
       "<table border=\"1\" class=\"dataframe\">\n",
       "  <thead>\n",
       "    <tr style=\"text-align: right;\">\n",
       "      <th></th>\n",
       "      <th>user_id</th>\n",
       "      <th>movie_id</th>\n",
       "      <th>rating</th>\n",
       "    </tr>\n",
       "  </thead>\n",
       "  <tbody>\n",
       "    <tr>\n",
       "      <th>1</th>\n",
       "      <td>2385003</td>\n",
       "      <td>13368</td>\n",
       "      <td>4.0</td>\n",
       "    </tr>\n",
       "    <tr>\n",
       "      <th>2</th>\n",
       "      <td>659432</td>\n",
       "      <td>13368</td>\n",
       "      <td>3.0</td>\n",
       "    </tr>\n",
       "    <tr>\n",
       "      <th>3</th>\n",
       "      <td>751812</td>\n",
       "      <td>13368</td>\n",
       "      <td>2.0</td>\n",
       "    </tr>\n",
       "    <tr>\n",
       "      <th>4</th>\n",
       "      <td>2625420</td>\n",
       "      <td>13368</td>\n",
       "      <td>2.0</td>\n",
       "    </tr>\n",
       "    <tr>\n",
       "      <th>5</th>\n",
       "      <td>1650301</td>\n",
       "      <td>13368</td>\n",
       "      <td>1.0</td>\n",
       "    </tr>\n",
       "  </tbody>\n",
       "</table>\n",
       "</div>"
      ],
      "text/plain": [
       "   user_id  movie_id  rating\n",
       "1  2385003     13368     4.0\n",
       "2   659432     13368     3.0\n",
       "3   751812     13368     2.0\n",
       "4  2625420     13368     2.0\n",
       "5  1650301     13368     1.0"
      ]
     },
     "execution_count": 109,
     "metadata": {},
     "output_type": "execute_result"
    }
   ],
   "source": [
    "df_file4.head()"
   ]
  },
  {
   "cell_type": "markdown",
   "metadata": {},
   "source": [
    "### Combining Each File's Corresponding Dataframe into a Single DF Containing All Ratings"
   ]
  },
  {
   "cell_type": "code",
   "execution_count": 110,
   "metadata": {},
   "outputs": [],
   "source": [
    "df_all = df_file1.append(df_file2, ignore_index=True)\n",
    "df_all = df_all.append(df_file3, ignore_index=True)\n",
    "df_all = df_all.append(df_file4, ignore_index=True)"
   ]
  },
  {
   "cell_type": "code",
   "execution_count": 111,
   "metadata": {},
   "outputs": [
    {
     "data": {
      "text/html": [
       "<div>\n",
       "<style scoped>\n",
       "    .dataframe tbody tr th:only-of-type {\n",
       "        vertical-align: middle;\n",
       "    }\n",
       "\n",
       "    .dataframe tbody tr th {\n",
       "        vertical-align: top;\n",
       "    }\n",
       "\n",
       "    .dataframe thead th {\n",
       "        text-align: right;\n",
       "    }\n",
       "</style>\n",
       "<table border=\"1\" class=\"dataframe\">\n",
       "  <thead>\n",
       "    <tr style=\"text-align: right;\">\n",
       "      <th></th>\n",
       "      <th>user_id</th>\n",
       "      <th>rating</th>\n",
       "      <th>movie_id</th>\n",
       "    </tr>\n",
       "  </thead>\n",
       "  <tbody>\n",
       "    <tr>\n",
       "      <th>count</th>\n",
       "      <td>1.004805e+08</td>\n",
       "      <td>1.004805e+08</td>\n",
       "      <td>1.004805e+08</td>\n",
       "    </tr>\n",
       "    <tr>\n",
       "      <th>mean</th>\n",
       "      <td>1.322489e+06</td>\n",
       "      <td>3.604290e+00</td>\n",
       "      <td>9.070915e+03</td>\n",
       "    </tr>\n",
       "    <tr>\n",
       "      <th>std</th>\n",
       "      <td>7.645368e+05</td>\n",
       "      <td>1.085219e+00</td>\n",
       "      <td>5.131891e+03</td>\n",
       "    </tr>\n",
       "    <tr>\n",
       "      <th>min</th>\n",
       "      <td>6.000000e+00</td>\n",
       "      <td>1.000000e+00</td>\n",
       "      <td>1.000000e+00</td>\n",
       "    </tr>\n",
       "    <tr>\n",
       "      <th>25%</th>\n",
       "      <td>6.611980e+05</td>\n",
       "      <td>3.000000e+00</td>\n",
       "      <td>4.677000e+03</td>\n",
       "    </tr>\n",
       "    <tr>\n",
       "      <th>50%</th>\n",
       "      <td>1.319012e+06</td>\n",
       "      <td>4.000000e+00</td>\n",
       "      <td>9.051000e+03</td>\n",
       "    </tr>\n",
       "    <tr>\n",
       "      <th>75%</th>\n",
       "      <td>1.984455e+06</td>\n",
       "      <td>4.000000e+00</td>\n",
       "      <td>1.363500e+04</td>\n",
       "    </tr>\n",
       "    <tr>\n",
       "      <th>max</th>\n",
       "      <td>2.649429e+06</td>\n",
       "      <td>5.000000e+00</td>\n",
       "      <td>1.777000e+04</td>\n",
       "    </tr>\n",
       "  </tbody>\n",
       "</table>\n",
       "</div>"
      ],
      "text/plain": [
       "            user_id        rating      movie_id\n",
       "count  1.004805e+08  1.004805e+08  1.004805e+08\n",
       "mean   1.322489e+06  3.604290e+00  9.070915e+03\n",
       "std    7.645368e+05  1.085219e+00  5.131891e+03\n",
       "min    6.000000e+00  1.000000e+00  1.000000e+00\n",
       "25%    6.611980e+05  3.000000e+00  4.677000e+03\n",
       "50%    1.319012e+06  4.000000e+00  9.051000e+03\n",
       "75%    1.984455e+06  4.000000e+00  1.363500e+04\n",
       "max    2.649429e+06  5.000000e+00  1.777000e+04"
      ]
     },
     "execution_count": 111,
     "metadata": {},
     "output_type": "execute_result"
    }
   ],
   "source": [
    "df_all.describe()"
   ]
  },
  {
   "cell_type": "code",
   "execution_count": 112,
   "metadata": {},
   "outputs": [
    {
     "data": {
      "text/html": [
       "<div>\n",
       "<style scoped>\n",
       "    .dataframe tbody tr th:only-of-type {\n",
       "        vertical-align: middle;\n",
       "    }\n",
       "\n",
       "    .dataframe tbody tr th {\n",
       "        vertical-align: top;\n",
       "    }\n",
       "\n",
       "    .dataframe thead th {\n",
       "        text-align: right;\n",
       "    }\n",
       "</style>\n",
       "<table border=\"1\" class=\"dataframe\">\n",
       "  <thead>\n",
       "    <tr style=\"text-align: right;\">\n",
       "      <th></th>\n",
       "      <th>user_id</th>\n",
       "      <th>rating</th>\n",
       "      <th>movie_id</th>\n",
       "    </tr>\n",
       "  </thead>\n",
       "  <tbody>\n",
       "    <tr>\n",
       "      <th>0</th>\n",
       "      <td>1488844</td>\n",
       "      <td>3.0</td>\n",
       "      <td>1</td>\n",
       "    </tr>\n",
       "    <tr>\n",
       "      <th>1</th>\n",
       "      <td>822109</td>\n",
       "      <td>5.0</td>\n",
       "      <td>1</td>\n",
       "    </tr>\n",
       "    <tr>\n",
       "      <th>2</th>\n",
       "      <td>885013</td>\n",
       "      <td>4.0</td>\n",
       "      <td>1</td>\n",
       "    </tr>\n",
       "    <tr>\n",
       "      <th>3</th>\n",
       "      <td>30878</td>\n",
       "      <td>4.0</td>\n",
       "      <td>1</td>\n",
       "    </tr>\n",
       "    <tr>\n",
       "      <th>4</th>\n",
       "      <td>823519</td>\n",
       "      <td>3.0</td>\n",
       "      <td>1</td>\n",
       "    </tr>\n",
       "  </tbody>\n",
       "</table>\n",
       "</div>"
      ],
      "text/plain": [
       "   user_id  rating  movie_id\n",
       "0  1488844     3.0         1\n",
       "1   822109     5.0         1\n",
       "2   885013     4.0         1\n",
       "3    30878     4.0         1\n",
       "4   823519     3.0         1"
      ]
     },
     "execution_count": 112,
     "metadata": {},
     "output_type": "execute_result"
    }
   ],
   "source": [
    "df_all.head()"
   ]
  },
  {
   "cell_type": "markdown",
   "metadata": {},
   "source": [
    "## Creating our Base Dataset File (with all ratings for all films included)"
   ]
  },
  {
   "cell_type": "code",
   "execution_count": 113,
   "metadata": {},
   "outputs": [],
   "source": [
    "df_all.to_csv(\"processed_all.txt\", encoding='utf-8', index=False)"
   ]
  },
  {
   "cell_type": "code",
   "execution_count": 10,
   "metadata": {},
   "outputs": [
    {
     "data": {
      "text/html": [
       "<div>\n",
       "<style scoped>\n",
       "    .dataframe tbody tr th:only-of-type {\n",
       "        vertical-align: middle;\n",
       "    }\n",
       "\n",
       "    .dataframe tbody tr th {\n",
       "        vertical-align: top;\n",
       "    }\n",
       "\n",
       "    .dataframe thead th {\n",
       "        text-align: right;\n",
       "    }\n",
       "</style>\n",
       "<table border=\"1\" class=\"dataframe\">\n",
       "  <thead>\n",
       "    <tr style=\"text-align: right;\">\n",
       "      <th></th>\n",
       "      <th>user_id</th>\n",
       "      <th>rating</th>\n",
       "      <th>movie_id</th>\n",
       "    </tr>\n",
       "  </thead>\n",
       "  <tbody>\n",
       "    <tr>\n",
       "      <th>0</th>\n",
       "      <td>1488844</td>\n",
       "      <td>3.0</td>\n",
       "      <td>1</td>\n",
       "    </tr>\n",
       "    <tr>\n",
       "      <th>1</th>\n",
       "      <td>822109</td>\n",
       "      <td>5.0</td>\n",
       "      <td>1</td>\n",
       "    </tr>\n",
       "    <tr>\n",
       "      <th>2</th>\n",
       "      <td>885013</td>\n",
       "      <td>4.0</td>\n",
       "      <td>1</td>\n",
       "    </tr>\n",
       "    <tr>\n",
       "      <th>3</th>\n",
       "      <td>30878</td>\n",
       "      <td>4.0</td>\n",
       "      <td>1</td>\n",
       "    </tr>\n",
       "    <tr>\n",
       "      <th>4</th>\n",
       "      <td>823519</td>\n",
       "      <td>3.0</td>\n",
       "      <td>1</td>\n",
       "    </tr>\n",
       "  </tbody>\n",
       "</table>\n",
       "</div>"
      ],
      "text/plain": [
       "   user_id  rating  movie_id\n",
       "0  1488844     3.0         1\n",
       "1   822109     5.0         1\n",
       "2   885013     4.0         1\n",
       "3    30878     4.0         1\n",
       "4   823519     3.0         1"
      ]
     },
     "execution_count": 10,
     "metadata": {},
     "output_type": "execute_result"
    }
   ],
   "source": [
    "## reordering columns\n",
    "reorder_columns = pd.read_csv(\"processed_all.txt\")\n",
    "reorder_columns.head()"
   ]
  },
  {
   "cell_type": "code",
   "execution_count": 11,
   "metadata": {},
   "outputs": [
    {
     "data": {
      "text/html": [
       "<div>\n",
       "<style scoped>\n",
       "    .dataframe tbody tr th:only-of-type {\n",
       "        vertical-align: middle;\n",
       "    }\n",
       "\n",
       "    .dataframe tbody tr th {\n",
       "        vertical-align: top;\n",
       "    }\n",
       "\n",
       "    .dataframe thead th {\n",
       "        text-align: right;\n",
       "    }\n",
       "</style>\n",
       "<table border=\"1\" class=\"dataframe\">\n",
       "  <thead>\n",
       "    <tr style=\"text-align: right;\">\n",
       "      <th></th>\n",
       "      <th>user_id</th>\n",
       "      <th>movie_id</th>\n",
       "      <th>rating</th>\n",
       "    </tr>\n",
       "  </thead>\n",
       "  <tbody>\n",
       "    <tr>\n",
       "      <th>0</th>\n",
       "      <td>1488844</td>\n",
       "      <td>1</td>\n",
       "      <td>3.0</td>\n",
       "    </tr>\n",
       "    <tr>\n",
       "      <th>1</th>\n",
       "      <td>822109</td>\n",
       "      <td>1</td>\n",
       "      <td>5.0</td>\n",
       "    </tr>\n",
       "    <tr>\n",
       "      <th>2</th>\n",
       "      <td>885013</td>\n",
       "      <td>1</td>\n",
       "      <td>4.0</td>\n",
       "    </tr>\n",
       "    <tr>\n",
       "      <th>3</th>\n",
       "      <td>30878</td>\n",
       "      <td>1</td>\n",
       "      <td>4.0</td>\n",
       "    </tr>\n",
       "    <tr>\n",
       "      <th>4</th>\n",
       "      <td>823519</td>\n",
       "      <td>1</td>\n",
       "      <td>3.0</td>\n",
       "    </tr>\n",
       "  </tbody>\n",
       "</table>\n",
       "</div>"
      ],
      "text/plain": [
       "   user_id  movie_id  rating\n",
       "0  1488844         1     3.0\n",
       "1   822109         1     5.0\n",
       "2   885013         1     4.0\n",
       "3    30878         1     4.0\n",
       "4   823519         1     3.0"
      ]
     },
     "execution_count": 11,
     "metadata": {},
     "output_type": "execute_result"
    }
   ],
   "source": [
    "reorder_columns = reorder_columns[['user_id', 'movie_id', 'rating']]\n",
    "reorder_columns.head()"
   ]
  },
  {
   "cell_type": "code",
   "execution_count": 12,
   "metadata": {},
   "outputs": [],
   "source": [
    "reorder_columns.to_csv(\"processed_all_2.txt\", encoding='utf-8', index=False)"
   ]
  },
  {
   "cell_type": "code",
   "execution_count": 115,
   "metadata": {},
   "outputs": [
    {
     "name": "stdout",
     "output_type": "stream",
     "text": [
      "Additional features data summary\n",
      "(17769, 9)\n",
      " \n",
      "First 5 rows\n",
      "   id    year                         title  Runtime  Rating  \\\n",
      "0   1  2003.0               Dinosaur Planet     50.0     7.7   \n",
      "1   2  2004.0    Isle of Man TT 2004 Review      NaN     NaN   \n",
      "2   3  1997.0                     Character    122.0     7.8   \n",
      "3   4  1994.0  Paula Abdul's Get Up & Dance     54.0     8.8   \n",
      "4   5  2004.0      The Rise and Fall of ECW    360.0     8.6   \n",
      "\n",
      "             Directors                                          Writers  \\\n",
      "0  Pierre de Lespinois           Mike Carrol-Mike Carroll-Georgann Kane   \n",
      "1                  NaN                                              NaN   \n",
      "2        Mike van Diem  Ferdinand Bordewijk-Laurens Geels-Mike van Diem   \n",
      "3        Steve Purcell                                              NaN   \n",
      "4           Kevin Dunn                                      Paul Heyman   \n",
      "\n",
      "                 Production companies                        Genres  \n",
      "0                                 NaN  Documentary-Animation-Family  \n",
      "1                                 NaN                           NaN  \n",
      "2  First Floor Features-Almerica Film           Crime-Drama-Mystery  \n",
      "3                                 NaN                        Family  \n",
      "4                      WWE Home Video             Documentary-Sport  \n"
     ]
    }
   ],
   "source": [
    "df_extra = pd.read_csv('movies_addtl_features.csv')\n",
    "print('Additional features data summary')\n",
    "print(df_extra.shape)\n",
    "print(' ')\n",
    "print(\"First 5 rows\")\n",
    "print(df_extra.head())"
   ]
  },
  {
   "cell_type": "code",
   "execution_count": 116,
   "metadata": {},
   "outputs": [
    {
     "name": "stdout",
     "output_type": "stream",
     "text": [
      "Additional features dataframe columns: Index(['movie_id', 'year', 'title', 'Runtime', 'Directors', 'Writers',\n",
      "       'Production companies', 'Genres'],\n",
      "      dtype='object')\n"
     ]
    }
   ],
   "source": [
    "df_extra = df_extra.rename(columns={\"id\":\"movie_id\"})\n",
    "df_extra = df_extra.drop(columns='Rating')\n",
    "\n",
    "print(\"Additional features dataframe columns:\", df_extra.columns)"
   ]
  },
  {
   "cell_type": "markdown",
   "metadata": {},
   "source": [
    "#### Create File with All Ratings and All Additional Features (15GB)"
   ]
  },
  {
   "cell_type": "code",
   "execution_count": 118,
   "metadata": {},
   "outputs": [],
   "source": [
    "df_complete = df_all.merge(df_extra, on='movie_id')"
   ]
  },
  {
   "cell_type": "code",
   "execution_count": 114,
   "metadata": {},
   "outputs": [],
   "source": [
    "## this file could ultimately be of use in an extension of this project\n",
    "## df_complete.to_csv(\"processed_all_with_addtl_features.txt\", encoding='utf-8', index=False)"
   ]
  },
  {
   "cell_type": "code",
   "execution_count": 123,
   "metadata": {},
   "outputs": [
    {
     "name": "stdout",
     "output_type": "stream",
     "text": [
      "          user_id  rating  movie_id    year                title  Runtime  \\\n",
      "13576034  2567110     5.0      2590  1992.0              Newsies    121.0   \n",
      "53182447  1342437     4.0      9662  2003.0    Angels in America    352.0   \n",
      "98173592  1319243     3.0     17339  1987.0    Full Metal Jacket    116.0   \n",
      "70115677  1335658     3.0     12702  1955.0  The Desperate Hours    112.0   \n",
      "97663375  1300500     3.0     17295  2000.0                   Me      NaN   \n",
      "\n",
      "                Directors                                      Writers  \\\n",
      "13576034     Kenny Ortega                      Bob Tzudiker-Noni White   \n",
      "53182447     Mike Nichols                                 Tony Kushner   \n",
      "98173592  Stanley Kubrick  Stanley Kubrick-Michael Herr-Gustav Hasford   \n",
      "70115677    William Wyler        Joseph Hayes-Joseph Hayes-Jay Dratler   \n",
      "97663375              NaN                                          NaN   \n",
      "\n",
      "                                       Production companies  \\\n",
      "13576034  Touchwood Pacific Partners 1-Walt Disney Pictures   \n",
      "53182447           Avenue Pictures-HBO Films-Panorama Films   \n",
      "98173592    Natant-Stanley Kubrick Productions-Warner Bros.   \n",
      "70115677                                 Paramount Pictures   \n",
      "97663375                                                NaN   \n",
      "\n",
      "                                  Genres  \n",
      "13576034    Drama-Family-History-Musical  \n",
      "53182447           Drama-Fantasy-Romance  \n",
      "98173592                       Drama-War  \n",
      "70115677  Crime-Drama-Film-Noir-Thriller  \n",
      "97663375                             NaN  \n"
     ]
    }
   ],
   "source": [
    "print(df_complete.sample(5))"
   ]
  },
  {
   "cell_type": "markdown",
   "metadata": {},
   "source": [
    "#### Create Ratings File With Titles Included (3.9GB)"
   ]
  },
  {
   "cell_type": "code",
   "execution_count": 120,
   "metadata": {},
   "outputs": [
    {
     "data": {
      "text/html": [
       "<div>\n",
       "<style scoped>\n",
       "    .dataframe tbody tr th:only-of-type {\n",
       "        vertical-align: middle;\n",
       "    }\n",
       "\n",
       "    .dataframe tbody tr th {\n",
       "        vertical-align: top;\n",
       "    }\n",
       "\n",
       "    .dataframe thead th {\n",
       "        text-align: right;\n",
       "    }\n",
       "</style>\n",
       "<table border=\"1\" class=\"dataframe\">\n",
       "  <thead>\n",
       "    <tr style=\"text-align: right;\">\n",
       "      <th></th>\n",
       "      <th>movie_id</th>\n",
       "      <th>title</th>\n",
       "      <th>year</th>\n",
       "    </tr>\n",
       "  </thead>\n",
       "  <tbody>\n",
       "    <tr>\n",
       "      <th>0</th>\n",
       "      <td>1</td>\n",
       "      <td>Dinosaur Planet</td>\n",
       "      <td>2003.0</td>\n",
       "    </tr>\n",
       "    <tr>\n",
       "      <th>1</th>\n",
       "      <td>2</td>\n",
       "      <td>Isle of Man TT 2004 Review</td>\n",
       "      <td>2004.0</td>\n",
       "    </tr>\n",
       "    <tr>\n",
       "      <th>2</th>\n",
       "      <td>3</td>\n",
       "      <td>Character</td>\n",
       "      <td>1997.0</td>\n",
       "    </tr>\n",
       "    <tr>\n",
       "      <th>3</th>\n",
       "      <td>4</td>\n",
       "      <td>Paula Abdul's Get Up &amp; Dance</td>\n",
       "      <td>1994.0</td>\n",
       "    </tr>\n",
       "    <tr>\n",
       "      <th>4</th>\n",
       "      <td>5</td>\n",
       "      <td>The Rise and Fall of ECW</td>\n",
       "      <td>2004.0</td>\n",
       "    </tr>\n",
       "  </tbody>\n",
       "</table>\n",
       "</div>"
      ],
      "text/plain": [
       "   movie_id                         title    year\n",
       "0         1               Dinosaur Planet  2003.0\n",
       "1         2    Isle of Man TT 2004 Review  2004.0\n",
       "2         3                     Character  1997.0\n",
       "3         4  Paula Abdul's Get Up & Dance  1994.0\n",
       "4         5      The Rise and Fall of ECW  2004.0"
      ]
     },
     "execution_count": 120,
     "metadata": {},
     "output_type": "execute_result"
    }
   ],
   "source": [
    "df_titles = df_extra[['movie_id', 'title', 'year']]\n",
    "df_titles.head()"
   ]
  },
  {
   "cell_type": "code",
   "execution_count": 121,
   "metadata": {},
   "outputs": [
    {
     "data": {
      "text/html": [
       "<div>\n",
       "<style scoped>\n",
       "    .dataframe tbody tr th:only-of-type {\n",
       "        vertical-align: middle;\n",
       "    }\n",
       "\n",
       "    .dataframe tbody tr th {\n",
       "        vertical-align: top;\n",
       "    }\n",
       "\n",
       "    .dataframe thead th {\n",
       "        text-align: right;\n",
       "    }\n",
       "</style>\n",
       "<table border=\"1\" class=\"dataframe\">\n",
       "  <thead>\n",
       "    <tr style=\"text-align: right;\">\n",
       "      <th></th>\n",
       "      <th>user_id</th>\n",
       "      <th>rating</th>\n",
       "      <th>movie_id</th>\n",
       "      <th>title</th>\n",
       "      <th>year</th>\n",
       "    </tr>\n",
       "  </thead>\n",
       "  <tbody>\n",
       "    <tr>\n",
       "      <th>0</th>\n",
       "      <td>1488844</td>\n",
       "      <td>3.0</td>\n",
       "      <td>1</td>\n",
       "      <td>Dinosaur Planet</td>\n",
       "      <td>2003.0</td>\n",
       "    </tr>\n",
       "    <tr>\n",
       "      <th>1</th>\n",
       "      <td>822109</td>\n",
       "      <td>5.0</td>\n",
       "      <td>1</td>\n",
       "      <td>Dinosaur Planet</td>\n",
       "      <td>2003.0</td>\n",
       "    </tr>\n",
       "    <tr>\n",
       "      <th>2</th>\n",
       "      <td>885013</td>\n",
       "      <td>4.0</td>\n",
       "      <td>1</td>\n",
       "      <td>Dinosaur Planet</td>\n",
       "      <td>2003.0</td>\n",
       "    </tr>\n",
       "    <tr>\n",
       "      <th>3</th>\n",
       "      <td>30878</td>\n",
       "      <td>4.0</td>\n",
       "      <td>1</td>\n",
       "      <td>Dinosaur Planet</td>\n",
       "      <td>2003.0</td>\n",
       "    </tr>\n",
       "    <tr>\n",
       "      <th>4</th>\n",
       "      <td>823519</td>\n",
       "      <td>3.0</td>\n",
       "      <td>1</td>\n",
       "      <td>Dinosaur Planet</td>\n",
       "      <td>2003.0</td>\n",
       "    </tr>\n",
       "  </tbody>\n",
       "</table>\n",
       "</div>"
      ],
      "text/plain": [
       "   user_id  rating  movie_id            title    year\n",
       "0  1488844     3.0         1  Dinosaur Planet  2003.0\n",
       "1   822109     5.0         1  Dinosaur Planet  2003.0\n",
       "2   885013     4.0         1  Dinosaur Planet  2003.0\n",
       "3    30878     4.0         1  Dinosaur Planet  2003.0\n",
       "4   823519     3.0         1  Dinosaur Planet  2003.0"
      ]
     },
     "execution_count": 121,
     "metadata": {},
     "output_type": "execute_result"
    }
   ],
   "source": [
    "df_complete_titles = df_all.merge(df_titles, on='movie_id')\n",
    "df_complete_titles.head()"
   ]
  },
  {
   "cell_type": "code",
   "execution_count": null,
   "metadata": {},
   "outputs": [],
   "source": [
    "df_complete_titles.to_csv(\"processed_all_with_titles.txt\", encoding='utf-8', index=False)"
   ]
  },
  {
   "cell_type": "markdown",
   "metadata": {},
   "source": [
    "# Data Splitting/Sampling"
   ]
  },
  {
   "cell_type": "markdown",
   "metadata": {},
   "source": [
    "## Load and parse the data"
   ]
  },
  {
   "cell_type": "code",
   "execution_count": 10,
   "metadata": {},
   "outputs": [],
   "source": [
    "import os\n",
    "\n",
    "from pyspark import SparkContext\n",
    "from pyspark import SparkConf\n",
    "from pyspark.mllib import recommendation\n",
    "from pyspark.mllib.recommendation import *"
   ]
  },
  {
   "cell_type": "code",
   "execution_count": 11,
   "metadata": {},
   "outputs": [],
   "source": [
    "conf = SparkConf().setMaster(\"local\").setAppName(\"netflix\")\n",
    "sc = SparkContext.getOrCreate(conf=conf)"
   ]
  },
  {
   "cell_type": "code",
   "execution_count": 12,
   "metadata": {},
   "outputs": [
    {
     "data": {
      "text/plain": [
       "['1488844,1,3.0',\n",
       " '822109,1,5.0',\n",
       " '885013,1,4.0',\n",
       " '30878,1,4.0',\n",
       " '823519,1,3.0']"
      ]
     },
     "execution_count": 12,
     "metadata": {},
     "output_type": "execute_result"
    }
   ],
   "source": [
    "data_load = sc.textFile(\"processed_all_2.txt\")\n",
    "\n",
    "header = data_load.first() ## assign first record name \"header\"\n",
    "data_noh = data_load.filter(lambda row: row != header) ## filter \"header\" record from RDD\n",
    "\n",
    "seed = 314\n",
    "weights = [0.75, 0.25]\n",
    "(training, test) = data_noh.randomSplit(weights, seed)\n",
    "training.cache()\n",
    "test.cache()\n",
    "\n",
    "training.take(5)"
   ]
  },
  {
   "cell_type": "code",
   "execution_count": 4,
   "metadata": {},
   "outputs": [],
   "source": [
    "ratings_train = training.map(lambda x: x.split(','))\\\n",
    "                        .map(lambda x: Rating(int(x[0]), int(x[1]), float(x[2])))\n",
    "\n",
    "ratings_test = test.map(lambda x: x.split(','))\\\n",
    "                   .map(lambda x: Rating(int(x[0]), int(x[1]), float(x[2])))"
   ]
  },
  {
   "cell_type": "code",
   "execution_count": 7,
   "metadata": {},
   "outputs": [
    {
     "data": {
      "text/plain": [
       "[Rating(user=1488844, product=1, rating=3.0),\n",
       " Rating(user=822109, product=1, rating=5.0),\n",
       " Rating(user=885013, product=1, rating=4.0),\n",
       " Rating(user=30878, product=1, rating=4.0),\n",
       " Rating(user=823519, product=1, rating=3.0)]"
      ]
     },
     "execution_count": 7,
     "metadata": {},
     "output_type": "execute_result"
    }
   ],
   "source": [
    "ratings_train.take(5)"
   ]
  },
  {
   "cell_type": "code",
   "execution_count": 8,
   "metadata": {},
   "outputs": [
    {
     "data": {
      "text/plain": [
       "[Rating(user=2207774, product=1, rating=5.0),\n",
       " Rating(user=1086807, product=1, rating=3.0),\n",
       " Rating(user=1181550, product=1, rating=3.0),\n",
       " Rating(user=2263586, product=1, rating=4.0),\n",
       " Rating(user=2508819, product=1, rating=3.0)]"
      ]
     },
     "execution_count": 8,
     "metadata": {},
     "output_type": "execute_result"
    }
   ],
   "source": [
    "ratings_test.take(5)"
   ]
  },
  {
   "cell_type": "markdown",
   "metadata": {},
   "source": [
    "# Model Construction"
   ]
  },
  {
   "cell_type": "markdown",
   "metadata": {},
   "source": [
    "# `Linear Regression`"
   ]
  },
  {
   "cell_type": "code",
   "execution_count": 12,
   "metadata": {},
   "outputs": [],
   "source": [
    "from pyspark.ml.feature import VectorAssembler\n",
    "from pyspark.ml.feature import StandardScaler\n",
    "from pyspark.ml.classification import LogisticRegression\n",
    "from pyspark.ml.regression import LinearRegression\n",
    "from pyspark.ml.evaluation import RegressionEvaluator\n",
    "from pyspark.mllib.classification import LogisticRegressionWithLBFGS, LogisticRegressionModel"
   ]
  },
  {
   "cell_type": "code",
   "execution_count": 18,
   "metadata": {},
   "outputs": [],
   "source": [
    "spark = SparkSession.builder.getOrCreate()"
   ]
  },
  {
   "cell_type": "code",
   "execution_count": 12,
   "metadata": {},
   "outputs": [],
   "source": [
    "#loading the data from the cleaned up file \n",
    "file = \"processed_all_2.txt\"\n",
    "original = spark.read.csv(file,  inferSchema=True, header = True)\n",
    "data_lr=original\n",
    "#input_var = ['user_id','movie_id']\n",
    "#data=original.select(input_var)"
   ]
  },
  {
   "cell_type": "code",
   "execution_count": 13,
   "metadata": {},
   "outputs": [],
   "source": [
    "assembler = VectorAssembler(inputCols=['user_id','movie_id'],outputCol='features')\n",
    "df_assembled = assembler.transform(data_lr)\n",
    "df_assembled = df_assembled.select(['features', 'rating'])"
   ]
  },
  {
   "cell_type": "code",
   "execution_count": 14,
   "metadata": {},
   "outputs": [
    {
     "data": {
      "text/plain": [
       "[Row(features=DenseVector([6.0, 30.0]), rating=3.0),\n",
       " Row(features=DenseVector([6.0, 157.0]), rating=3.0),\n",
       " Row(features=DenseVector([6.0, 173.0]), rating=4.0),\n",
       " Row(features=DenseVector([6.0, 191.0]), rating=2.0),\n",
       " Row(features=DenseVector([6.0, 241.0]), rating=3.0)]"
      ]
     },
     "execution_count": 14,
     "metadata": {},
     "output_type": "execute_result"
    }
   ],
   "source": [
    "seed = 314\n",
    "\n",
    "#splitting the data out to 80% training and 20% test data \n",
    "weights_82 = [0.8, 0.2]\n",
    "(train_lr, test_lr) = df_assembled.randomSplit(weights_82, seed)\n",
    "train_lr.cache()\n",
    "test_lr.cache()\n",
    "\n",
    "train_lr.take(5)"
   ]
  },
  {
   "cell_type": "code",
   "execution_count": 24,
   "metadata": {},
   "outputs": [],
   "source": [
    "#setting the values for the regression \n",
    "maxIter=10\n",
    "regParam=0.3\n",
    "elasticNetParam=0.8\n",
    "\n",
    "lr = LinearRegression(featuresCol='features', labelCol='rating', maxIter=maxIter, regParam=regParam,elasticNetParam=elasticNetParam)"
   ]
  },
  {
   "cell_type": "code",
   "execution_count": 25,
   "metadata": {},
   "outputs": [
    {
     "name": "stdout",
     "output_type": "stream",
     "text": [
      "Started training at :\n",
      "2021-08-07 18:46:26.825433\n",
      "\n",
      "Finished training at :\n",
      "2021-08-07 18:58:53.759433\n"
     ]
    }
   ],
   "source": [
    "print(\"Started training at :\")\n",
    "print(str(datetime.now()))\n",
    "print()\n",
    "\n",
    "# Fit the model\n",
    "lrModel = lr.fit(train_lr)\n",
    "\n",
    "print(\"Finished training at :\")\n",
    "print(str(datetime.now()))"
   ]
  },
  {
   "cell_type": "code",
   "execution_count": 26,
   "metadata": {},
   "outputs": [],
   "source": [
    "#running predictions\n",
    "lrPred = lrModel.transform(test_lr)"
   ]
  },
  {
   "cell_type": "code",
   "execution_count": 27,
   "metadata": {},
   "outputs": [],
   "source": [
    "#evaluating for the MSE\n",
    "ev = RegressionEvaluator(predictionCol=\"prediction\", labelCol=\"rating\")\n"
   ]
  },
  {
   "cell_type": "code",
   "execution_count": 28,
   "metadata": {},
   "outputs": [
    {
     "name": "stdout",
     "output_type": "stream",
     "text": [
      "Mean Squared Error: 1.1776820840757969\n",
      "R^2: -5.265293756551159e-09\n"
     ]
    }
   ],
   "source": [
    "#printing the results \n",
    "print(\"Mean Squared Error:\", ev.evaluate(lrPred, {ev.metricName: \"mse\"}))\n",
    "print(\"R^2:\", ev.evaluate(lrPred, {ev.metricName: \"r2\"}))"
   ]
  },
  {
   "cell_type": "markdown",
   "metadata": {},
   "source": [
    "## `Linear Regression: LASSO`"
   ]
  },
  {
   "cell_type": "code",
   "execution_count": 15,
   "metadata": {},
   "outputs": [],
   "source": [
    "#changing the elasticNetParam to 1 to equal Lasso regression\n",
    "maxIter=10\n",
    "regParam=0.3\n",
    "elasticNetParam2=1\n",
    "\n",
    "lr_lasso = LinearRegression(featuresCol='features', labelCol='rating', maxIter=maxIter, regParam=regParam,elasticNetParam=elasticNetParam2)"
   ]
  },
  {
   "cell_type": "code",
   "execution_count": 16,
   "metadata": {},
   "outputs": [
    {
     "name": "stdout",
     "output_type": "stream",
     "text": [
      "Started training at :\n",
      "2021-08-08 14:44:23.549429\n",
      "\n",
      "Finished training at :\n",
      "2021-08-08 14:55:29.941673\n"
     ]
    }
   ],
   "source": [
    "print(\"Started training at :\")\n",
    "print(str(datetime.now()))\n",
    "print()\n",
    "\n",
    "# Fit the model\n",
    "lrModel_lasso = lr_lasso.fit(train_lr)\n",
    "\n",
    "print(\"Finished training at :\")\n",
    "print(str(datetime.now()))\n",
    "\n",
    "#running predictions\n",
    "lrPred_lasso = lrModel_lasso.transform(test_lr)"
   ]
  },
  {
   "cell_type": "code",
   "execution_count": 17,
   "metadata": {},
   "outputs": [],
   "source": [
    "#evaluating for the MSE\n",
    "ev_2 = RegressionEvaluator(predictionCol=\"prediction\", labelCol=\"rating\")\n"
   ]
  },
  {
   "cell_type": "code",
   "execution_count": 18,
   "metadata": {},
   "outputs": [
    {
     "name": "stdout",
     "output_type": "stream",
     "text": [
      "Mean Squared Error: 1.1776820840757969\n",
      "R^2: -5.265293756551159e-09\n"
     ]
    }
   ],
   "source": [
    "#printing the results for lasso regression\n",
    "print(\"Mean Squared Error:\", ev_2.evaluate(lrPred_lasso, {ev_2.metricName: \"mse\"}))\n",
    "print(\"R^2:\", ev_2.evaluate(lrPred_lasso, {ev_2.metricName: \"r2\"}))"
   ]
  },
  {
   "cell_type": "markdown",
   "metadata": {},
   "source": [
    "### `Linear Regression: RIDGE`"
   ]
  },
  {
   "cell_type": "code",
   "execution_count": 19,
   "metadata": {},
   "outputs": [],
   "source": [
    "#changing the elasticNetParam to 0 to equal ridge regression\n",
    "maxIter=10\n",
    "regParam=0.3\n",
    "elasticNetParam3=0\n",
    "\n",
    "lr_ridge = LinearRegression(featuresCol='features', labelCol='rating', maxIter=maxIter, regParam=regParam,elasticNetParam=elasticNetParam3)"
   ]
  },
  {
   "cell_type": "code",
   "execution_count": 20,
   "metadata": {},
   "outputs": [
    {
     "name": "stdout",
     "output_type": "stream",
     "text": [
      "Started training at :\n",
      "2021-08-08 15:24:21.738349\n",
      "\n",
      "Finished training at :\n",
      "2021-08-08 15:27:44.492339\n"
     ]
    }
   ],
   "source": [
    "print(\"Started training at :\")\n",
    "print(str(datetime.now()))\n",
    "print()\n",
    "\n",
    "# Fit the model\n",
    "lrModel_ridge = lr_ridge.fit(train_lr)\n",
    "\n",
    "print(\"Finished training at :\")\n",
    "print(str(datetime.now()))\n",
    "\n",
    "#running predictions\n",
    "lrPred_ridge = lrModel_ridge.transform(test_lr)"
   ]
  },
  {
   "cell_type": "code",
   "execution_count": 21,
   "metadata": {},
   "outputs": [],
   "source": [
    "#evaluating for the MSE\n",
    "ev_3 = RegressionEvaluator(predictionCol=\"prediction\", labelCol=\"rating\")"
   ]
  },
  {
   "cell_type": "code",
   "execution_count": 22,
   "metadata": {},
   "outputs": [
    {
     "name": "stdout",
     "output_type": "stream",
     "text": [
      "Mean Squared Error: 1.1775978471130295\n",
      "R^2: 7.15224961878036e-05\n"
     ]
    }
   ],
   "source": [
    "#printing the results for lasso regression\n",
    "print(\"Mean Squared Error:\", ev_3.evaluate(lrPred_ridge, {ev_3.metricName: \"mse\"}))\n",
    "print(\"R^2:\", ev_3.evaluate(lrPred_ridge, {ev_3.metricName: \"r2\"}))"
   ]
  },
  {
   "cell_type": "markdown",
   "metadata": {},
   "source": [
    "### Linear Regression Results"
   ]
  },
  {
   "cell_type": "code",
   "execution_count": 23,
   "metadata": {},
   "outputs": [
    {
     "name": "stdout",
     "output_type": "stream",
     "text": [
      "root\n",
      " |-- Model: string (nullable = true)\n",
      " |-- Train/Test Split: string (nullable = true)\n",
      " |-- ElasticNetParam: float (nullable = true)\n",
      " |-- MSE: float (nullable = true)\n",
      " |-- RMSE: float (nullable = true)\n",
      " |-- R^2: float (nullable = true)\n",
      "\n",
      "+-----------------+----------------+---------------+--------+------+----------+\n",
      "|Model            |Train/Test Split|ElasticNetParam|MSE     |RMSE  |R^2       |\n",
      "+-----------------+----------------+---------------+--------+------+----------+\n",
      "|Linear Regression|80/20           |0.8            |1.177682|1.3869|-5.2653E-9|\n",
      "|Lasso Regression |80/20           |1.0            |1.177682|1.3869|-5.2653E-9|\n",
      "|Ridge Regression |80/20           |0.0            |1.1776  |1.3867|7.15E-5   |\n",
      "+-----------------+----------------+---------------+--------+------+----------+\n",
      "\n"
     ]
    }
   ],
   "source": [
    "## create dataframe of results (for extra practice)\n",
    "\n",
    "from pyspark.sql.types import StructType,StructField, StringType, IntegerType, FloatType\n",
    "\n",
    "data2 = [(\"Linear Regression\",\"80/20\",0.8,1.177682,1.3869,-5.2653e-09),\n",
    "    (\"Lasso Regression\",\"80/20\",1.0,1.177682,1.3869,-5.2653e-09),\n",
    "    (\"Ridge Regression\",\"80/20\",0.0,1.17760,1.3867,0.0000715)\n",
    "  ]\n",
    "\n",
    "schema = StructType([\n",
    "    StructField(\"Model\",StringType(),True), \\\n",
    "    StructField(\"Train/Test Split\",StringType(),True), \\\n",
    "    StructField(\"ElasticNetParam\", FloatType(), True), \\\n",
    "    StructField(\"MSE\", FloatType(), True), \\\n",
    "    StructField(\"RMSE\", FloatType(), True), \\\n",
    "    StructField(\"R^2\", FloatType(), True),\n",
    "  ])\n",
    " \n",
    "df_results = spark.createDataFrame(data=data2,schema=schema)\n",
    "df_results.printSchema()\n",
    "df_results.show(truncate=False)"
   ]
  },
  {
   "cell_type": "markdown",
   "metadata": {},
   "source": [
    "# `K-Means`"
   ]
  },
  {
   "cell_type": "markdown",
   "metadata": {},
   "source": [
    "**Please see additional Jupyter Notebook (`K-means_final.ipynb`) containing code specific to the development of a K-Means model included in our submission.**"
   ]
  },
  {
   "cell_type": "markdown",
   "metadata": {},
   "source": [
    "# `Alternating Least Squares`"
   ]
  },
  {
   "cell_type": "code",
   "execution_count": 30,
   "metadata": {},
   "outputs": [
    {
     "name": "stdout",
     "output_type": "stream",
     "text": [
      "Started training at :\n",
      "2021-08-07 19:12:49.595474\n",
      "\n",
      "Finished training at :\n",
      "2021-08-07 19:30:07.989746\n"
     ]
    }
   ],
   "source": [
    "print(\"Started training at :\")\n",
    "print(str(datetime.now()))\n",
    "print()\n",
    "\n",
    "# Build model (ALS)\n",
    "rank = 10\n",
    "numIterations = 10\n",
    "alpha = 0.01\n",
    "\n",
    "base_als_model = ALS.train(ratings_train, \n",
    "                  rank, \n",
    "                  numIterations, alpha)\n",
    "\n",
    "print(\"Finished training at :\")\n",
    "print(str(datetime.now()))"
   ]
  },
  {
   "cell_type": "code",
   "execution_count": 32,
   "metadata": {},
   "outputs": [],
   "source": [
    "# Evaluate on test data (25% sample of 'processed_all.txt')\n",
    "\n",
    "## create RDD of test data that does not include ratings\n",
    "test_obscure_rating = ratings_test.map(lambda x: (x[0], x[1]))\n",
    "\n",
    "## use RDD w/o ratings to make predictions\n",
    "predictions = base_als_model.predictAll(test_obscure_rating).map(lambda x: ((x[0], x[1]), x[2]))\n",
    "\n",
    "## add/join predictions to original test data RDD\n",
    "ratesAndPreds = ratings_test.map(lambda x: ((x[0], x[1]), x[2])).join(predictions)\n",
    "\n",
    "## calculate MSE and RMSE using predicted ratings versus actual ratings\n",
    "MSE = ratesAndPreds.map(lambda x: (x[1][0] - x[1][1])**2).mean()\n",
    "RMSE = MSE**(0.5)\n"
   ]
  },
  {
   "cell_type": "code",
   "execution_count": 33,
   "metadata": {},
   "outputs": [
    {
     "name": "stdout",
     "output_type": "stream",
     "text": [
      "Model: ALS\n",
      "\n",
      "alpha: 0.01\n",
      "Train/Test Split: [0.75, 0.25]\n",
      "\n",
      "Total Features Selected: 10\n",
      "\n",
      "Mean Squared Error: 0.7277701160129343\n",
      "Root Mean Squared Error: 0.8530944355772896\n"
     ]
    }
   ],
   "source": [
    "print(\"Model: ALS\")\n",
    "print('')\n",
    "print(\"alpha: \"+ str(alpha))\n",
    "print(\"Train/Test Split: \"+ str(weights))\n",
    "print('')\n",
    "print(\"Total Features Selected: \"+ str(rank))\n",
    "print('')\n",
    "print(\"Mean Squared Error: \" + str(MSE))\n",
    "print(\"Root Mean Squared Error: \" + str(RMSE))"
   ]
  },
  {
   "cell_type": "markdown",
   "metadata": {},
   "source": [
    "## Cross-Validation / Model Tuning & Selection"
   ]
  },
  {
   "cell_type": "code",
   "execution_count": 6,
   "metadata": {},
   "outputs": [],
   "source": [
    "from pyspark.ml.recommendation import ALS\n",
    "from pyspark.ml.tuning import CrossValidator, ParamGridBuilder"
   ]
  },
  {
   "cell_type": "code",
   "execution_count": null,
   "metadata": {},
   "outputs": [],
   "source": [
    "spark = SparkSession.builder.getOrCreate()"
   ]
  },
  {
   "cell_type": "code",
   "execution_count": null,
   "metadata": {},
   "outputs": [],
   "source": [
    "cv = spark.read.csv(\"processed_all_2.txt\",  inferSchema=True, header = True)\n",
    "\n",
    "(train_cv, test_cv) = cv.randomSplit([80.0, 20.0])"
   ]
  },
  {
   "cell_type": "code",
   "execution_count": null,
   "metadata": {},
   "outputs": [],
   "source": [
    "## (train_cv, test_cv) = data_noh.randomSplit([80.0, 20.0])\n",
    "## code executed and results obtained in another file\n",
    "\n",
    "evaluator = RegressionEvaluator(metricName='rmse', \n",
    "                                labelCol='rating', \n",
    "                                predictionCol='prediction')\n",
    "\n",
    "als = ALS(userCol='user_id', itemCol='movie_id', ratingCol='rating')\n",
    "\n",
    "# Set up the parameter grid\n",
    "paramGrid = ParamGridBuilder() \\\n",
    "    .addGrid(als.rank, [1, 5, 10, 15]) \\\n",
    "    .addGrid(als.maxIter, [20]) \\\n",
    "    .build()\n",
    "\n",
    "crossval = CrossValidator(estimator=als, \n",
    "                          estimatorParamMaps=paramGrid, \n",
    "                          evaluator=evaluator, \n",
    "                          numFolds=10)"
   ]
  },
  {
   "cell_type": "code",
   "execution_count": null,
   "metadata": {},
   "outputs": [],
   "source": [
    "## code executed and results obtained in another file\n",
    "\n",
    "print(\"Started training at :\")\n",
    "print(str(datetime.now()))\n",
    "print()\n",
    "cvModel = crossval.setParallelism(4).fit(train_cv)\n",
    "print(\"Finished training at :\")\n",
    "print(str(datetime.now()))\n",
    "\n",
    "predictions = cvModel.transform(test_cv)\n",
    "\n",
    "print('The root mean squared error for our model is: {}'.format(evaluator.evaluate(predictions.na.drop())))\n",
    "\n"
   ]
  },
  {
   "cell_type": "markdown",
   "metadata": {},
   "source": [
    "### Rank Selection Search"
   ]
  },
  {
   "cell_type": "code",
   "execution_count": null,
   "metadata": {},
   "outputs": [],
   "source": [
    "## code executed and results obtained in another file\n",
    "\n",
    "print(\"Started training at :\")\n",
    "print(str(datetime.now()))\n",
    "print()\n",
    "\n",
    "rank = (5, 10, 15, 20)\n",
    "numIterations = 10\n",
    "alpha = 0.01\n",
    "results = []\n",
    "for i in rank:\n",
    "    model = ALS.train(ratings_train, i, numIterations, alpha)\n",
    "    test_obscure_rating = ratings_test.map(lambda x: (x[0], x[1]))\n",
    "    predictions = model.predictAll(test_obscure_rating).map(lambda x: ((x[0], x[1]), x[2]))\n",
    "    ratesAndPreds = ratings_test.map(lambda x: ((x[0], x[1]), x[2])).join(predictions)\n",
    "    MSE = ratesAndPreds.map(lambda x: (x[1][0] - x[1][1])**2).mean()\n",
    "    results.append(MSE)    \n",
    "print(\"Finished training at :\")\n",
    "print(str(datetime.now()))"
   ]
  },
  {
   "cell_type": "code",
   "execution_count": null,
   "metadata": {},
   "outputs": [],
   "source": [
    "Root_MSE = []\n",
    "for i in results:\n",
    "    RMSE = i**(0.5)\n",
    "    Root_MSE.append(RMSE)\n",
    "    \n",
    "df_test = pd.DataFrame(list(zip(rank,results,Root_MSE)), columns = ['rank', 'MSE', 'RMSE'])\n",
    "df_test"
   ]
  },
  {
   "cell_type": "markdown",
   "metadata": {},
   "source": [
    "## Personalized Recommendations for Specific Users (via `Broadcast`)"
   ]
  },
  {
   "cell_type": "code",
   "execution_count": 34,
   "metadata": {},
   "outputs": [
    {
     "data": {
      "text/plain": [
       "['1488844,1,3.0',\n",
       " '822109,1,5.0',\n",
       " '885013,1,4.0',\n",
       " '30878,1,4.0',\n",
       " '823519,1,3.0']"
      ]
     },
     "execution_count": 34,
     "metadata": {},
     "output_type": "execute_result"
    }
   ],
   "source": [
    "training.take(5)"
   ]
  },
  {
   "cell_type": "code",
   "execution_count": 35,
   "metadata": {},
   "outputs": [
    {
     "data": {
      "text/plain": [
       "['1,2003,Dinosaur Planet',\n",
       " '2,2004,Isle of Man TT 2004 Review',\n",
       " '3,1997,Character',\n",
       " \"4,1994,Paula Abdul's Get Up & Dance\",\n",
       " '5,2004,The Rise and Fall of ECW']"
      ]
     },
     "execution_count": 35,
     "metadata": {},
     "output_type": "execute_result"
    }
   ],
   "source": [
    "titlesRDD = sc.textFile(\"movie_titles.csv\")\n",
    "titlesRDD.take(5)"
   ]
  },
  {
   "cell_type": "code",
   "execution_count": 36,
   "metadata": {},
   "outputs": [],
   "source": [
    "def parseMovieIdTitlePair(singlePair):\n",
    "   splitPair = singlePair.rsplit(',')\n",
    "   # we should have two items in the list - movie_id and movie_title\n",
    "   if len(splitPair) != 3:\n",
    "       return []\n",
    "   else:\n",
    "       try:\n",
    "           return [(int(splitPair[0]), splitPair[2])]\n",
    "       except:\n",
    "           return []"
   ]
  },
  {
   "cell_type": "code",
   "execution_count": 37,
   "metadata": {},
   "outputs": [
    {
     "data": {
      "text/plain": [
       "pyspark.rdd.PipelinedRDD"
      ]
     },
     "execution_count": 37,
     "metadata": {},
     "output_type": "execute_result"
    }
   ],
   "source": [
    "movieID_titleOnly = titlesRDD.flatMap(lambda x: (parseMovieIdTitlePair(x)))\\\n",
    "                                .map(lambda x: x[1])\n",
    "type(movieID_titleOnly)"
   ]
  },
  {
   "cell_type": "code",
   "execution_count": 38,
   "metadata": {},
   "outputs": [
    {
     "data": {
      "text/plain": [
       "['Dinosaur Planet',\n",
       " 'Isle of Man TT 2004 Review',\n",
       " 'Character',\n",
       " \"Paula Abdul's Get Up & Dance\",\n",
       " 'The Rise and Fall of ECW']"
      ]
     },
     "execution_count": 38,
     "metadata": {},
     "output_type": "execute_result"
    }
   ],
   "source": [
    "movieID_titleOnly.take(5)"
   ]
  },
  {
   "cell_type": "code",
   "execution_count": 44,
   "metadata": {},
   "outputs": [],
   "source": [
    "movieByID = titlesRDD.flatMap(lambda x: parseMovieIdTitlePair(x)).collectAsMap()"
   ]
  },
  {
   "cell_type": "code",
   "execution_count": 45,
   "metadata": {},
   "outputs": [],
   "source": [
    "# Model Evaluation\n",
    "\n",
    "# fetch movies for a test user\n",
    "testUserID = 30878\n",
    "\n",
    "# broadcast movieByID for speed\n",
    "movieByIDBroadcast = sc.broadcast( movieByID )\n",
    "\n",
    "# from the training data, collect the movies for the test user. Call the object moviesForUser.\n",
    "\n",
    "moviesForUser = (ratings_train\n",
    "                  .filter(lambda observation: observation.user == testUserID)\n",
    "                  .map(lambda observation: movieByIDBroadcast.value.get(observation.product))\n",
    "                  .collect())"
   ]
  },
  {
   "cell_type": "code",
   "execution_count": 46,
   "metadata": {},
   "outputs": [
    {
     "name": "stdout",
     "output_type": "stream",
     "text": [
      "['Dinosaur Planet', 'The Rise and Fall of ECW', 'Lilo and Stitch', 'Dragonheart', 'Mostly Martha', 'Rambo: First Blood Part II', 'Richard Pryor: Live on the Sunset Strip', 'Airplane II: The Sequel', 'Taking Lives', 'Gross Anatomy', \"Charlotte's Web\", 'Herbie Rides Again', 'The Final Countdown', 'Parenthood', \"The Devil's Own\", \"Bridget Jones's Diary\", 'High Fidelity', 'Dogma', 'Wild Things', 'House of Sand and Fog', 'Igby Goes Down', 'Transformers: Season 3: Part 1', 'Saturday Night Live: The Best of Dana Carvey', 'Mississippi Burning', 'Rabbit-Proof Fence', 'Kill Bill: Vol. 2', 'The Matrix: Revolutions', 'Frida', 'Rush Hour 2', 'Monsoon Wedding', \"The Hitchhiker's Guide to the Galaxy\", 'Hudson Hawk', 'First Knight', 'Blue Planet: IMAX', 'Speed', 'Robin Hood: Prince of Thieves', 'Who is Cletis Tout?', 'One True Thing', 'Last Man Standing', 'Major League', 'The Perfect Storm', 'Curly Sue', 'The Poseidon Adventure', 'Jaws', \"Logan's Run\", 'Mansfield Park', 'Back to the Future Part III', 'Ray', 'Dangerous Minds', 'Eat Drink Man Woman', 'Rising Sun', 'Disclosure', 'Annie: Special Anniversary Edition', 'Superman: The Movie', 'Harlem Nights', 'Secondhand Lions', 'For Your Eyes Only', 'Walking with Dinosaurs', 'A Beautiful Mind', 'The Real Eve', 'Better Off Dead', 'Strange Brew', 'S.W.A.T.', 'Presumed Innocent', 'The Professional', 'Wolf', 'Marathon Man', 'The Recruit', 'Bend It Like Beckham', 'Beyond Borders', 'Superstar', 'Amazon Women on the Moon', 'Rocky V', 'American Wedding', 'Poltergeist', 'Nine Months', 'Life as a House', 'The American President', 'The Dead Zone', 'Nine to Five', 'Grumpy Old Men', 'The Bad News Bears', 'Sphere', 'The Life Aquatic with Steve Zissou', 'Beverly Hills Cop', 'Sixteen Candles', 'Die Hard 2: Die Harder', 'U.S. Marshals', 'Beverly Hills Cop III', 'Evolution', 'Eternal Sunshine of the Spotless Mind', 'Regarding Henry', 'Pirates of the Caribbean: The Curse of the Black Pearl', 'Final Fantasy: The Spirits Within', 'Four Weddings and a Funeral', 'The Magdalene Sisters', 'Tightrope', 'Being John Malkovich', 'The Color of Money', 'What Women Want', 'Brother Bear (Theatrical Widescreen Version)', 'The Ghost and the Darkness', 'Collateral Damage', 'On Golden Pond', 'The Rookie', 'Aladdin: Platinum Edition', 'Super Size Me', 'Youngblood', 'Scream 3', 'Not Without My Daughter', 'The Cutting Edge', 'Scream', 'Like Water for Chocolate', 'A Fistful of Dollars', 'My Girl 2', \"Things to Do in Denver When You're Dead\", 'A Walk in the Clouds', \"Look Who's Talking\", \"Don't Say a Word\", 'When Harry Met Sally', 'Freaky Friday', 'The Missing', 'The Pianist', 'Naked Gun 2 1/2: The Smell of Fear', \"Dr. Seuss' The Cat in the Hat\", 'Braveheart', 'The Silence of the Lambs', 'Joe Kidd', 'Two Mules for Sister Sara', 'Baby Boom', 'The Rundown', 'Escape from Alcatraz', 'Little Nicky', 'Starman', 'The English Patient', 'Napoleon Dynamite', 'Doctor Zhivago', 'Scary Movie 2', 'Dirty Rotten Scoundrels', 'Children of a Lesser God', 'Guarding Tess', 'Daredevil', 'Swimming Pool', 'Simone', 'The Day of the Jackal', 'The Family Man', '28 Days Later', 'Where the Red Fern Grows', 'The Dead Zone: Season 2', 'Pocahontas', 'Where Eagles Dare', 'Men in Black II', 'Forever Young', 'Jungle Fever', '9 1/2 Weeks', 'Beaches', \"Pete's Dragon\", 'Lethal Weapon 3', 'Death Becomes Her', 'The Last Samurai', '25th Hour', 'Linkin Park: Live in Texas', 'War Games', 'Goldfinger', 'Saw', 'The Big Blue', 'Elizabeth', 'About Schmidt', 'Flatliners', 'A Home of Our Own', 'Love Potion #9', 'Stargate', 'The Sum of All Fears', 'Leonard Part 6', 'Batman Begins', 'Confessions of a Teenage Drama Queen', 'Over the Edge: Motorcycle Mayhem X', 'The People vs. Larry Flynt', 'The Others', 'Garden State', 'The Matrix: Reloaded', 'End of Days', 'Finding Nemo (Widescreen)', 'Innerspace', 'Patch Adams', 'Teenage Mutant Ninja Turtles III', 'The Brothers', \"She's Having A Baby\", 'The Prince of Tides', 'Mars Attacks!', 'Walking with Cavemen', 'Jurassic Park III', 'The Tuskegee Airmen', 'The Full Monty', 'Conan the Barbarian', \"Footloose: Special Collector's Edition\", 'An Officer and a Gentleman', 'The Sixth Sense', 'While You Were Sleeping', 'Bowling for Columbine', 'Road to Perdition', 'A Man Apart', 'Army of Darkness', 'The Mask: Special Edition', 'A Nightmare on Elm Street', 'Titan A.E.', 'The Italian Job', 'Love Actually', 'Ned Kelly', 'Grumpier Old Men', 'Midnight in the Garden of Good and Evil', 'Steel Magnolias', 'Baby Geniuses', 'The Forgotten', 'Kolya', 'Gandhi', 'Tully', 'Erin Brockovich', 'The Shipping News', 'Deuce Bigalow: Male Gigolo', 'Suspect', 'Wild Wild West', 'Proof of Life', 'The Lost World: Jurassic Park', 'Overboard', 'Chariots of Fire', 'The Golden Child', 'Bringing Down the House', 'Transformers: Season 3: Part 2/Season 4', 'Cobra', 'Darkness Falls', 'Don Juan De Marco', 'Tremors', 'Judge Dredd', 'Glory', 'Taps', 'Doc Hollywood', 'Bambi: Platinum Edition', 'A Kiss Before Dying', 'Catwoman', 'Runaway Jury', 'Back to the Future Part II', 'Paycheck', 'The Great Outdoors', 'Gone in 60 Seconds', 'Postcards from the Edge', \"Mask: Director's Cut\", 'Mission: Impossible', 'Hope Floats', 'Mouse Hunt', 'Sleeping With the Enemy', 'High Plains Drifter', 'The Four Feathers', 'Just One of the Guys', 'Fearless', 'Constantine', 'Blue Collar Comedy Tour Rides Again', 'My Cousin Vinny', 'Under the Tuscan Sun', 'Transformers: Season 1', 'To Die For', 'Beneath the Planet of the Apes', 'Beast Wars Transformers: Season 2', 'Miss Congeniality', 'Shark Tale', 'The Right Stuff', 'Jay and Silent Bob Strike Back', 'Anna and the King', 'Sleepers', 'Biloxi Blues', 'Jackass: The Movie', 'Spaceballs', 'Twins', 'Ladyhawke', 'Rocky', 'Star Wars: Episode V: The Empire Strikes Back', 'The Time Machine', 'Best in Show', 'Naked Gun 33 1/3: The Final Insult', 'The Nutty Professor', '61*', 'Naqoyqatsi', 'Nowhere to Run', 'Seven Years in Tibet', 'The Last Starfighter', 'Ultimate X', 'Trading Places', 'Underworld', 'Memento', 'Stand and Deliver', 'Fight Club', 'The Mummy Returns', 'Saturday Night Fever', 'Sin City', 'Young Guns', 'V.I. Warshawski', 'Amelie', 'I Am Sam', 'The Bourne Identity', \"St. Elmo's Fire\", 'Cold Creek Manor', 'The Story of the Weeping Camel', 'Apocalypse Now', 'Patton', 'Stuck on You', 'Two If by Sea', 'Red Dawn', 'Collateral', 'Circle of Friends', \"All the President's Men\", 'Green Card', 'Some Kind of Wonderful', 'My Big Fat Greek Wedding', 'Point Break', 'Frailty', 'It Could Happen to You', 'Invasion of the Body Snatchers', 'Michael', 'Lost in Space', \"The Handmaid's Tale\", 'The Hunt for Red October', 'Pretty Woman', 'Fritz the Cat', 'The Crocodile Hunter: Collision Course', 'Edward Scissorhands', 'Eye of the Beholder', \"Big Momma's House\", 'Rush Hour', 'Sister Act', 'Beethoven', 'To Kill a Mockingbird', 'Gremlins', 'Wildcats', 'Romeo + Juliet', 'Returner', 'Legends of the Fall', 'Romper Stomper', 'Snow Falling on Cedars', 'Force 10 from Navarone', 'Godsend', 'Deep Blue Sea', 'The Craft', 'Iron Maiden: Rock in Rio', 'Hardball', 'Robots', 'The Doctor', 'Divine Secrets of the Ya-Ya Sisterhood', 'The Breakfast Club', 'Smokey and the Bandit / Smokey and the Bandit II: Double Feature', 'The Fast and the Furious', 'Sleepover', 'Star Trek V: The Final Frontier', 'The Italian Job', \"Ferris Bueller's Day Off\", 'Mulholland Falls', 'The Usual Suspects', 'The Whole Nine Yards', 'Megadeth: VH1 Behind the Music: Extended Version', 'Austin Powers in Goldmember', 'Get Shorty', 'Lord of the Rings: The Two Towers: Extended Edition', \"Charlie's Angels: Full Throttle\", \"Island of Dr. Moreau: Director's Cut\", 'Bloodsport', 'Star Trek III: The Search for Spock', \"Dave Chappelle: Killin' Them Softly\", 'Robin Hood (Disney)', 'Jeffrey', 'The Princess Bride', 'The Untouchables', 'The Lord of the Rings: The Fellowship of the Ring: Extended Edition', 'Stand by Me', 'Men of Honor', 'Beverly Hills Cop II', 'The Blue Planet: Seas of Life: Seasonal Seas - Coral Seas', 'Romancing the Stone', 'Secret Window', 'Driving Miss Daisy', 'The River Wild', 'Mrs. Doubtfire', 'Phenomenon', \"Gone with the Wind: Collector's Edition\", 'Lord of the Flies', 'Real Genius', 'Die Another Day', 'Blade', 'Adventures in Babysitting', 'The War of the Roses', 'Primary Colors', 'The Bridge on the River Kwai', 'Fatal Attraction', 'Tron', 'Dirty Dancing', 'Top Gun', 'Once Upon a Time in Mexico', 'Dying Young', 'Empire of the Sun', 'Silverado', \"The Astronaut's Wife\", 'Apollo 13', 'Koyaanisqatsi: Life Out of Balance', 'Down Periscope', 'Willow', 'The Station Agent', 'The Day After', 'Cruel Intentions', \"My Boss's Daughter\", 'Powaqqatsi', 'Junior', 'The Twilight Zone: Vol. 1', 'Finding Forrester', 'In the Bedroom', 'Beauty and the Beast: Special Edition', 'The Hunted', 'Victor / Victoria', 'Dead Calm', 'Cinderella: Special Edition', 'Interview with the Vampire', 'Full Frontal', \"Predator: Collector's Edition\", 'Gorillas in the Mist', 'The Net', 'Das Boot', 'The Edge', 'South Park: The Chef Experience', 'Holes', \"One Flew Over the Cuckoo's Nest\", 'The Grudge', 'Conspiracy Theory', 'Where the Heart Is', 'The Bridges of Madison County', 'Enemy at the Gates', 'Minority Report', 'Ladder 49', 'Girl with a Pearl Earring', \"Finder's Fee\", 'Soldier', 'Eraser', 'Sudden Impact', 'Transformers: The Movie', 'The Fog of War', 'The Guns of Navarone', 'Metallica: Some Kind of Monster', 'Everest: IMAX', 'Mad Max', 'Seven', \"Pee-Wee's Big Adventure\", 'Mr. 3000', 'Lara Croft: Tomb Raider: The Cradle of Life', 'Catch Me If You Can', 'Godzilla vs. Mechagodzilla II', 'The Blue Planet: Seas of Life: Ocean World - Frozen Seas', 'Necessary Roughness', 'Star Wars: Episode II: Attack of the Clones', 'South Park: Insults to Injuries', 'The Royal Tenenbaums', 'Star Trek: Nemesis', 'Hannah and Her Sisters', 'A Time to Kill', 'Loverboy', 'RoboCop', 'Soapdish', 'Good Will Hunting', 'Terminator 2: Extreme Edition', 'The Rookie', \"Bill Engvall: Here's Your Sign\", 'Save the Last Dance', 'Private Benjamin', 'Caddyshack', 'Bronco Billy', 'Heartbreak Ridge', 'Cocoon: The Return', 'Kiss the Girls', 'The Sword in the Stone', 'A Day Without a Mexican', 'Gone in 60 Seconds', 'Dragonfly', 'Cocktail', 'Young Guns II', 'Boat Trip', 'G.I. Jane', 'The Witches', 'Pacific Heights', 'The Goonies', 'Batman Returns', 'Pearl Harbor', 'The Exorcist 2: The Heretic', 'The Deep End of the Ocean', 'Platoon', 'Cop Land', 'The Chronicles of Riddick', \"I'm Gonna Git You Sucka\", \"The Butterfly Effect: Director's Cut\", 'Deliverance', 'Juwanna Mann', 'Rocky III', \"A Knight's Tale\", \"There's Something About Mary: Special Edition\", '8MM', 'Rocky II', 'Stepmom', 'Star Wars: Episode VI: Return of the Jedi', 'Daddy Day Care', 'The Black Hole', '28 Days', 'As Good as It Gets', 'Antz', 'The Order', 'The 6th Day', 'The Fifth Element', 'Star Wars: Episode I: The Phantom Menace', 'The Animatrix', 'Maximum Overdrive', 'Night of the Living Dead', 'Die Hard', 'Murder on a Sunday Morning', 'Peggy Sue Got Married', 'Raiders of the Lost Ark', 'Transformers: Season 2: Part I', 'Soylent Green', 'Broken Arrow', 'Father of the Bride 2', \"Kelly's Heroes\", 'The League of Extraordinary Gentlemen', 'Weird Science', 'Groundhog Day', 'Mad Max Beyond Thunderdome', 'Chances Are', 'Godzilla', 'Runaway Bride', \"My Best Friend's Wedding\", 'The Thin Red Line', 'Splash: 20th Anniversary Edition', 'Final Destination 2', 'A Clockwork Orange', 'Searching for Bobby Fischer', 'Dr. No', \"McHale's Navy\", 'Small Soldiers', 'Cold Mountain', 'The School of Rock', 'We Were Soldiers', 'Godzilla 2000: Millennium', 'Wyatt Earp: Special Edition', 'Hot Shots!', 'The Last Emperor', 'Escape to Witch Mountain', 'The Man in the Iron Mask', \"Alexander: Director's Cut\", 'U-571', \"Brother's Keeper: 10th Anniversary Edition\", 'Back to the Future', 'Of Mice and Men', 'Sibling Rivalry', 'Stigmata', 'Shoah', 'Bird on a Wire', 'Dead and Breakfast', 'Cellular', 'The Incredibles', 'Bed of Roses', 'The Mexican', 'Fahrenheit 9/11', 'The Banger Sisters', 'Outbreak', 'Pulp Fiction', 'Meet the Fockers', 'An American Tail', 'Passenger 57', 'Maid in Manhattan', '2001: A Space Odyssey', '21 Grams', 'Master and Commander: The Far Side of the World', 'Far and Away', 'South Park: Season 3', 'The Cider House Rules', 'Risky Business', 'Now and Then', \"Legend: The Director's Cut\", 'Simon Birch', 'The Natural History of the Chicken', 'The Rainmaker', 'Frequency', 'Forrest Gump', 'The Manchurian Candidate', 'Shanghai Knights', 'Legal Eagles', 'Airplane!', 'The Chronicles of Riddick: Dark Fury', 'Audition', 'Harry Potter and the Chamber of Secrets', 'Little Women', 'Staying Alive', 'Lord of the Rings: The Two Towers', 'The Witches of Eastwick', 'Over There (Pilot)', 'What Dreams May Come', 'Sliding Doors', 'Being Julia', 'Final Destination', 'Swordfish', 'Galaxy Quest', 'Contact', \"Romy and Michele's High School Reunion\", 'Alive', 'Indiana Jones and the Temple of Doom', 'Nell', 'James and the Giant Peach', 'Star Trek: First Contact', 'The Secret Lives of Adult Stars', 'Seth the Hard Way', 'Short Circuit', 'In the Line of Fire', 'The Blue Planet: Seas of Life: Tidal Seas - Coasts', 'Anaconda', 'Tremors 2: Aftershocks', 'The Fog', 'The Dead Zone', 'I Know What You Did Last Summer', \"White Men Can't Jump\", 'Primal Fear', 'The Sound of Music', 'Chris Rock: Bigger & Blacker', 'Adaptation', 'Kate & Leopold', 'Batman & Robin', '48 Hrs.', 'Casual Sex?', 'Spider-Man 2', 'Last of the Dogmen', 'Cliffhanger', 'Pleasantville', 'The Age of Innocence', 'The Accused', 'Knock Off', 'Battle for the Planet of the Apes', 'The Outsiders', 'Scream 2', 'Lost in Translation', 'Pushing Tin', 'The Good Girl', 'Rambo III: Ultimate Edition', 'The Secret of Roan Inish', 'The Godfather', 'Kissing Jessica Stein', \"Mr. Holland's Opus\", 'The Postman', 'The Rock', 'The End of the Affair', 'Coming to America', 'The Dead Pool', 'Lethal Weapon 2', 'Twister', '8 Mile', 'Blade 2', 'The NeverEnding Story', 'Star Trek: Insurrection', 'The Adventures of Ford Fairlane', 'Home Alone', 'Superman II', 'Revenge of the Nerds / Revenge of the Nerds 2: Double Feature', \"National Lampoon's Animal House\", 'Godzilla vs. Megaguirus', 'John Q', 'The Abyss', 'The Secret of N-I-M-H', 'Hero', 'Valley Girl: Special Edition', 'Hidalgo', 'Microcosmos', 'The Specialist', 'Payback', 'Big Trouble in Little China', \"Don't Tell Mom the Babysitter's Dead\", 'The Great Muppet Caper', \"Schindler's List\", 'Rat', 'Carrie', 'Men in Black', 'Event Horizon', 'Benny and Joon', 'The Prophecy', 'The Lost Boys: Special Edition', 'Two Weeks Notice', 'Backdraft', 'The Transporter', 'Troy', 'Notorious C.H.O.', 'Wall Street', 'Austin Powers: International Man of Mystery', 'The Joy Luck Club', 'The Juror', 'Mr. Mom', 'Striking Distance', 'Last Action Hero', 'The Aristocats', 'Crash', 'National Velvet', 'Home on the Range', \"National Lampoon's European Vacation\", 'Blazing Saddles', 'The Core', 'Chicago', 'The Mosquito Coast', 'True Lies', 'Terms of Endearment', 'Ghostbusters 2', \"The General's Daughter\", 'The Black Stallion', 'City Heat', 'Ella Enchanted', 'Lean on Me', 'Rocky IV', 'Much Ado About Nothing', 'The Adventures of Baron Munchausen', 'Hollywood Homicide', 'A Fish Called Wanda', 'Legionnaire', 'Lord of the Flies', 'Office Space', 'The Client', 'Alice in Wonderland', 'Fast Times at Ridgemont High', 'Toy Story', 'Black Beauty', 'Gladiator', 'Jerry Maguire', 'The Jackal', 'Herbie Goes Bananas', 'Riding in Cars with Boys', 'Keep the River on Your Right: A Modern Cannibal Tale', 'Mercury Rising', 'Legend: Bonus Material', 'Cast Away', 'The Crow', 'Every Which Way But Loose', 'The Birds', 'Mulholland Drive', 'Tears of the Sun', 'Willy Wonka & the Chocolate Factory', \"Ben-Hur: Collector's Edition\", 'Dragonslayer', 'Total Recall', 'Johnny Mnemonic', 'Suicide Kings', 'The Chamber', 'Enemy of the State', 'Starship Troopers', 'Captain Ron', 'Batman Forever', 'Pitch Black', 'Sky Captain and the World of Tomorrow', 'Dirty Pretty Things', 'Lord of the Rings: The Return of the King', 'Ghosts of Mississippi', 'A Bridge Too Far', 'The Thomas Crown Affair', 'What a Girl Wants', 'Lethal Weapon 4', 'Raising Arizona', 'Intacto', 'French Kiss', 'Spider-Man', 'Kill Bill: Vol. 1', '12 Monkeys', 'The Naked Gun', 'Any Given Sunday', 'Daylight', 'How to Lose a Guy in 10 Days', 'Asoka', 'My Life', 'Sabrina', 'The Stepford Wives', 'Labyrinth', 'Field of Dreams', 'Batman', 'The Matrix', 'White Oleander', 'Tomb Raider', 'XXX: Special Edition', 'One Fine Day', 'The Blair Witch Project', 'K-19: The Widowmaker', \"Hang 'Em High\", 'For Love of the Game', 'Dead Man Walking', 'Babe', 'Mary Reilly', 'Blade Runner', 'Team America: World Police', 'Beast Wars Transformers: Season 3', 'Gosford Park', 'Grind', 'Dead Poets Society', 'Pretty in Pink', 'Intermission', 'Three Amigos', 'Norma Rae', 'Tequila Sunrise', 'Any Which Way You Can', 'Grease', 'Dangerous Liaisons', 'Jumanji', 'My Girl', 'Resident Evil: Apocalypse', 'Walking Tall', 'The Firm', 'The Quick and the Dead', 'The Day After Tomorrow', 'Dazed and Confused', 'Zoolander', 'Band of Brothers', 'Three Kings', 'Intolerable Cruelty', 'Mondo Bizarro / Mondo Freudo: Double Feature', 'Big Daddy', 'Traffic', 'A Perfect Murder', 'South Park: Season 6', 'Just Cause', 'Ruthless People', 'Ransom', 'Courage Under Fire', 'Born on the Fourth of July', 'Mona Lisa Smile', 'Sweet Home Alabama', 'South Park: Season 5', 'Christine: Special Edition', 'The Killing Fields', 'The Land Before Time', 'Close Encounters of the Third Kind', 'Real Women Have Curves', 'The Peacemaker', 'Big', 'Matchstick Men', 'The Mask of Zorro', 'Watership Down', 'Blue Crush', 'Up Close & Personal', 'Van Helsing', 'Heavy Metal', 'Blue Collar Comedy Tour: The Movie', 'Hellboy', \"Bill & Ted's Excellent Adventure\", 'The Last Boy Scout', 'Say Anything', 'Dave', '13 Going on 30', 'Miss Congeniality 2: Armed and Fabulous', 'Clear and Present Danger', 'Father of the Bride', 'Demolition Man', 'The Three Faces of Eve', 'SpaceCamp', 'The Lion King 1 1/2', 'The Gift', 'Conquest of the Planet of the Apes', 'Assault on Precinct 13', 'Red Dragon', 'Richard Pryor: Live in Concert', 'Planet of the Apes', 'The Hours', 'Stakeout', 'The Green Mile', 'The Fugitive', 'Panic Room', 'The Prince and Me', 'The Love Bug', 'The Birdcage', 'The Wedding Singer', 'Chocolat', 'Meet Joe Black', 'West Side Story', 'Heavy Metal 2000', 'The Sure Thing: Special Edition', 'K-Pax', 'The Muppet Movie', 'Winged Migration', 'A Few Good Men', 'Wolfen', 'Highlander', 'Dirty Harry', 'Magnolia', 'Face/Off', 'The Matrix: Revisited', 'The Sisterhood of the Traveling Pants', 'Maybe Baby', 'The Exorcist', 'Maverick', 'XX/XY', 'Highlander 2: Renegade Version', 'Tombstone', 'Titanic', 'Anger Management', 'The Omega Man', 'Losing Isaiah', 'Megadeth: Rude Awakening', 'Out of Time', 'The Tuxedo', 'The Human Stain', 'Confessions of a Dangerous Mind', 'South Park: Winter Wonderland', 'Meet the Parents', 'The Beach', \"The Devil's Advocate\", 'Gothika', 'Saving Private Ryan', 'The Daily Show with Jon Stewart: Indecision 2004', 'National Treasure', 'Peter Pan', 'The Negotiator', \"Look Who's Talking Now\", 'The Man in the Moon', 'The Out-of-Towners', 'The Clearing', 'Star Trek VI: The Undiscovered Country', 'Legally Blonde', 'Dumbo', 'E.T. the Extra-Terrestrial: The 20th Anniversary (Rerelease)', 'Creature', 'Europa Europa', 'Sahara', 'The Outlaw Josey Wales', 'Tootsie', 'Thumb Wars: The Phantom Cuticle', 'Marci X', 'Magnum Force', 'My Fair Lady: Special Edition', 'Clueless', 'Cross Creek', 'The Deep End', 'Ghostbusters', \"Dr. Seuss' How the Grinch Stole Christmas\", 'Vanilla Sky', \"Harry Potter and the Sorcerer's Stone\", 'The Blob', 'Gattaca', 'Shakespeare in Love']\n"
     ]
    }
   ],
   "source": [
    "print([x for x in moviesForUser if x is not None])"
   ]
  },
  {
   "cell_type": "code",
   "execution_count": 48,
   "metadata": {},
   "outputs": [
    {
     "name": "stdout",
     "output_type": "stream",
     "text": [
      "['Kabhi Khushi Kabhie Gham', 'Veronica Mars: Season 1', 'Dead Like Me: Season 2', 'Lost: Season 1', 'Battlestar Galactica: Season 1', 'Anne of Green Gables: The Sequel', 'The Lord of the Rings: The Fellowship of the Ring: Extended Edition', 'Lord of the Rings: The Return of the King: Extended Edition', 'Lord of the Rings: The Two Towers: Extended Edition']\n"
     ]
    }
   ],
   "source": [
    "## make recommendations for testUserID = 30878\n",
    "num_recomm = 10 # this filters down to 10 after filtering Nones\n",
    "recommendationsForUser = map(lambda observation: movieByID.get(observation.product), base_als_model.call(\"recommendProducts\", testUserID, num_recomm))\n",
    "\n",
    "print([x for x in recommendationsForUser if x is not None])"
   ]
  },
  {
   "cell_type": "code",
   "execution_count": 51,
   "metadata": {},
   "outputs": [],
   "source": [
    "## return only TOP movies for user (movies watched by user that user rated 4 or 5 stars)\n",
    "\n",
    "topRatedMoviesForUser = (ratings_train\n",
    "                          .filter(lambda observation: observation.user == testUserID)\n",
    "                          .filter(lambda observation: observation.rating >= 4.0)\n",
    "                          .map(lambda observation: movieByIDBroadcast.value.get(observation.product))\n",
    "                          .collect())"
   ]
  },
  {
   "cell_type": "code",
   "execution_count": 52,
   "metadata": {},
   "outputs": [
    {
     "name": "stdout",
     "output_type": "stream",
     "text": [
      "['Dinosaur Planet', 'Richard Pryor: Live on the Sunset Strip', 'Airplane II: The Sequel', 'Taking Lives', 'Gross Anatomy', \"Charlotte's Web\", 'Herbie Rides Again', 'Parenthood', \"Bridget Jones's Diary\", 'Dogma', 'House of Sand and Fog', 'Igby Goes Down', 'Transformers: Season 3: Part 1', 'Mississippi Burning', 'Rabbit-Proof Fence', 'Kill Bill: Vol. 2', 'The Matrix: Revolutions', 'Frida', 'Rush Hour 2', 'Monsoon Wedding', \"The Hitchhiker's Guide to the Galaxy\", 'Hudson Hawk', 'Blue Planet: IMAX', 'Speed', 'One True Thing', 'Last Man Standing', 'Major League', 'The Poseidon Adventure', 'Mansfield Park', 'Back to the Future Part III', 'Ray', 'Dangerous Minds', 'Eat Drink Man Woman', 'Disclosure', 'Superman: The Movie', 'Harlem Nights', 'Secondhand Lions', 'Walking with Dinosaurs', 'A Beautiful Mind', 'The Real Eve', 'Strange Brew', 'Presumed Innocent', 'The Professional', 'Marathon Man', 'Bend It Like Beckham', 'Beyond Borders', 'Superstar', 'American Wedding', 'Poltergeist', 'Nine Months', 'Life as a House', 'The American President', 'The Dead Zone', 'Grumpy Old Men', 'Beverly Hills Cop', 'Sixteen Candles', 'Die Hard 2: Die Harder', 'U.S. Marshals', 'Beverly Hills Cop III', 'Evolution', 'Eternal Sunshine of the Spotless Mind', 'Regarding Henry', 'Pirates of the Caribbean: The Curse of the Black Pearl', 'The Magdalene Sisters', 'Tightrope', 'Aladdin: Platinum Edition', 'Super Size Me', 'Youngblood', 'Not Without My Daughter', 'The Cutting Edge', 'Like Water for Chocolate', 'A Fistful of Dollars', \"Things to Do in Denver When You're Dead\", 'A Walk in the Clouds', \"Don't Say a Word\", 'Freaky Friday', 'The Missing', 'The Pianist', 'Naked Gun 2 1/2: The Smell of Fear', 'The Silence of the Lambs', 'Two Mules for Sister Sara', 'Baby Boom', 'The Rundown', 'Escape from Alcatraz', 'Starman', 'The English Patient', 'Doctor Zhivago', 'Children of a Lesser God', 'Guarding Tess', 'The Day of the Jackal', 'The Family Man', '28 Days Later', 'Where the Red Fern Grows', 'The Dead Zone: Season 2', 'Where Eagles Dare', 'Forever Young', 'Beaches', \"Pete's Dragon\", 'Lethal Weapon 3', 'The Last Samurai', 'War Games', 'Goldfinger', 'The Big Blue', 'Elizabeth', 'A Home of Our Own', 'Stargate', 'Batman Begins', 'The Others', 'Garden State', 'The Matrix: Reloaded', 'Finding Nemo (Widescreen)', 'Patch Adams', 'Teenage Mutant Ninja Turtles III', \"She's Having A Baby\", 'The Prince of Tides', 'Mars Attacks!', 'Walking with Cavemen', 'The Full Monty', \"Footloose: Special Collector's Edition\", 'An Officer and a Gentleman', 'While You Were Sleeping', 'Road to Perdition', 'Titan A.E.', 'The Italian Job', 'Love Actually', 'Ned Kelly', 'Grumpier Old Men', 'Steel Magnolias', 'Kolya', 'Gandhi', 'Tully', 'Erin Brockovich', 'The Shipping News', 'Deuce Bigalow: Male Gigolo', 'Suspect', 'Proof of Life', 'Overboard', 'Chariots of Fire', 'The Golden Child', 'Transformers: Season 3: Part 2/Season 4', 'Tremors', 'Glory', 'Bambi: Platinum Edition', 'A Kiss Before Dying', 'Runaway Jury', 'Back to the Future Part II', 'Paycheck', 'Gone in 60 Seconds', \"Mask: Director's Cut\", 'Mission: Impossible', 'Hope Floats', 'Mouse Hunt', 'Sleeping With the Enemy', 'The Four Feathers', 'Just One of the Guys', 'Fearless', 'Constantine', 'Blue Collar Comedy Tour Rides Again', 'Transformers: Season 1', 'Beneath the Planet of the Apes', 'Beast Wars Transformers: Season 2', 'The Right Stuff', 'Anna and the King', 'Sleepers', 'Biloxi Blues', 'Spaceballs', 'Rocky', 'Star Wars: Episode V: The Empire Strikes Back', 'Naked Gun 33 1/3: The Final Insult', '61*', 'Naqoyqatsi', 'The Last Starfighter', 'Trading Places', 'Memento', 'Stand and Deliver', 'Fight Club', 'The Mummy Returns', 'Young Guns', 'Amelie', \"St. Elmo's Fire\", 'Apocalypse Now', 'Patton', 'Red Dawn', 'Collateral', 'Circle of Friends', 'Green Card', 'Some Kind of Wonderful', 'My Big Fat Greek Wedding', 'Frailty', 'Michael', \"The Handmaid's Tale\", 'The Hunt for Red October', 'Edward Scissorhands', 'Rush Hour', 'Sister Act', 'Beethoven', 'To Kill a Mockingbird', 'Gremlins', 'Wildcats', 'Romeo + Juliet', 'Romper Stomper', 'Force 10 from Navarone', 'The Craft', 'Iron Maiden: Rock in Rio', 'Hardball', 'Robots', 'The Doctor', 'Divine Secrets of the Ya-Ya Sisterhood', 'The Breakfast Club', 'Smokey and the Bandit / Smokey and the Bandit II: Double Feature', \"Ferris Bueller's Day Off\", 'Megadeth: VH1 Behind the Music: Extended Version', 'Austin Powers in Goldmember', 'Lord of the Rings: The Two Towers: Extended Edition', 'Star Trek III: The Search for Spock', \"Dave Chappelle: Killin' Them Softly\", 'Robin Hood (Disney)', 'The Princess Bride', 'The Untouchables', 'The Lord of the Rings: The Fellowship of the Ring: Extended Edition', 'Stand by Me', 'Men of Honor', 'Beverly Hills Cop II', 'The Blue Planet: Seas of Life: Seasonal Seas - Coral Seas', 'Romancing the Stone', 'Driving Miss Daisy', 'The River Wild', 'Mrs. Doubtfire', 'Phenomenon', \"Gone with the Wind: Collector's Edition\", 'Lord of the Flies', 'Real Genius', 'Die Another Day', 'Blade', 'Adventures in Babysitting', 'The War of the Roses', 'Primary Colors', 'Tron', 'Dirty Dancing', 'Top Gun', 'Dying Young', 'Empire of the Sun', 'Silverado', 'Apollo 13', 'Koyaanisqatsi: Life Out of Balance', 'Willow', 'The Station Agent', 'Cruel Intentions', 'Powaqqatsi', 'The Twilight Zone: Vol. 1', 'Finding Forrester', 'In the Bedroom', 'Beauty and the Beast: Special Edition', 'Victor / Victoria', 'Dead Calm', 'Cinderella: Special Edition', 'Interview with the Vampire', 'Gorillas in the Mist', 'Das Boot', 'The Edge', 'South Park: The Chef Experience', 'Holes', \"One Flew Over the Cuckoo's Nest\", 'Conspiracy Theory', 'Enemy at the Gates', 'Minority Report', 'Soldier', 'Sudden Impact', 'Transformers: The Movie', 'The Fog of War', 'Metallica: Some Kind of Monster', 'Everest: IMAX', 'Mad Max', 'Seven', 'Catch Me If You Can', 'The Blue Planet: Seas of Life: Ocean World - Frozen Seas', 'Necessary Roughness', 'Star Wars: Episode II: Attack of the Clones', 'South Park: Insults to Injuries', 'Star Trek: Nemesis', 'Hannah and Her Sisters', 'A Time to Kill', 'Loverboy', 'Soapdish', 'Good Will Hunting', 'The Rookie', \"Bill Engvall: Here's Your Sign\", 'Save the Last Dance', 'Private Benjamin', 'Heartbreak Ridge', 'Cocoon: The Return', 'The Sword in the Stone', 'A Day Without a Mexican', 'Gone in 60 Seconds', 'Cocktail', 'The Witches', 'Pacific Heights', 'The Goonies', 'Batman Returns', 'The Deep End of the Ocean', 'Platoon', 'The Chronicles of Riddick', \"The Butterfly Effect: Director's Cut\", 'Deliverance', \"There's Something About Mary: Special Edition\", 'Stepmom', 'Star Wars: Episode VI: Return of the Jedi', '28 Days', 'As Good as It Gets', 'Antz', 'The Order', 'Star Wars: Episode I: The Phantom Menace', 'Maximum Overdrive', 'Die Hard', 'Murder on a Sunday Morning', 'Raiders of the Lost Ark', 'Transformers: Season 2: Part I', \"Kelly's Heroes\", 'Weird Science', 'Mad Max Beyond Thunderdome', 'The Thin Red Line', 'Splash: 20th Anniversary Edition', 'Searching for Bobby Fischer', 'Dr. No', \"McHale's Navy\", 'Cold Mountain', 'The School of Rock', 'We Were Soldiers', 'Hot Shots!', 'The Last Emperor', 'Escape to Witch Mountain', 'Back to the Future', 'Of Mice and Men', 'Cellular', 'The Incredibles', 'Fahrenheit 9/11', 'Meet the Fockers', 'An American Tail', '2001: A Space Odyssey', 'South Park: Season 3', 'The Cider House Rules', 'Now and Then', \"Legend: The Director's Cut\", 'Simon Birch', 'The Natural History of the Chicken', 'The Rainmaker', 'The Manchurian Candidate', 'Airplane!', 'Audition', 'Harry Potter and the Chamber of Secrets', 'Little Women', 'Lord of the Rings: The Two Towers', 'The Witches of Eastwick', 'Over There (Pilot)', 'What Dreams May Come', 'Being Julia', 'Swordfish', 'Contact', \"Romy and Michele's High School Reunion\", 'Alive', 'Indiana Jones and the Temple of Doom', 'Nell', 'James and the Giant Peach', 'Star Trek: First Contact', 'Short Circuit', 'The Blue Planet: Seas of Life: Tidal Seas - Coasts', 'The Fog', 'The Dead Zone', 'The Sound of Music', 'Chris Rock: Bigger & Blacker', 'Adaptation', '48 Hrs.', 'Spider-Man 2', 'Last of the Dogmen', 'The Age of Innocence', 'The Accused', 'Battle for the Planet of the Apes', 'The Outsiders', 'The Good Girl', 'The Secret of Roan Inish', 'The Godfather', 'Kissing Jessica Stein', \"Mr. Holland's Opus\", 'The Postman', 'The Rock', 'The End of the Affair', 'Coming to America', 'The Dead Pool', 'Lethal Weapon 2', '8 Mile', 'The NeverEnding Story', 'Star Trek: Insurrection', 'The Abyss', 'The Secret of N-I-M-H', 'Hero', 'Hidalgo', 'Microcosmos', 'Payback', 'Big Trouble in Little China', 'The Great Muppet Caper', \"Schindler's List\", 'Rat', 'Carrie', 'Men in Black', 'Event Horizon', 'Benny and Joon', 'The Lost Boys: Special Edition', 'Backdraft', 'Notorious C.H.O.', 'Austin Powers: International Man of Mystery', 'The Joy Luck Club', 'The Juror', 'Striking Distance', 'The Aristocats', 'Crash', 'National Velvet', 'Blazing Saddles', 'Chicago', 'Terms of Endearment', \"The General's Daughter\", 'The Black Stallion', 'Lean on Me', 'Much Ado About Nothing', 'Office Space', 'The Client', 'Alice in Wonderland', 'Fast Times at Ridgemont High', 'Toy Story', 'Black Beauty', 'Gladiator', 'Jerry Maguire', 'The Jackal', 'Herbie Goes Bananas', 'Mercury Rising', 'Legend: Bonus Material', 'Every Which Way But Loose', 'Mulholland Drive', 'Willy Wonka & the Chocolate Factory', \"Ben-Hur: Collector's Edition\", 'The Chamber', 'Enemy of the State', 'Starship Troopers', 'Pitch Black', 'Dirty Pretty Things', 'Lord of the Rings: The Return of the King', 'Ghosts of Mississippi', 'A Bridge Too Far', 'The Thomas Crown Affair', 'Intacto', 'Kill Bill: Vol. 1', '12 Monkeys', 'The Naked Gun', 'Asoka', 'My Life', 'Labyrinth', 'Field of Dreams', 'Batman', 'The Matrix', 'White Oleander', 'Tomb Raider', 'XXX: Special Edition', 'One Fine Day', 'The Blair Witch Project', \"Hang 'Em High\", 'For Love of the Game', 'Babe', 'Beast Wars Transformers: Season 3', 'Gosford Park', 'Dead Poets Society', 'Pretty in Pink', 'Norma Rae', 'Tequila Sunrise', 'Any Which Way You Can', 'Dangerous Liaisons', 'Jumanji', 'My Girl', 'The Firm', 'The Day After Tomorrow', 'Dazed and Confused', 'Band of Brothers', 'Traffic', 'A Perfect Murder', 'South Park: Season 6', 'Just Cause', 'Ransom', 'Courage Under Fire', 'Mona Lisa Smile', 'South Park: Season 5', 'Christine: Special Edition', 'The Killing Fields', 'Close Encounters of the Third Kind', 'Real Women Have Curves', 'The Peacemaker', 'Big', 'Matchstick Men', 'Up Close & Personal', 'Blue Collar Comedy Tour: The Movie', 'The Last Boy Scout', 'Say Anything', 'Dave', 'Clear and Present Danger', 'The Three Faces of Eve', 'The Lion King 1 1/2', 'The Gift', 'Conquest of the Planet of the Apes', 'Assault on Precinct 13', 'Red Dragon', 'Richard Pryor: Live in Concert', 'Planet of the Apes', 'The Hours', 'Stakeout', 'The Green Mile', 'The Fugitive', 'The Love Bug', 'The Birdcage', 'Chocolat', 'Heavy Metal 2000', 'K-Pax', 'The Muppet Movie', 'Winged Migration', 'A Few Good Men', 'Highlander', 'Dirty Harry', 'The Matrix: Revisited', 'The Sisterhood of the Traveling Pants', 'Maverick', 'Highlander 2: Renegade Version', 'Tombstone', 'Titanic', 'The Omega Man', 'Losing Isaiah', 'The Human Stain', 'South Park: Winter Wonderland', 'Meet the Parents', \"The Devil's Advocate\", 'Saving Private Ryan', 'The Daily Show with Jon Stewart: Indecision 2004', 'National Treasure', 'The Negotiator', 'The Man in the Moon', 'Star Trek VI: The Undiscovered Country', 'Dumbo', 'E.T. the Extra-Terrestrial: The 20th Anniversary (Rerelease)', 'Europa Europa', 'The Outlaw Josey Wales', 'Tootsie', 'My Fair Lady: Special Edition', 'Clueless', 'Ghostbusters', \"Dr. Seuss' How the Grinch Stole Christmas\", \"Harry Potter and the Sorcerer's Stone\", 'Gattaca', 'Shakespeare in Love']\n"
     ]
    }
   ],
   "source": [
    "print([x for x in topRatedMoviesForUser if x is not None])"
   ]
  },
  {
   "cell_type": "code",
   "execution_count": 53,
   "metadata": {},
   "outputs": [],
   "source": [
    "## return only 5-star rated movies for user (movies watched by user that user rated 4 or 5 stars)\n",
    "\n",
    "fiveStarRatedMoviesForUser = (ratings_train\n",
    "                          .filter(lambda observation: observation.user == testUserID)\n",
    "                          .filter(lambda observation: observation.rating == 5.0)\n",
    "                          .map(lambda observation: movieByIDBroadcast.value.get(observation.product))\n",
    "                          .collect())"
   ]
  },
  {
   "cell_type": "code",
   "execution_count": 54,
   "metadata": {},
   "outputs": [
    {
     "name": "stdout",
     "output_type": "stream",
     "text": [
      "['Gross Anatomy', 'Dogma', 'Transformers: Season 3: Part 1', 'Mississippi Burning', 'Rabbit-Proof Fence', \"The Hitchhiker's Guide to the Galaxy\", 'American Wedding', 'Life as a House', 'The Dead Zone', 'Grumpy Old Men', 'Sixteen Candles', 'Eternal Sunshine of the Spotless Mind', 'Pirates of the Caribbean: The Curse of the Black Pearl', 'Aladdin: Platinum Edition', 'The Pianist', 'The Silence of the Lambs', 'The Dead Zone: Season 2', 'Where Eagles Dare', 'Beaches', \"Pete's Dragon\", 'The Last Samurai', 'A Home of Our Own', 'Patch Adams', 'Steel Magnolias', 'Tully', 'Deuce Bigalow: Male Gigolo', 'Overboard', 'Transformers: Season 3: Part 2/Season 4', 'A Kiss Before Dying', 'Hope Floats', 'Transformers: Season 1', 'Beast Wars Transformers: Season 2', 'Star Wars: Episode V: The Empire Strikes Back', '61*', 'Naqoyqatsi', 'The Last Starfighter', 'Patton', 'The Hunt for Red October', 'Romeo + Juliet', 'The Doctor', 'The Breakfast Club', 'Megadeth: VH1 Behind the Music: Extended Version', 'Lord of the Rings: The Two Towers: Extended Edition', 'The Untouchables', 'The Lord of the Rings: The Fellowship of the Ring: Extended Edition', 'Stand by Me', 'The Blue Planet: Seas of Life: Seasonal Seas - Coral Seas', 'Driving Miss Daisy', 'Mrs. Doubtfire', 'Tron', 'Dying Young', 'Apollo 13', 'Koyaanisqatsi: Life Out of Balance', 'The Station Agent', 'South Park: The Chef Experience', \"One Flew Over the Cuckoo's Nest\", 'Transformers: The Movie', 'The Blue Planet: Seas of Life: Ocean World - Frozen Seas', 'South Park: Insults to Injuries', 'Soapdish', 'Good Will Hunting', 'Heartbreak Ridge', 'The Goonies', \"There's Something About Mary: Special Edition\", 'Stepmom', 'Star Wars: Episode VI: Return of the Jedi', 'Die Hard', 'Raiders of the Lost Ark', 'Transformers: Season 2: Part I', 'Weird Science', 'Back to the Future', 'South Park: Season 3', 'The Natural History of the Chicken', 'Harry Potter and the Chamber of Secrets', 'Lord of the Rings: The Two Towers', 'Indiana Jones and the Temple of Doom', 'Nell', 'The Blue Planet: Seas of Life: Tidal Seas - Coasts', 'The Dead Zone', 'The Accused', 'The Secret of Roan Inish', 'The Rock', '8 Mile', 'The NeverEnding Story', 'Hero', 'Microcosmos', \"Schindler's List\", 'Rat', 'The Lost Boys: Special Edition', 'The Aristocats', 'Crash', 'Terms of Endearment', 'The Black Stallion', 'Office Space', 'Toy Story', 'Every Which Way But Loose', 'Willy Wonka & the Chocolate Factory', 'Lord of the Rings: The Return of the King', 'Labyrinth', 'The Matrix', 'Beast Wars Transformers: Season 3', 'Any Which Way You Can', 'South Park: Season 6', 'South Park: Season 5', 'Blue Collar Comedy Tour: The Movie', 'The Green Mile', 'The Birdcage', 'Titanic', 'South Park: Winter Wonderland', 'Meet the Parents', 'The Daily Show with Jon Stewart: Indecision 2004', 'The Man in the Moon', \"Dr. Seuss' How the Grinch Stole Christmas\", \"Harry Potter and the Sorcerer's Stone\"]\n"
     ]
    }
   ],
   "source": [
    "print([x for x in fiveStarRatedMoviesForUser if x is not None])"
   ]
  },
  {
   "cell_type": "markdown",
   "metadata": {},
   "source": [
    "## Appendix (Additional and/or Unused Code)"
   ]
  },
  {
   "cell_type": "markdown",
   "metadata": {},
   "source": [
    "One of the most challenging aspects of our data import and preprocessing was due to the nature of the text files storing the data. We had to test and audition several methods before we were able to fully pre-process the data files and combine them into one single, usable, formatted file. Below is an example of some work that we tried. This loop functioned properly; however, it was entirely inefficient -- taking hours to extract just a few of the 17,000+ movie IDs from the rows and place them in their own column."
   ]
  },
  {
   "cell_type": "code",
   "execution_count": null,
   "metadata": {},
   "outputs": [],
   "source": [
    "FileList =[\"combined_data_1.txt\",\"combined_data_2.txt\", \"combined_data_3.txt\",\"combined_data_4.txt\"]\n",
    "#FileList =[\"combined_data_1.txt\"]\n",
    "#create the data frame\n",
    "df_melanie = pd.DataFrame(columns=[\"MovieID\", \"PersonID\", \"Rating\", \"Date\"])\n",
    "#Running the for loop to open each file in the File list above\n",
    "for name in FileList:\n",
    "    print(\"Opening:\" + name)\n",
    "    file = open(name, 'r')\n",
    "    MovieID =-1\n",
    "    #PreviousMovieID =-1\n",
    "    #RatingCount =0\n",
    "#This loop reads the text file line by line\n",
    "    while True:\n",
    "        # Get next line from file\n",
    "        line = file.readline()\n",
    "        # if line is empty\n",
    "        # end of file is reached if there are no more lines\n",
    "        if not line:\n",
    "            break\n",
    "        #this else statment strips out the Movie ID\n",
    "        else:\n",
    "            if \":\" in line:\n",
    "                line = line.replace(\":\",\"\")\n",
    "                line = line.strip()\n",
    "                MovieID= int(line, 10)\n",
    "                #helps monitor progress\n",
    "                print(\"We are at MovieID \" + str(MovieID))\n",
    "            #This else statment strips out the columns that are not a movie id\n",
    "            #breaks them into the 3 additional columns, and adds the movie id to them\n",
    "            else:\n",
    "                line = line.replace(\"\\n\",\"\")\n",
    "                LineItems= line.split(\",\")\n",
    "                if len(LineItems) == 3:\n",
    "                    if MovieID != -1:\n",
    "                        #this code block was used to restrict the amount of ratings for each movie so I could verify it actually\n",
    "                        #went through the entire file\n",
    "                        # code to restrict the rating count per movie\n",
    "                        #if PreviousMovieID == -1:\n",
    "                            #PreviousMovieID = MovieID\n",
    "                            #RatingCount =1\n",
    "                        #else:\n",
    "                            #if PreviousMovieID != MovieID:\n",
    "                                #PreviousMovieID = MovieID\n",
    "                                #RatingCount = 1\n",
    "                            #else:\n",
    "                                #RatingCount +=1\n",
    "                        #end of limiting code\n",
    "                        # only use 5 ratings\n",
    "                        #if RatingCount <= 5:\n",
    "                        #end of limiting\n",
    "                            df_melanie = df_melanie.append({\"MovieID\": MovieID, \"PersonID\":LineItems[0], \"Rating\":LineItems[1], \"Date\":LineItems[2]}, ignore_index=True)\n",
    "                        #limite else\n",
    "                        #else:\n",
    "                            #continue\n",
    "                        #end of limit else\n",
    "                    else:\n",
    "                        print(\"Bad Movie ID\")\n",
    "                else:\n",
    "                    print( \"Bad Line\")\n",
    "    file.close()"
   ]
  },
  {
   "cell_type": "markdown",
   "metadata": {},
   "source": [
    "### Feature Engineering Exploration"
   ]
  },
  {
   "cell_type": "markdown",
   "metadata": {},
   "source": [
    "We had hoped that the additional features for each title/ID would provide more predictive power to our model. The team tested myriad methods and tried many approaches to achieve this; unfortunately, we had little success. Below is a limited example of our thought process. In this instance, we thought that perhaps we could extract the unique genres from each row/observation, and then binarize the result (i.e. a title with \"Mystery\" in the `genres` column would have a 1 in the `Mystery` column, but a 0 in the `Family` column if \"family\" did not appear in `genres`. This was a creative, although ultimately fruitless, attempt at one hot encoding genres in service of a deeper exploration of classification models/techniques."
   ]
  },
  {
   "cell_type": "code",
   "execution_count": 15,
   "metadata": {},
   "outputs": [
    {
     "data": {
      "text/html": [
       "<div>\n",
       "<style scoped>\n",
       "    .dataframe tbody tr th:only-of-type {\n",
       "        vertical-align: middle;\n",
       "    }\n",
       "\n",
       "    .dataframe tbody tr th {\n",
       "        vertical-align: top;\n",
       "    }\n",
       "\n",
       "    .dataframe thead th {\n",
       "        text-align: right;\n",
       "    }\n",
       "</style>\n",
       "<table border=\"1\" class=\"dataframe\">\n",
       "  <thead>\n",
       "    <tr style=\"text-align: right;\">\n",
       "      <th></th>\n",
       "      <th>movieId</th>\n",
       "      <th>genres</th>\n",
       "    </tr>\n",
       "  </thead>\n",
       "  <tbody>\n",
       "    <tr>\n",
       "      <th>0</th>\n",
       "      <td>1</td>\n",
       "      <td>Documentary|Animation|Family</td>\n",
       "    </tr>\n",
       "    <tr>\n",
       "      <th>1</th>\n",
       "      <td>3</td>\n",
       "      <td>Crime|Drama|Mystery</td>\n",
       "    </tr>\n",
       "    <tr>\n",
       "      <th>2</th>\n",
       "      <td>4</td>\n",
       "      <td>Family</td>\n",
       "    </tr>\n",
       "    <tr>\n",
       "      <th>3</th>\n",
       "      <td>5</td>\n",
       "      <td>Documentary|Sport</td>\n",
       "    </tr>\n",
       "    <tr>\n",
       "      <th>4</th>\n",
       "      <td>6</td>\n",
       "      <td>Documentary</td>\n",
       "    </tr>\n",
       "  </tbody>\n",
       "</table>\n",
       "</div>"
      ],
      "text/plain": [
       "   movieId                        genres\n",
       "0        1  Documentary|Animation|Family\n",
       "1        3           Crime|Drama|Mystery\n",
       "2        4                        Family\n",
       "3        5             Documentary|Sport\n",
       "4        6                   Documentary"
      ]
     },
     "execution_count": 15,
     "metadata": {},
     "output_type": "execute_result"
    }
   ],
   "source": [
    "genre_ex = pd.read_csv(\"netflix_genres.csv\")\n",
    "genre_ex.head()"
   ]
  },
  {
   "cell_type": "code",
   "execution_count": 16,
   "metadata": {},
   "outputs": [
    {
     "data": {
      "text/html": [
       "<div>\n",
       "<style scoped>\n",
       "    .dataframe tbody tr th:only-of-type {\n",
       "        vertical-align: middle;\n",
       "    }\n",
       "\n",
       "    .dataframe tbody tr th {\n",
       "        vertical-align: top;\n",
       "    }\n",
       "\n",
       "    .dataframe thead th {\n",
       "        text-align: right;\n",
       "    }\n",
       "</style>\n",
       "<table border=\"1\" class=\"dataframe\">\n",
       "  <thead>\n",
       "    <tr style=\"text-align: right;\">\n",
       "      <th></th>\n",
       "      <th>movie_id</th>\n",
       "      <th>genres</th>\n",
       "    </tr>\n",
       "  </thead>\n",
       "  <tbody>\n",
       "    <tr>\n",
       "      <th>0</th>\n",
       "      <td>1</td>\n",
       "      <td>Documentary|Animation|Family</td>\n",
       "    </tr>\n",
       "    <tr>\n",
       "      <th>1</th>\n",
       "      <td>3</td>\n",
       "      <td>Crime|Drama|Mystery</td>\n",
       "    </tr>\n",
       "    <tr>\n",
       "      <th>2</th>\n",
       "      <td>4</td>\n",
       "      <td>Family</td>\n",
       "    </tr>\n",
       "    <tr>\n",
       "      <th>3</th>\n",
       "      <td>5</td>\n",
       "      <td>Documentary|Sport</td>\n",
       "    </tr>\n",
       "    <tr>\n",
       "      <th>4</th>\n",
       "      <td>6</td>\n",
       "      <td>Documentary</td>\n",
       "    </tr>\n",
       "  </tbody>\n",
       "</table>\n",
       "</div>"
      ],
      "text/plain": [
       "   movie_id                        genres\n",
       "0         1  Documentary|Animation|Family\n",
       "1         3           Crime|Drama|Mystery\n",
       "2         4                        Family\n",
       "3         5             Documentary|Sport\n",
       "4         6                   Documentary"
      ]
     },
     "execution_count": 16,
     "metadata": {},
     "output_type": "execute_result"
    }
   ],
   "source": [
    "genre_ex = genre_ex.rename(columns={'movieId': 'movie_id'})\n",
    "genre_ex.head()"
   ]
  },
  {
   "cell_type": "code",
   "execution_count": 26,
   "metadata": {},
   "outputs": [
    {
     "data": {
      "text/plain": [
       "movie_id    12279\n",
       "genres      12279\n",
       "dtype: int64"
      ]
     },
     "execution_count": 26,
     "metadata": {},
     "output_type": "execute_result"
    }
   ],
   "source": [
    "genre_ex.groupby('genres')\n",
    "genre_ex.count()"
   ]
  },
  {
   "cell_type": "code",
   "execution_count": 18,
   "metadata": {},
   "outputs": [
    {
     "data": {
      "text/html": [
       "<div>\n",
       "<style scoped>\n",
       "    .dataframe tbody tr th:only-of-type {\n",
       "        vertical-align: middle;\n",
       "    }\n",
       "\n",
       "    .dataframe tbody tr th {\n",
       "        vertical-align: top;\n",
       "    }\n",
       "\n",
       "    .dataframe thead th {\n",
       "        text-align: right;\n",
       "    }\n",
       "</style>\n",
       "<table border=\"1\" class=\"dataframe\">\n",
       "  <thead>\n",
       "    <tr style=\"text-align: right;\">\n",
       "      <th></th>\n",
       "      <th>Action</th>\n",
       "      <th>Adventure</th>\n",
       "      <th>Animation</th>\n",
       "      <th>Biography</th>\n",
       "      <th>Comedy</th>\n",
       "      <th>Crime</th>\n",
       "      <th>Documentary</th>\n",
       "      <th>Drama</th>\n",
       "      <th>Family</th>\n",
       "      <th>Fantasy</th>\n",
       "      <th>...</th>\n",
       "      <th>Musical</th>\n",
       "      <th>Mystery</th>\n",
       "      <th>Romance</th>\n",
       "      <th>Sci-Fi</th>\n",
       "      <th>Short</th>\n",
       "      <th>Sport</th>\n",
       "      <th>Talk-Show</th>\n",
       "      <th>Thriller</th>\n",
       "      <th>War</th>\n",
       "      <th>Western</th>\n",
       "    </tr>\n",
       "  </thead>\n",
       "  <tbody>\n",
       "    <tr>\n",
       "      <th>0</th>\n",
       "      <td>0</td>\n",
       "      <td>0</td>\n",
       "      <td>0</td>\n",
       "      <td>0</td>\n",
       "      <td>0</td>\n",
       "      <td>0</td>\n",
       "      <td>0</td>\n",
       "      <td>0</td>\n",
       "      <td>0</td>\n",
       "      <td>0</td>\n",
       "      <td>...</td>\n",
       "      <td>0</td>\n",
       "      <td>0</td>\n",
       "      <td>0</td>\n",
       "      <td>0</td>\n",
       "      <td>0</td>\n",
       "      <td>0</td>\n",
       "      <td>0</td>\n",
       "      <td>0</td>\n",
       "      <td>0</td>\n",
       "      <td>0</td>\n",
       "    </tr>\n",
       "    <tr>\n",
       "      <th>1</th>\n",
       "      <td>0</td>\n",
       "      <td>0</td>\n",
       "      <td>0</td>\n",
       "      <td>0</td>\n",
       "      <td>0</td>\n",
       "      <td>0</td>\n",
       "      <td>0</td>\n",
       "      <td>0</td>\n",
       "      <td>0</td>\n",
       "      <td>0</td>\n",
       "      <td>...</td>\n",
       "      <td>0</td>\n",
       "      <td>0</td>\n",
       "      <td>0</td>\n",
       "      <td>0</td>\n",
       "      <td>0</td>\n",
       "      <td>0</td>\n",
       "      <td>0</td>\n",
       "      <td>0</td>\n",
       "      <td>0</td>\n",
       "      <td>0</td>\n",
       "    </tr>\n",
       "    <tr>\n",
       "      <th>2</th>\n",
       "      <td>0</td>\n",
       "      <td>0</td>\n",
       "      <td>0</td>\n",
       "      <td>0</td>\n",
       "      <td>0</td>\n",
       "      <td>0</td>\n",
       "      <td>0</td>\n",
       "      <td>0</td>\n",
       "      <td>0</td>\n",
       "      <td>0</td>\n",
       "      <td>...</td>\n",
       "      <td>0</td>\n",
       "      <td>0</td>\n",
       "      <td>0</td>\n",
       "      <td>0</td>\n",
       "      <td>0</td>\n",
       "      <td>0</td>\n",
       "      <td>0</td>\n",
       "      <td>0</td>\n",
       "      <td>0</td>\n",
       "      <td>0</td>\n",
       "    </tr>\n",
       "    <tr>\n",
       "      <th>3</th>\n",
       "      <td>0</td>\n",
       "      <td>0</td>\n",
       "      <td>0</td>\n",
       "      <td>0</td>\n",
       "      <td>0</td>\n",
       "      <td>0</td>\n",
       "      <td>0</td>\n",
       "      <td>0</td>\n",
       "      <td>0</td>\n",
       "      <td>0</td>\n",
       "      <td>...</td>\n",
       "      <td>0</td>\n",
       "      <td>0</td>\n",
       "      <td>0</td>\n",
       "      <td>0</td>\n",
       "      <td>0</td>\n",
       "      <td>0</td>\n",
       "      <td>0</td>\n",
       "      <td>0</td>\n",
       "      <td>0</td>\n",
       "      <td>0</td>\n",
       "    </tr>\n",
       "    <tr>\n",
       "      <th>4</th>\n",
       "      <td>0</td>\n",
       "      <td>0</td>\n",
       "      <td>0</td>\n",
       "      <td>0</td>\n",
       "      <td>0</td>\n",
       "      <td>0</td>\n",
       "      <td>0</td>\n",
       "      <td>0</td>\n",
       "      <td>0</td>\n",
       "      <td>0</td>\n",
       "      <td>...</td>\n",
       "      <td>0</td>\n",
       "      <td>0</td>\n",
       "      <td>0</td>\n",
       "      <td>0</td>\n",
       "      <td>0</td>\n",
       "      <td>0</td>\n",
       "      <td>0</td>\n",
       "      <td>0</td>\n",
       "      <td>0</td>\n",
       "      <td>0</td>\n",
       "    </tr>\n",
       "  </tbody>\n",
       "</table>\n",
       "<p>5 rows × 24 columns</p>\n",
       "</div>"
      ],
      "text/plain": [
       "   Action  Adventure  Animation  Biography  Comedy  Crime  Documentary  Drama  \\\n",
       "0       0          0          0          0       0      0            0      0   \n",
       "1       0          0          0          0       0      0            0      0   \n",
       "2       0          0          0          0       0      0            0      0   \n",
       "3       0          0          0          0       0      0            0      0   \n",
       "4       0          0          0          0       0      0            0      0   \n",
       "\n",
       "   Family  Fantasy  ...  Musical  Mystery  Romance  Sci-Fi  Short  Sport  \\\n",
       "0       0        0  ...        0        0        0       0      0      0   \n",
       "1       0        0  ...        0        0        0       0      0      0   \n",
       "2       0        0  ...        0        0        0       0      0      0   \n",
       "3       0        0  ...        0        0        0       0      0      0   \n",
       "4       0        0  ...        0        0        0       0      0      0   \n",
       "\n",
       "   Talk-Show  Thriller  War  Western  \n",
       "0          0         0    0        0  \n",
       "1          0         0    0        0  \n",
       "2          0         0    0        0  \n",
       "3          0         0    0        0  \n",
       "4          0         0    0        0  \n",
       "\n",
       "[5 rows x 24 columns]"
      ]
     },
     "execution_count": 18,
     "metadata": {},
     "output_type": "execute_result"
    }
   ],
   "source": [
    "break_genre = pd.DataFrame(0, index=range(12279), columns=[\"Action\",\"Adventure\",\"Animation\",\"Biography\",\"Comedy\",\"Crime\",\"Documentary\",\n",
    "                                    \"Drama\",\"Family\",\"Fantasy\",\"Film-Noir\",\"History\",\"Horror\",\"Music\",\"Musical\",\n",
    "                                    \"Mystery\",\"Romance\",\"Sci-Fi\",\"Short\",\"Sport\",\"Talk-Show\",\"Thriller\",\"War\",\"Western\"])\n",
    "break_genre.head()"
   ]
  },
  {
   "cell_type": "code",
   "execution_count": 19,
   "metadata": {},
   "outputs": [
    {
     "data": {
      "text/html": [
       "<div>\n",
       "<style scoped>\n",
       "    .dataframe tbody tr th:only-of-type {\n",
       "        vertical-align: middle;\n",
       "    }\n",
       "\n",
       "    .dataframe tbody tr th {\n",
       "        vertical-align: top;\n",
       "    }\n",
       "\n",
       "    .dataframe thead th {\n",
       "        text-align: right;\n",
       "    }\n",
       "</style>\n",
       "<table border=\"1\" class=\"dataframe\">\n",
       "  <thead>\n",
       "    <tr style=\"text-align: right;\">\n",
       "      <th></th>\n",
       "      <th>movie_id</th>\n",
       "      <th>genres</th>\n",
       "      <th>Action</th>\n",
       "      <th>Adventure</th>\n",
       "      <th>Animation</th>\n",
       "      <th>Biography</th>\n",
       "      <th>Comedy</th>\n",
       "      <th>Crime</th>\n",
       "      <th>Documentary</th>\n",
       "      <th>Drama</th>\n",
       "      <th>...</th>\n",
       "      <th>Musical</th>\n",
       "      <th>Mystery</th>\n",
       "      <th>Romance</th>\n",
       "      <th>Sci-Fi</th>\n",
       "      <th>Short</th>\n",
       "      <th>Sport</th>\n",
       "      <th>Talk-Show</th>\n",
       "      <th>Thriller</th>\n",
       "      <th>War</th>\n",
       "      <th>Western</th>\n",
       "    </tr>\n",
       "  </thead>\n",
       "  <tbody>\n",
       "    <tr>\n",
       "      <th>0</th>\n",
       "      <td>1</td>\n",
       "      <td>Documentary|Animation|Family</td>\n",
       "      <td>0</td>\n",
       "      <td>0</td>\n",
       "      <td>0</td>\n",
       "      <td>0</td>\n",
       "      <td>0</td>\n",
       "      <td>0</td>\n",
       "      <td>0</td>\n",
       "      <td>0</td>\n",
       "      <td>...</td>\n",
       "      <td>0</td>\n",
       "      <td>0</td>\n",
       "      <td>0</td>\n",
       "      <td>0</td>\n",
       "      <td>0</td>\n",
       "      <td>0</td>\n",
       "      <td>0</td>\n",
       "      <td>0</td>\n",
       "      <td>0</td>\n",
       "      <td>0</td>\n",
       "    </tr>\n",
       "    <tr>\n",
       "      <th>1</th>\n",
       "      <td>3</td>\n",
       "      <td>Crime|Drama|Mystery</td>\n",
       "      <td>0</td>\n",
       "      <td>0</td>\n",
       "      <td>0</td>\n",
       "      <td>0</td>\n",
       "      <td>0</td>\n",
       "      <td>0</td>\n",
       "      <td>0</td>\n",
       "      <td>0</td>\n",
       "      <td>...</td>\n",
       "      <td>0</td>\n",
       "      <td>0</td>\n",
       "      <td>0</td>\n",
       "      <td>0</td>\n",
       "      <td>0</td>\n",
       "      <td>0</td>\n",
       "      <td>0</td>\n",
       "      <td>0</td>\n",
       "      <td>0</td>\n",
       "      <td>0</td>\n",
       "    </tr>\n",
       "    <tr>\n",
       "      <th>2</th>\n",
       "      <td>4</td>\n",
       "      <td>Family</td>\n",
       "      <td>0</td>\n",
       "      <td>0</td>\n",
       "      <td>0</td>\n",
       "      <td>0</td>\n",
       "      <td>0</td>\n",
       "      <td>0</td>\n",
       "      <td>0</td>\n",
       "      <td>0</td>\n",
       "      <td>...</td>\n",
       "      <td>0</td>\n",
       "      <td>0</td>\n",
       "      <td>0</td>\n",
       "      <td>0</td>\n",
       "      <td>0</td>\n",
       "      <td>0</td>\n",
       "      <td>0</td>\n",
       "      <td>0</td>\n",
       "      <td>0</td>\n",
       "      <td>0</td>\n",
       "    </tr>\n",
       "    <tr>\n",
       "      <th>3</th>\n",
       "      <td>5</td>\n",
       "      <td>Documentary|Sport</td>\n",
       "      <td>0</td>\n",
       "      <td>0</td>\n",
       "      <td>0</td>\n",
       "      <td>0</td>\n",
       "      <td>0</td>\n",
       "      <td>0</td>\n",
       "      <td>0</td>\n",
       "      <td>0</td>\n",
       "      <td>...</td>\n",
       "      <td>0</td>\n",
       "      <td>0</td>\n",
       "      <td>0</td>\n",
       "      <td>0</td>\n",
       "      <td>0</td>\n",
       "      <td>0</td>\n",
       "      <td>0</td>\n",
       "      <td>0</td>\n",
       "      <td>0</td>\n",
       "      <td>0</td>\n",
       "    </tr>\n",
       "    <tr>\n",
       "      <th>4</th>\n",
       "      <td>6</td>\n",
       "      <td>Documentary</td>\n",
       "      <td>0</td>\n",
       "      <td>0</td>\n",
       "      <td>0</td>\n",
       "      <td>0</td>\n",
       "      <td>0</td>\n",
       "      <td>0</td>\n",
       "      <td>0</td>\n",
       "      <td>0</td>\n",
       "      <td>...</td>\n",
       "      <td>0</td>\n",
       "      <td>0</td>\n",
       "      <td>0</td>\n",
       "      <td>0</td>\n",
       "      <td>0</td>\n",
       "      <td>0</td>\n",
       "      <td>0</td>\n",
       "      <td>0</td>\n",
       "      <td>0</td>\n",
       "      <td>0</td>\n",
       "    </tr>\n",
       "  </tbody>\n",
       "</table>\n",
       "<p>5 rows × 26 columns</p>\n",
       "</div>"
      ],
      "text/plain": [
       "   movie_id                        genres  Action  Adventure  Animation  \\\n",
       "0         1  Documentary|Animation|Family       0          0          0   \n",
       "1         3           Crime|Drama|Mystery       0          0          0   \n",
       "2         4                        Family       0          0          0   \n",
       "3         5             Documentary|Sport       0          0          0   \n",
       "4         6                   Documentary       0          0          0   \n",
       "\n",
       "   Biography  Comedy  Crime  Documentary  Drama  ...  Musical  Mystery  \\\n",
       "0          0       0      0            0      0  ...        0        0   \n",
       "1          0       0      0            0      0  ...        0        0   \n",
       "2          0       0      0            0      0  ...        0        0   \n",
       "3          0       0      0            0      0  ...        0        0   \n",
       "4          0       0      0            0      0  ...        0        0   \n",
       "\n",
       "   Romance  Sci-Fi  Short  Sport  Talk-Show  Thriller  War  Western  \n",
       "0        0       0      0      0          0         0    0        0  \n",
       "1        0       0      0      0          0         0    0        0  \n",
       "2        0       0      0      0          0         0    0        0  \n",
       "3        0       0      0      0          0         0    0        0  \n",
       "4        0       0      0      0          0         0    0        0  \n",
       "\n",
       "[5 rows x 26 columns]"
      ]
     },
     "execution_count": 19,
     "metadata": {},
     "output_type": "execute_result"
    }
   ],
   "source": [
    "genre_master = genre_ex.join(break_genre)\n",
    "genre_master.head()"
   ]
  },
  {
   "cell_type": "code",
   "execution_count": 25,
   "metadata": {},
   "outputs": [
    {
     "data": {
      "text/plain": [
       "0        False\n",
       "1        False\n",
       "2        False\n",
       "3        False\n",
       "4        False\n",
       "         ...  \n",
       "12274    False\n",
       "12275      NaN\n",
       "12276      NaN\n",
       "12277    False\n",
       "12278      NaN\n",
       "Name: genres, Length: 12279, dtype: object"
      ]
     },
     "execution_count": 25,
     "metadata": {},
     "output_type": "execute_result"
    }
   ],
   "source": [
    "list = genre_master.genres.str.contains(\"Action\", regex=False)\n",
    "list"
   ]
  },
  {
   "cell_type": "code",
   "execution_count": null,
   "metadata": {},
   "outputs": [],
   "source": [
    "all_genres = [\"Action\",\"Adventure\",\"Animation\",\"Biography\",\"Comedy\",\"Crime\",\"Documentary\",\n",
    "                                    \"Drama\",\"Family\",\"Fantasy\",\"Film-Noir\",\"History\",\"Horror\",\"Music\",\"Musical\",\n",
    "                                    \"Mystery\",\"Romance\",\"Sci-Fi\",\"Short\",\"Sport\",\"Talk-Show\",\"Thriller\",\"War\",\"Western\"]\n",
    "for i in all_genres:\n",
    "    list = []\n",
    "    if genre_master.genres.str.contains(i, regex=False):\n",
    "        list.append(1)\n",
    "    else:\n",
    "        list.append(0)\n",
    "    genre_master[i] = list"
   ]
  },
  {
   "cell_type": "code",
   "execution_count": null,
   "metadata": {},
   "outputs": [],
   "source": [
    "def one_cold_encode(genre_list):\n",
    "    for i in genre_list:\n",
    "        if genre_master['genres'] contains i:\n",
    "            genre_master[i] == 1\n",
    "        else:\n",
    "            genre_master[i] == 0\n",
    "\n",
    "for j in range(0,12279):\n",
    "    one_code_encode(j)"
   ]
  },
  {
   "cell_type": "code",
   "execution_count": 59,
   "metadata": {},
   "outputs": [],
   "source": [
    "data_feat =  pd.read_csv(\"processed_all_2.txt\",  sep=\",\")"
   ]
  },
  {
   "cell_type": "code",
   "execution_count": 60,
   "metadata": {},
   "outputs": [
    {
     "data": {
      "text/plain": [
       "pandas.core.frame.DataFrame"
      ]
     },
     "execution_count": 60,
     "metadata": {},
     "output_type": "execute_result"
    }
   ],
   "source": [
    "type(data_feat)"
   ]
  },
  {
   "cell_type": "code",
   "execution_count": 61,
   "metadata": {},
   "outputs": [
    {
     "data": {
      "text/html": [
       "<div>\n",
       "<style scoped>\n",
       "    .dataframe tbody tr th:only-of-type {\n",
       "        vertical-align: middle;\n",
       "    }\n",
       "\n",
       "    .dataframe tbody tr th {\n",
       "        vertical-align: top;\n",
       "    }\n",
       "\n",
       "    .dataframe thead th {\n",
       "        text-align: right;\n",
       "    }\n",
       "</style>\n",
       "<table border=\"1\" class=\"dataframe\">\n",
       "  <thead>\n",
       "    <tr style=\"text-align: right;\">\n",
       "      <th></th>\n",
       "      <th>user_id</th>\n",
       "      <th>movie_id</th>\n",
       "      <th>rating</th>\n",
       "    </tr>\n",
       "  </thead>\n",
       "  <tbody>\n",
       "    <tr>\n",
       "      <th>0</th>\n",
       "      <td>1488844</td>\n",
       "      <td>1</td>\n",
       "      <td>3.0</td>\n",
       "    </tr>\n",
       "    <tr>\n",
       "      <th>1</th>\n",
       "      <td>822109</td>\n",
       "      <td>1</td>\n",
       "      <td>5.0</td>\n",
       "    </tr>\n",
       "    <tr>\n",
       "      <th>2</th>\n",
       "      <td>885013</td>\n",
       "      <td>1</td>\n",
       "      <td>4.0</td>\n",
       "    </tr>\n",
       "    <tr>\n",
       "      <th>3</th>\n",
       "      <td>30878</td>\n",
       "      <td>1</td>\n",
       "      <td>4.0</td>\n",
       "    </tr>\n",
       "    <tr>\n",
       "      <th>4</th>\n",
       "      <td>823519</td>\n",
       "      <td>1</td>\n",
       "      <td>3.0</td>\n",
       "    </tr>\n",
       "  </tbody>\n",
       "</table>\n",
       "</div>"
      ],
      "text/plain": [
       "   user_id  movie_id  rating\n",
       "0  1488844         1     3.0\n",
       "1   822109         1     5.0\n",
       "2   885013         1     4.0\n",
       "3    30878         1     4.0\n",
       "4   823519         1     3.0"
      ]
     },
     "execution_count": 61,
     "metadata": {},
     "output_type": "execute_result"
    }
   ],
   "source": [
    "data_feat.head()"
   ]
  },
  {
   "cell_type": "code",
   "execution_count": null,
   "metadata": {},
   "outputs": [],
   "source": [
    "## sample 1% of observations to create smaller subset of data\n",
    "\n",
    "seed = 314\n",
    "weights = [0.01, 0.99]\n",
    "netflix_sample, all_else = data_feat.randomSplit(weights, seed)\n",
    "netflix_sample.cache()"
   ]
  },
  {
   "cell_type": "code",
   "execution_count": null,
   "metadata": {},
   "outputs": [],
   "source": [
    "df_extra = pd.read_csv('movies_addtl_features.csv')\n",
    "df_extra = df_extra.rename(columns={\"id\":\"movie_id\"})\n",
    "df_extra = df_extra.drop(columns='Rating')\n",
    "df_extra = df_extra.dropnna()\n",
    "\n",
    "print(\"Additional features dataframe columns:\", df_extra.columns)"
   ]
  },
  {
   "cell_type": "code",
   "execution_count": null,
   "metadata": {},
   "outputs": [],
   "source": [
    "netflix_sample_features = netflix_sample.merge(df_extra, on='movie_id')"
   ]
  }
 ],
 "metadata": {
  "kernelspec": {
   "display_name": "DS 5110",
   "language": "python",
   "name": "ds5110"
  },
  "language_info": {
   "codemirror_mode": {
    "name": "ipython",
    "version": 3
   },
   "file_extension": ".py",
   "mimetype": "text/x-python",
   "name": "python",
   "nbconvert_exporter": "python",
   "pygments_lexer": "ipython3",
   "version": "3.7.10"
  }
 },
 "nbformat": 4,
 "nbformat_minor": 4
}
