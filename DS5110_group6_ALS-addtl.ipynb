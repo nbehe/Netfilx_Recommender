{
 "cells": [
  {
   "cell_type": "markdown",
   "metadata": {},
   "source": [
    "## DS 5110: Big Data Systems\n",
    "# Final Project: Netflix Recommender System & Ratings Predictions\n",
    "### Additional ALS Exploration (Hyperparameters, Personalized Recommendations)\n",
    "#### Lauren Neal (ln9bv) | Melanie Sattler (ms9py) | Nick Thompson (nat3fa) | Nima Beheshti (nb9pp)"
   ]
  },
  {
   "cell_type": "code",
   "execution_count": 1,
   "metadata": {},
   "outputs": [],
   "source": [
    "# import modules\n",
    "import os\n",
    "\n",
    "from pyspark import SparkContext\n",
    "from pyspark import SparkConf\n",
    "from pyspark.mllib import recommendation\n",
    "from pyspark.mllib.recommendation import *\n",
    "import pandas as pd\n",
    "import numpy as np\n",
    "import matplotlib.pyplot as plt\n",
    "from datetime import datetime\n",
    "\n",
    "from pyspark.sql import SparkSession"
   ]
  },
  {
   "cell_type": "code",
   "execution_count": 2,
   "metadata": {},
   "outputs": [],
   "source": [
    "conf = SparkConf().setMaster(\"local\").setAppName(\"netflix\")\n",
    "sc = SparkContext.getOrCreate(conf=conf)"
   ]
  },
  {
   "cell_type": "code",
   "execution_count": 3,
   "metadata": {},
   "outputs": [
    {
     "data": {
      "text/plain": [
       "['1488844,3.0,1',\n",
       " '822109,5.0,1',\n",
       " '885013,4.0,1',\n",
       " '30878,4.0,1',\n",
       " '823519,3.0,1']"
      ]
     },
     "execution_count": 3,
     "metadata": {},
     "output_type": "execute_result"
    }
   ],
   "source": [
    "# Load and parse the data\n",
    "data = sc.textFile(\"processed_all.txt\")\n",
    "\n",
    "header = data.first() ## assign first record name \"header\"\n",
    "data_noh = data.filter(lambda row: row != header) ## filter \"header\" record from RDD\n",
    "\n",
    "# Sample 10% of rawDataRDD (to reduce runtime) using seed 314. Call it sample.\n",
    "seed = 314\n",
    "weights = [0.75, 0.25]\n",
    "(training, test) = data_noh.randomSplit(weights, seed)\n",
    "training.cache()\n",
    "test.cache()\n",
    "\n",
    "training.take(5)"
   ]
  },
  {
   "cell_type": "code",
   "execution_count": 4,
   "metadata": {},
   "outputs": [],
   "source": [
    "ratings_train = training.map(lambda x: x.split(','))\\\n",
    "                        .map(lambda x: Rating(int(x[0]), int(x[1]), float(x[2])))\n",
    "\n",
    "\n",
    "\n",
    "ratings_test = test.map(lambda x: x.split(','))\\\n",
    "                   .map(lambda x: Rating(int(x[0]), int(x[1]), float(x[2])))"
   ]
  },
  {
   "cell_type": "code",
   "execution_count": 5,
   "metadata": {},
   "outputs": [
    {
     "data": {
      "text/plain": [
       "[Rating(user=1488844, product=1, rating=3.0),\n",
       " Rating(user=822109, product=1, rating=5.0),\n",
       " Rating(user=885013, product=1, rating=4.0),\n",
       " Rating(user=30878, product=1, rating=4.0),\n",
       " Rating(user=823519, product=1, rating=3.0)]"
      ]
     },
     "execution_count": 5,
     "metadata": {},
     "output_type": "execute_result"
    }
   ],
   "source": [
    "ratings_train.take(5)"
   ]
  },
  {
   "cell_type": "code",
   "execution_count": 6,
   "metadata": {},
   "outputs": [
    {
     "data": {
      "text/plain": [
       "[Rating(user=2207774, product=1, rating=5.0),\n",
       " Rating(user=1086807, product=1, rating=3.0),\n",
       " Rating(user=1181550, product=1, rating=3.0),\n",
       " Rating(user=2263586, product=1, rating=4.0),\n",
       " Rating(user=2508819, product=1, rating=3.0)]"
      ]
     },
     "execution_count": 6,
     "metadata": {},
     "output_type": "execute_result"
    }
   ],
   "source": [
    "ratings_test.take(5)"
   ]
  },
  {
   "cell_type": "markdown",
   "metadata": {},
   "source": [
    "For loop to test mulitple rank values"
   ]
  },
  {
   "cell_type": "code",
   "execution_count": 7,
   "metadata": {},
   "outputs": [
    {
     "name": "stdout",
     "output_type": "stream",
     "text": [
      "Started training at :\n",
      "2021-08-02 13:45:17.644582\n",
      "\n",
      "Finished training at :\n",
      "2021-08-02 16:35:56.923087\n",
      "[0.7476981089509888, 0.7276632443801131, 0.7269436888340164, 0.7328898167333998]\n"
     ]
    }
   ],
   "source": [
    "print(\"Started training at :\")\n",
    "print(str(datetime.now()))\n",
    "print()\n",
    "\n",
    "rank = (5, 10, 15, 20)\n",
    "numIterations = 10\n",
    "alpha = 0.01\n",
    "results = []\n",
    "for i in rank:\n",
    "    model = ALS.train(ratings_train, i, numIterations, alpha)\n",
    "    test_obscure_rating = ratings_test.map(lambda x: (x[0], x[1]))\n",
    "    predictions = model.predictAll(test_obscure_rating).map(lambda x: ((x[0], x[1]), x[2]))\n",
    "    ratesAndPreds = ratings_test.map(lambda x: ((x[0], x[1]), x[2])).join(predictions)\n",
    "    MSE = ratesAndPreds.map(lambda x: (x[1][0] - x[1][1])**2).mean()\n",
    "    results.append(MSE)    \n",
    "print(\"Finished training at :\")\n",
    "print(str(datetime.now()))"
   ]
  },
  {
   "cell_type": "code",
   "execution_count": 9,
   "metadata": {},
   "outputs": [
    {
     "data": {
      "text/html": [
       "<div>\n",
       "<style scoped>\n",
       "    .dataframe tbody tr th:only-of-type {\n",
       "        vertical-align: middle;\n",
       "    }\n",
       "\n",
       "    .dataframe tbody tr th {\n",
       "        vertical-align: top;\n",
       "    }\n",
       "\n",
       "    .dataframe thead th {\n",
       "        text-align: right;\n",
       "    }\n",
       "</style>\n",
       "<table border=\"1\" class=\"dataframe\">\n",
       "  <thead>\n",
       "    <tr style=\"text-align: right;\">\n",
       "      <th></th>\n",
       "      <th>rank</th>\n",
       "      <th>MSE</th>\n",
       "      <th>RMSE</th>\n",
       "    </tr>\n",
       "  </thead>\n",
       "  <tbody>\n",
       "    <tr>\n",
       "      <th>0</th>\n",
       "      <td>5</td>\n",
       "      <td>0.747698</td>\n",
       "      <td>0.864695</td>\n",
       "    </tr>\n",
       "    <tr>\n",
       "      <th>1</th>\n",
       "      <td>10</td>\n",
       "      <td>0.727663</td>\n",
       "      <td>0.853032</td>\n",
       "    </tr>\n",
       "    <tr>\n",
       "      <th>2</th>\n",
       "      <td>15</td>\n",
       "      <td>0.726944</td>\n",
       "      <td>0.852610</td>\n",
       "    </tr>\n",
       "    <tr>\n",
       "      <th>3</th>\n",
       "      <td>20</td>\n",
       "      <td>0.732890</td>\n",
       "      <td>0.856090</td>\n",
       "    </tr>\n",
       "  </tbody>\n",
       "</table>\n",
       "</div>"
      ],
      "text/plain": [
       "   rank       MSE      RMSE\n",
       "0     5  0.747698  0.864695\n",
       "1    10  0.727663  0.853032\n",
       "2    15  0.726944  0.852610\n",
       "3    20  0.732890  0.856090"
      ]
     },
     "execution_count": 9,
     "metadata": {},
     "output_type": "execute_result"
    }
   ],
   "source": [
    "Root_MSE = []\n",
    "for i in results:\n",
    "    RMSE = i**(0.5)\n",
    "    Root_MSE.append(RMSE)\n",
    "    \n",
    "df_test = pd.DataFrame(list(zip(rank,results,Root_MSE)), columns = ['rank', 'MSE', 'RMSE'])\n",
    "df_test"
   ]
  },
  {
   "cell_type": "markdown",
   "metadata": {},
   "source": [
    "Lauren's originial code with rank changed to 1"
   ]
  },
  {
   "cell_type": "code",
   "execution_count": 7,
   "metadata": {},
   "outputs": [
    {
     "name": "stdout",
     "output_type": "stream",
     "text": [
      "Started training at :\n",
      "2021-08-07 22:51:01.891872\n",
      "\n",
      "Finished training at :\n",
      "2021-08-07 23:10:44.474155\n"
     ]
    }
   ],
   "source": [
    "print(\"Started training at :\")\n",
    "print(str(datetime.now()))\n",
    "print()\n",
    "\n",
    "# Build model (ALS)\n",
    "rank = 15\n",
    "numIterations = 10\n",
    "alpha = 0.01\n",
    "\n",
    "model = ALS.train(ratings_train, \n",
    "                  rank, \n",
    "                  numIterations, alpha)\n",
    "\n",
    "print(\"Finished training at :\")\n",
    "print(str(datetime.now()))"
   ]
  },
  {
   "cell_type": "code",
   "execution_count": 8,
   "metadata": {},
   "outputs": [],
   "source": [
    "# Evaluate on test data (25% sample of 'processed_all.txt')\n",
    "\n",
    "## create RDD of test data that does not include ratings\n",
    "test_obscure_rating = ratings_test.map(lambda x: (x[0], x[1]))\n",
    "\n",
    "## use RDD w/o ratings to make predictions\n",
    "predictions = model.predictAll(test_obscure_rating).map(lambda x: ((x[0], x[1]), x[2]))\n",
    "\n",
    "## add/join predictions to original test data RDD\n",
    "ratesAndPreds = ratings_test.map(lambda x: ((x[0], x[1]), x[2])).join(predictions)\n",
    "\n",
    "## calculate MSE and RMSE using predicted ratings versus actual ratings\n",
    "MSE = ratesAndPreds.map(lambda x: (x[1][0] - x[1][1])**2).mean()\n",
    "RMSE = MSE**(0.5)\n"
   ]
  },
  {
   "cell_type": "code",
   "execution_count": 9,
   "metadata": {},
   "outputs": [
    {
     "name": "stdout",
     "output_type": "stream",
     "text": [
      "Model: ALS\n",
      "\n",
      "alpha: 0.01\n",
      "Train/Test Split: [0.75, 0.25]\n",
      "\n",
      "Total Features Selected: 15\n",
      "\n",
      "Mean Squared Error: 0.7282367290687349\n",
      "Root Mean Squared Error: 0.8533678744063049\n"
     ]
    }
   ],
   "source": [
    "print(\"Model: ALS\")\n",
    "print('')\n",
    "print(\"alpha: \"+ str(alpha))\n",
    "print(\"Train/Test Split: \"+ str(weights))\n",
    "print('')\n",
    "print(\"Total Features Selected: \"+ str(rank))\n",
    "print('')\n",
    "print(\"Mean Squared Error: \" + str(MSE))\n",
    "print(\"Root Mean Squared Error: \" + str(RMSE))"
   ]
  },
  {
   "cell_type": "code",
   "execution_count": 10,
   "metadata": {},
   "outputs": [
    {
     "data": {
      "text/plain": [
       "[((209573, 1), (4.0, 3.9097003814804343)),\n",
       " ((1959936, 2), (5.0, 2.990446066638587)),\n",
       " ((755319, 3), (3.0, 3.5455251470879565)),\n",
       " ((596255, 3), (1.0, 0.9982883758030261)),\n",
       " ((499971, 3), (5.0, 4.221142056113273))]"
      ]
     },
     "execution_count": 10,
     "metadata": {},
     "output_type": "execute_result"
    }
   ],
   "source": [
    "ratesAndPreds.take(5)"
   ]
  },
  {
   "cell_type": "markdown",
   "metadata": {},
   "source": [
    "Trying to turn the RDD into a Dataframe"
   ]
  },
  {
   "cell_type": "markdown",
   "metadata": {},
   "source": [
    "# Split"
   ]
  },
  {
   "cell_type": "code",
   "execution_count": 11,
   "metadata": {},
   "outputs": [],
   "source": [
    "movie_name = sc.textFile(\"movie_titles.csv\")"
   ]
  },
  {
   "cell_type": "code",
   "execution_count": 12,
   "metadata": {},
   "outputs": [
    {
     "data": {
      "text/plain": [
       "['1,2003,Dinosaur Planet',\n",
       " '2,2004,Isle of Man TT 2004 Review',\n",
       " '3,1997,Character',\n",
       " \"4,1994,Paula Abdul's Get Up & Dance\",\n",
       " '5,2004,The Rise and Fall of ECW',\n",
       " '6,1997,Sick',\n",
       " '7,1992,8 Man',\n",
       " '8,2004,What the #$*! Do We Know!?',\n",
       " \"9,1991,Class of Nuke 'Em High 2\",\n",
       " '10,2001,Fighter']"
      ]
     },
     "execution_count": 12,
     "metadata": {},
     "output_type": "execute_result"
    }
   ],
   "source": [
    "movie_name.take(10)"
   ]
  },
  {
   "cell_type": "code",
   "execution_count": 13,
   "metadata": {},
   "outputs": [
    {
     "data": {
      "text/plain": [
       "['Dinosaur Planet',\n",
       " 'Isle of Man TT 2004 Review',\n",
       " 'Character',\n",
       " \"Paula Abdul's Get Up & Dance\",\n",
       " 'The Rise and Fall of ECW',\n",
       " 'Sick',\n",
       " '8 Man',\n",
       " 'What the #$*! Do We Know!?',\n",
       " \"Class of Nuke 'Em High 2\",\n",
       " 'Fighter']"
      ]
     },
     "execution_count": 13,
     "metadata": {},
     "output_type": "execute_result"
    }
   ],
   "source": [
    "def parsemovie_namePair(singlePair):\n",
    "   splitPair = singlePair.rsplit(',')\n",
    "   # we should have two items in the list - id and name of the artist.\n",
    "   if len(splitPair) != 3:\n",
    "       #print singlePair\n",
    "       return []\n",
    "   else:\n",
    "       try:\n",
    "           return [(int(splitPair[0]), splitPair[2])]\n",
    "       except:\n",
    "           return []\n",
    "movie_name_all = dict(movie_name.flatMap(lambda x: parsemovie_namePair(x)).collect())\n",
    "#movie_name_val\n",
    "#movie_name_ID = movie_name.flatMap(lambda x: parsemovie_namePair(x)).collectAsMap()\n",
    "movie_names = movie_name_all.values()\n",
    "list(movie_names)[:10]\n",
    "\n",
    "#movie_names = movie_name.flatMap(lambda x: (parsemovie_namePair(x)))\\\n",
    " #                      .map(lambda x: x[2])\n",
    "#movie_names.take(10)\n"
   ]
  },
  {
   "cell_type": "code",
   "execution_count": 18,
   "metadata": {},
   "outputs": [],
   "source": [
    "# Model Evaluation\n",
    "\n",
    "# fetch artists for a test user\n",
    "testUserID = 499971\n",
    "\n",
    "# broadcast artistByID for speed\n",
    "movie_all_Broadcast = sc.broadcast( movie_name_all )\n",
    "\n",
    "# from trainData, collect the artists for the test user. Call the object artistsForUser.\n",
    "# hint: you will need to apply .value.get(x.product) to the broadcast artistByID, where x is the Rating RDD.\n",
    "# if you don't do this, you may see artistIDs. you want artist names.\n",
    "artistsForUser = (ratings_train\n",
    "                  .filter(lambda observation: observation.user == testUserID)\n",
    "                  .map(lambda observation: movie_all_Broadcast.value.get(observation.product))\n",
    "                  .collect())"
   ]
  },
  {
   "cell_type": "code",
   "execution_count": 19,
   "metadata": {},
   "outputs": [
    {
     "name": "stdout",
     "output_type": "stream",
     "text": [
      "['Three Days of the Condor', 'American Beauty', 'Eat Drink Man Woman', 'The Door in the Floor', 'Bend It Like Beckham', 'Alex and Emma', 'Eternal Sunshine of the Spotless Mind', 'Talk to Her', 'Mean Machine', 'Elf', \"I'm Not Scared\", 'Napoleon Dynamite', 'About a Boy', 'The Last Kiss', 'Whale Rider', 'Garden State', 'Fever Pitch', 'Pelle the Conqueror', 'Me and You and Everyone We Know', 'The Mother', 'Seabiscuit', 'Malena', 'Baran', 'The Story of the Weeping Camel', 'Collateral', 'The Color of Paradise', 'City of God', 'Under the Sand', 'Love Me If You Dare', \"I'll Sleep When I'm Dead\", 'The Official Story', 'Cold Mountain', 'Pulp Fiction', 'Lord of the Rings: The Two Towers', 'The Crime of Padre Amaro', 'Twisted', 'Lost in Translation', 'Under the Sun', 'Troy', 'A Home at the End of the World', 'Children of Heaven', 'The Piano Teacher', 'Spider-Man', 'King Arthur', 'Dogville', 'The Day After Tomorrow', 'Last Orders', 'Van Helsing', 'Winged Migration', 'American Splendor', 'Wimbledon', \"We Don't Live Here Anymore\", 'Bread and Tulips']\n"
     ]
    }
   ],
   "source": [
    "print([x for x in artistsForUser if x is not None])"
   ]
  },
  {
   "cell_type": "code",
   "execution_count": 20,
   "metadata": {},
   "outputs": [
    {
     "data": {
      "text/plain": [
       "54"
      ]
     },
     "execution_count": 20,
     "metadata": {},
     "output_type": "execute_result"
    }
   ],
   "source": [
    "len(artistsForUser)"
   ]
  },
  {
   "cell_type": "code",
   "execution_count": 23,
   "metadata": {},
   "outputs": [
    {
     "name": "stdout",
     "output_type": "stream",
     "text": [
      "['King Lear', 'Heimat', 'Rumpole of the Bailey: Series 7', 'Shakira: Live and Off the Record', 'The Flowers of St. Francis', 'Paheli', 'Goddess of Mercy', 'Rumpole of the Bailey: Series 5', 'Pride FC: Body Blow', 'Hamish Macbeth: Season 1', 'Babylon 5: Season 4', 'The Quick & Dirty Guide to Salsa: Part 1: Beginners', \"Kiki's Delivery Service: Bonus Material\", 'Midori Days', 'Buffy the Vampire Slayer: Season 3', 'Main Hoon Na', 'Gadjo Dilo', 'Beyonce: Live at Wembley', 'Fighter Pilot: Operation Red Flag', 'Babylon 5: Season 2', 'Babylon 5: Season 3', 'Life of Rayful Edmond: The Rise & Fall 1', 'Storm Over Asia', 'Catnapped! The Movie', 'Samurai Trilogy 3: Duel at Ganryu Island', 'Hop', 'Rumpole of the Bailey: Series 6', 'Wing Chun', 'Babylon 5: In the Beginning', 'Viruddh', 'Ah! My Goddess', 'Otogi Zoshi', 'My Beautiful Girl Mari', 'Jubei Chan 2: The Counter Attack of Siberia Yagyu', 'Kill!', 'Banner of the Stars II', 'Buffy the Vampire Slayer: Season 2', 'Island of Greed', 'Buffy the Vampire Slayer: Season 4', 'A History of God', 'Star Trek: Deep Space Nine: Season 6', 'Star Trek: Deep Space Nine: Season 4', 'Veer-Zaara', 'Minsara Kanavu: Tamil', 'Buffy the Vampire Slayer: Season 6', 'Angel: Season 2', 'Buffy the Vampire Slayer: Season 1', 'Farscape: Season 4', 'Seven Samurai', 'Corrs: Live at The Royal Albert Hall', 'Angel: Season 3', 'Farscape: Season 3', 'Star Trek: Deep Space Nine: Season 2', 'Mermaid Forest', \"Zatoichi's Conspiracy\", 'Our Mutual Friend', 'NFL: Pittsburgh Steelers: The Complete History', 'Star Trek: Deep Space Nine: Season 5', 'Buffy the Vampire Slayer: Season 5', 'Island Girl Dance Fitness Workout for Beginners: Hula', 'Orfeu', 'Angel: Season 1', 'Angel: Season 5', 'Star Trek: Deep Space Nine: Season 7', 'Angel: Season 4', 'Spirited Away', 'Basic Elements: My Complete Fitness Guide', 'Princess Nine', 'Thomas & Friends: 10 Years of Thomas', 'American Mormon', 'Star Trek: Voyager: Season 5', 'Buffy the Vampire Slayer: Season 7', 'Samurai Trilogy 2: Duel at Ichijoji Temple', 'Musafir', 'Star Trek: Voyager: Season 7', 'Samurai Rebellion', 'Ikiru: Bonus Material', 'Dil Pe Mat Le Yaar!!', 'China: The Panda Adventure: IMAX', 'Oliver Stone Presents: Bang Rajan', 'Babylon 5: A Call to Arms', 'Star Trek: Voyager: Season 6', 'Farscape: The Peacekeeper Wars', \"Alice's Adventures in Wonderland\", 'Tenchi Muyo! Ryo Ohki', 'Mezzo Forte', 'Star Trek: Deep Space Nine: Season 3', \"Pokemon Master Quest: Collector's Box: Quest 2\", 'Tenchi Forever: Tenchi Muyo in Love 2', 'It All Starts Today', 'Woman in the Moon', 'Dragon Ball Z: Vol. 2: The Saiyans', 'Castle in the Sky: Bonus Material', 'Magical Shopping Arcade Abenobashi', 'Banner of the Stars', 'Babylon 5: Season 1', 'Yojimbo', 'Star Trek: Voyager: Season 4', 'Red Beard']\n"
     ]
    }
   ],
   "source": [
    "num_recomm = 100 \n",
    "recommendationsForUser = map(lambda observation: movie_name_all.get(observation.product), model.call(\"recommendProducts\", testUserID, num_recomm))\n",
    "print([x for x in recommendationsForUser if x is not None])"
   ]
  },
  {
   "cell_type": "code",
   "execution_count": null,
   "metadata": {},
   "outputs": [],
   "source": []
  }
 ],
 "metadata": {
  "kernelspec": {
   "display_name": "DS 5110",
   "language": "python",
   "name": "ds5110"
  },
  "language_info": {
   "codemirror_mode": {
    "name": "ipython",
    "version": 3
   },
   "file_extension": ".py",
   "mimetype": "text/x-python",
   "name": "python",
   "nbconvert_exporter": "python",
   "pygments_lexer": "ipython3",
   "version": "3.7.10"
  }
 },
 "nbformat": 4,
 "nbformat_minor": 4
}
